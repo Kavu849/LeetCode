{
  "nbformat": 4,
  "nbformat_minor": 0,
  "metadata": {
    "colab": {
      "provenance": [],
      "authorship_tag": "ABX9TyPXGKzKxwj8PT0PR7lBx2k6",
      "include_colab_link": true
    },
    "kernelspec": {
      "name": "python3",
      "display_name": "Python 3"
    },
    "language_info": {
      "name": "python"
    }
  },
  "cells": [
    {
      "cell_type": "markdown",
      "metadata": {
        "id": "view-in-github",
        "colab_type": "text"
      },
      "source": [
        "<a href=\"https://colab.research.google.com/github/Kavu849/LeetCode_DSA/blob/main/200_number_of_islands.ipynb\" target=\"_parent\"><img src=\"https://colab.research.google.com/assets/colab-badge.svg\" alt=\"Open In Colab\"/></a>"
      ]
    },
    {
      "cell_type": "markdown",
      "source": [
        "First solution, based on dfs. We iterate over the entire grid and execute the dfs until we reach the end of the island.\n",
        "\n",
        "Time complexity: O(m*n)\n",
        "\n",
        "Extra space complexity: O(m*n)"
      ],
      "metadata": {
        "id": "LyhZCVUTR2ml"
      }
    },
    {
      "cell_type": "code",
      "execution_count": null,
      "metadata": {
        "id": "LZlr_60DNGEx"
      },
      "outputs": [],
      "source": [
        "class Solution:\n",
        "    def numIslands(self, grid: List[List[str]]) -> int:\n",
        "        res = 0\n",
        "        rows, cols = len(grid), len(grid[0])\n",
        "        visited = set()\n",
        "\n",
        "        def dfs(r, c):\n",
        "            if min(r, c) < 0 or r == rows or c == cols or (r, c) in visited or grid[r][c] == \"0\":\n",
        "                return\n",
        "\n",
        "            visited.add((r, c))\n",
        "            dfs(r, c + 1)\n",
        "            dfs(r - 1, c)\n",
        "            dfs(r, c - 1)\n",
        "            dfs(r + 1, c)\n",
        "\n",
        "        for r in range(rows):\n",
        "            for c in range(cols):\n",
        "                if grid[r][c] == \"1\" and (r, c) not in visited:\n",
        "                    res += 1\n",
        "                    dfs(r, c)\n",
        "        return res"
      ]
    },
    {
      "cell_type": "markdown",
      "source": [
        "Same idea but we use bfs instead.\n",
        "\n",
        "Time complexity: O(m*n)\n",
        "\n",
        "Extra space complexity: O(m*n)"
      ],
      "metadata": {
        "id": "EbtaUBvDXLXy"
      }
    },
    {
      "cell_type": "code",
      "source": [
        "class Solution:\n",
        "    def numIslands(self, grid: List[List[str]]) -> int:\n",
        "        res = 0\n",
        "        rows, cols = len(grid), len(grid[0])\n",
        "        visited = set()\n",
        "        directions = [[0, 1], [-1, 0], [0, -1], [1, 0]]\n",
        "\n",
        "        def bfs(r, c):\n",
        "            queue = deque()\n",
        "            queue.append((r, c))\n",
        "\n",
        "            while queue:\n",
        "                r, c = queue.popleft()\n",
        "                for dr, dc in directions:\n",
        "                    if (r + dr) >= 0 and (c + dc) >= 0 and (r + dr) < rows and (c + dc) < cols and (r + dr, c + dc) not in visited and grid[r + dr][c + dc] == \"1\":\n",
        "                        visited.add((r + dr, c + dc))\n",
        "                        queue.append((r + dr, c + dc))\n",
        "\n",
        "\n",
        "        for r in range(rows):\n",
        "            for c in range(cols):\n",
        "                if grid[r][c] == \"1\" and (r, c) not in visited:\n",
        "                    res += 1\n",
        "                    bfs(r, c)\n",
        "\n",
        "        return res"
      ],
      "metadata": {
        "id": "lmFmyMwaR10P"
      },
      "execution_count": null,
      "outputs": []
    }
  ]
}