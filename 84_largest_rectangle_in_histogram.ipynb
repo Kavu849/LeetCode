{
  "nbformat": 4,
  "nbformat_minor": 0,
  "metadata": {
    "colab": {
      "provenance": [],
      "authorship_tag": "ABX9TyNqmmpHGD/KWKnK9ClY0lx6",
      "include_colab_link": true
    },
    "kernelspec": {
      "name": "python3",
      "display_name": "Python 3"
    },
    "language_info": {
      "name": "python"
    }
  },
  "cells": [
    {
      "cell_type": "markdown",
      "metadata": {
        "id": "view-in-github",
        "colab_type": "text"
      },
      "source": [
        "<a href=\"https://colab.research.google.com/github/Kavu849/LeetCode_DSA/blob/main/84_largest_rectangle_in_histogram.ipynb\" target=\"_parent\"><img src=\"https://colab.research.google.com/assets/colab-badge.svg\" alt=\"Open In Colab\"/></a>"
      ]
    },
    {
      "cell_type": "markdown",
      "source": [
        "Optimal solution. THe idea is that a given bar can increase (to the right) the area of the rectangle it is contributing to, if the next bar is of the same height or higher. If the next bar is of smaller height, we pop the previous bar and shift the index of the next bar to the left by one. We continue this process until we can, building a stack. In the end, we iterate (to the right) over the rectangles in the stack and check if their areas are bigger than the previously found max area. Time complexity: O(n)."
      ],
      "metadata": {
        "id": "g1qzbphKJ7RW"
      }
    },
    {
      "cell_type": "code",
      "execution_count": null,
      "metadata": {
        "id": "XKCW1gPNrswr"
      },
      "outputs": [],
      "source": [
        "class Solution:\n",
        "    def largestRectangleArea(self, heights: List[int]) -> int:\n",
        "\n",
        "        # p - position, h - height\n",
        "        stack = []\n",
        "        max_a = 0\n",
        "\n",
        "        for p, h in enumerate(heights):\n",
        "            start = p\n",
        "            while stack and stack[-1][1] > h:\n",
        "                curr_ind, curr_h = stack.pop()\n",
        "                max_a = max(max_a, curr_h * (p - curr_ind))\n",
        "                start = curr_ind\n",
        "            stack.append([start, h])\n",
        "\n",
        "        len_s = len(stack)\n",
        "        for ind, h in stack:\n",
        "            max_a = max(max_a, h * (len(heights) - ind))\n",
        "\n",
        "        return max_a"
      ]
    }
  ]
}