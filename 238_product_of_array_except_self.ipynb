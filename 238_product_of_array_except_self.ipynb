{
  "nbformat": 4,
  "nbformat_minor": 0,
  "metadata": {
    "colab": {
      "provenance": [],
      "authorship_tag": "ABX9TyN58jIVR0qYNJbc8lKPsxlx",
      "include_colab_link": true
    },
    "kernelspec": {
      "name": "python3",
      "display_name": "Python 3"
    },
    "language_info": {
      "name": "python"
    }
  },
  "cells": [
    {
      "cell_type": "markdown",
      "metadata": {
        "id": "view-in-github",
        "colab_type": "text"
      },
      "source": [
        "<a href=\"https://colab.research.google.com/github/Kavu849/LeetCode/blob/main/238_product_of_array_except_self.ipynb\" target=\"_parent\"><img src=\"https://colab.research.google.com/assets/colab-badge.svg\" alt=\"Open In Colab\"/></a>"
      ]
    },
    {
      "cell_type": "markdown",
      "source": [
        "First solution, with prefix and postfix tables. Takes extra space. Time complexity: O(n)"
      ],
      "metadata": {
        "id": "FwkHIcDBwadr"
      }
    },
    {
      "cell_type": "code",
      "source": [
        "class Solution(object):\n",
        "    def productExceptSelf(self, nums):\n",
        "        \"\"\"\n",
        "        :type nums: List[int]\n",
        "        :rtype: List[int]\n",
        "        \"\"\"\n",
        "        # solution with prefixes and postfixes\n",
        "        prefix = [1] * (len(nums)+2)\n",
        "        postfix = [1] * (len(nums)+2)\n",
        "        output = [0] * len(nums)\n",
        "\n",
        "        for i in range(1, len(nums)+1):\n",
        "            prefix[i] = prefix[i-1]*nums[i-1]\n",
        "            postfix[-(i+1)] = postfix[-i]*nums[-i]\n",
        "\n",
        "        for i in range(len(nums)):\n",
        "            output[i] = prefix[i]*postfix[i+2]\n",
        "\n",
        "        return output"
      ],
      "metadata": {
        "id": "MSbk5QYq6snA"
      },
      "execution_count": null,
      "outputs": []
    },
    {
      "cell_type": "markdown",
      "source": [
        "Second solution. Time complexity O(n), but without storing the extra prefix/postfix tables"
      ],
      "metadata": {
        "id": "2QvHEOd273ZU"
      }
    },
    {
      "cell_type": "code",
      "source": [
        "class Solution(object):\n",
        "    def productExceptSelf(self, nums):\n",
        "        \"\"\"\n",
        "        :type nums: List[int]\n",
        "        :rtype: List[int]\n",
        "        \"\"\"\n",
        "        # solution without storing the extra prefix/postfix tables\n",
        "\n",
        "        output = [1] * len(nums)\n",
        "        prefix = 1 #default value\n",
        "        postfix = 1 #default value\n",
        "\n",
        "        for i in range(len(nums)):\n",
        "            output[i] = prefix\n",
        "            prefix = prefix * nums[i]\n",
        "\n",
        "        for i in range(len(nums)-1, -1, -1):\n",
        "            output[i] = postfix * output[i]\n",
        "            postfix = postfix * nums[i]\n",
        "\n",
        "        return output"
      ],
      "metadata": {
        "id": "cpag0wsD7-t1"
      },
      "execution_count": null,
      "outputs": []
    }
  ]
}