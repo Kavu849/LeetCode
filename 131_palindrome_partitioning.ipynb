{
  "nbformat": 4,
  "nbformat_minor": 0,
  "metadata": {
    "colab": {
      "provenance": [],
      "authorship_tag": "ABX9TyPZxN5uzUHVAjl+SLI0wcQQ",
      "include_colab_link": true
    },
    "kernelspec": {
      "name": "python3",
      "display_name": "Python 3"
    },
    "language_info": {
      "name": "python"
    }
  },
  "cells": [
    {
      "cell_type": "markdown",
      "metadata": {
        "id": "view-in-github",
        "colab_type": "text"
      },
      "source": [
        "<a href=\"https://colab.research.google.com/github/Kavu849/LeetCode_DSA/blob/main/131_palindrome_partitioning.ipynb\" target=\"_parent\"><img src=\"https://colab.research.google.com/assets/colab-badge.svg\" alt=\"Open In Colab\"/></a>"
      ]
    },
    {
      "cell_type": "markdown",
      "source": [
        "Backtracking solution. For every index 'i', we will see if to the result we can add a way of partitioning the string which will contain s[i: j + 1] as an element of that partition (checked by using the additional 'isPalindrome' function). If we can, then we add it to the current path and then we recursively try to partition the remaining string.\n",
        "\n",
        "Time complexity: O(n*2^n)\n",
        "\n",
        "Extra space complexity: O(n*2^n)"
      ],
      "metadata": {
        "id": "-TWV02f7y0fx"
      }
    },
    {
      "cell_type": "code",
      "execution_count": null,
      "metadata": {
        "id": "PnGFACsNy0Dh"
      },
      "outputs": [],
      "source": [
        "class Solution:\n",
        "    def partition(self, s: str) -> List[List[str]]:\n",
        "        currPart, res = [], []\n",
        "\n",
        "        def helper(i):\n",
        "            if i == len(s):\n",
        "                res.append(currPart.copy())\n",
        "                return\n",
        "\n",
        "            for j in range(i, len(s)):\n",
        "                if self.isPalindrome(s, i, j):\n",
        "                    currPart.append(s[i: j + 1])  # we add a new element of a particular partition\n",
        "                    helper(j + 1)\n",
        "                    currPart.pop()\n",
        "\n",
        "        helper(0)\n",
        "        return res\n",
        "\n",
        "    def isPalindrome(self, s, l, r):\n",
        "        while l < r:\n",
        "            if s[l] != s[r]:\n",
        "                return False\n",
        "            l += 1\n",
        "            r -= 1\n",
        "        return True\n",
        "\n",
        "    # could also use alternative definition of isPalindrome, requires reversing the string\n",
        "    #def isPalindrome(self, s):\n",
        "    #    return s == s[::-1]\n"
      ]
    }
  ]
}