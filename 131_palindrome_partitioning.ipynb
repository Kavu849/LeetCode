{
  "nbformat": 4,
  "nbformat_minor": 0,
  "metadata": {
    "colab": {
      "provenance": [],
      "authorship_tag": "ABX9TyPtVjVzkp+QsT4kn0x7yJUw",
      "include_colab_link": true
    },
    "kernelspec": {
      "name": "python3",
      "display_name": "Python 3"
    },
    "language_info": {
      "name": "python"
    }
  },
  "cells": [
    {
      "cell_type": "markdown",
      "metadata": {
        "id": "view-in-github",
        "colab_type": "text"
      },
      "source": [
        "<a href=\"https://colab.research.google.com/github/Kavu849/LeetCode_DSA/blob/main/131_palindrome_partitioning.ipynb\" target=\"_parent\"><img src=\"https://colab.research.google.com/assets/colab-badge.svg\" alt=\"Open In Colab\"/></a>"
      ]
    },
    {
      "cell_type": "markdown",
      "source": [
        "Backtracking solution. We iterate over all partitions of the string 's' and add to the list of partitions if we encounter a palindrome (checked by using the additional 'isPalindrome' function).\n",
        "\n",
        "Time complexity: O(2^n) (or is it O(n*2^n)?)\n",
        "\n",
        "Extra space complexity: O(2^n)"
      ],
      "metadata": {
        "id": "-TWV02f7y0fx"
      }
    },
    {
      "cell_type": "code",
      "execution_count": null,
      "metadata": {
        "id": "PnGFACsNy0Dh"
      },
      "outputs": [],
      "source": [
        "class Solution:\n",
        "    def partition(self, s: str) -> List[List[str]]:\n",
        "        currPart, res = [], []\n",
        "\n",
        "        def backtracking(i):\n",
        "            if i >= len(s):\n",
        "                res.append(currPart.copy())\n",
        "                return\n",
        "\n",
        "            for j in range(i, len(s)):\n",
        "                if self.isPalindrome(s[i: j + 1]):\n",
        "                    currPart.append(s[i: j + 1])\n",
        "                    backtracking(j + 1)\n",
        "                    currPart.pop()\n",
        "\n",
        "        backtracking(0)\n",
        "        return res\n",
        "\n",
        "    def isPalindrome(self, s):\n",
        "        return s == s[::-1]\n"
      ]
    }
  ]
}