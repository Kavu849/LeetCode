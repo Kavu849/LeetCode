{
  "nbformat": 4,
  "nbformat_minor": 0,
  "metadata": {
    "colab": {
      "provenance": [],
      "authorship_tag": "ABX9TyOPn0Qc9x5biTcwGNJ27Q+q",
      "include_colab_link": true
    },
    "kernelspec": {
      "name": "python3",
      "display_name": "Python 3"
    },
    "language_info": {
      "name": "python"
    }
  },
  "cells": [
    {
      "cell_type": "markdown",
      "metadata": {
        "id": "view-in-github",
        "colab_type": "text"
      },
      "source": [
        "<a href=\"https://colab.research.google.com/github/Kavu849/LeetCode/blob/main/150_evaluate_reverse_polish_notation.ipynb\" target=\"_parent\"><img src=\"https://colab.research.google.com/assets/colab-badge.svg\" alt=\"Open In Colab\"/></a>"
      ]
    },
    {
      "cell_type": "markdown",
      "source": [
        "First solution, time complexity O(n)"
      ],
      "metadata": {
        "id": "zCnqeiJ910Rk"
      }
    },
    {
      "cell_type": "code",
      "source": [
        "class Solution:\n",
        "    def evalRPN(self, tokens: List[str]) -> int:\n",
        "        stack = []\n",
        "\n",
        "        for i in tokens:\n",
        "            if i == '+':\n",
        "                stack.append(stack.pop() + stack.pop())\n",
        "            elif i == '-':\n",
        "                a = stack.pop()\n",
        "                b = stack.pop()\n",
        "                stack.append(b - a)\n",
        "            elif i == '*':\n",
        "                stack.append(stack.pop() * stack.pop())\n",
        "            elif i == '/':\n",
        "                a = stack.pop()\n",
        "                b = stack.pop()\n",
        "                stack.append(int(b / a))\n",
        "            else:\n",
        "                stack.append(eval(i))\n",
        "        return stack[0]\n",
        ""
      ],
      "metadata": {
        "id": "Cx6WhvKHzZF4"
      },
      "execution_count": null,
      "outputs": []
    }
  ]
}