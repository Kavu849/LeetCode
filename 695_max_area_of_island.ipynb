{
  "nbformat": 4,
  "nbformat_minor": 0,
  "metadata": {
    "colab": {
      "provenance": [],
      "authorship_tag": "ABX9TyPB20T73X972dQApNXGLhBL",
      "include_colab_link": true
    },
    "kernelspec": {
      "name": "python3",
      "display_name": "Python 3"
    },
    "language_info": {
      "name": "python"
    }
  },
  "cells": [
    {
      "cell_type": "markdown",
      "metadata": {
        "id": "view-in-github",
        "colab_type": "text"
      },
      "source": [
        "<a href=\"https://colab.research.google.com/github/Kavu849/LeetCode_DSA/blob/main/695_max_area_of_island.ipynb\" target=\"_parent\"><img src=\"https://colab.research.google.com/assets/colab-badge.svg\" alt=\"Open In Colab\"/></a>"
      ]
    },
    {
      "cell_type": "markdown",
      "source": [
        "Solution using the bfs approach. We iterate through the entire grid and start if we encounter a 1 on the position that has not been visited yet. Then, we process the node and add all its valid neighbors to the queue. Every time we add a valid neighbor, we increase the size of the island by 1. The bfs function will return the size of the island starting on a valid position. Then we just compare that size to the current max size.\n",
        "\n",
        "Time complexity: O(m*n)\n",
        "\n",
        "Extra space complexity: O(m*n)"
      ],
      "metadata": {
        "id": "85ffH2_reZ57"
      }
    },
    {
      "cell_type": "code",
      "execution_count": null,
      "metadata": {
        "id": "GsJ1T99zdOke"
      },
      "outputs": [],
      "source": [
        "class Solution:\n",
        "    def maxAreaOfIsland(self, grid: List[List[int]]) -> int:\n",
        "        max_area = 0\n",
        "        visited = set()\n",
        "        rows, cols = len(grid), len(grid[0])\n",
        "        directions = [[0, 1], [-1, 0], [0, -1], [1, 0]]\n",
        "\n",
        "        def bfs(r, c):\n",
        "            queue = deque()\n",
        "            queue.append((r, c))\n",
        "            visited.add((r, c))\n",
        "            area = 1\n",
        "\n",
        "            while queue:\n",
        "                r, c = queue.popleft()\n",
        "\n",
        "                for dr, dc in directions:\n",
        "                    if (r + dr) >= 0 and (c + dc) >= 0 and (r + dr) < rows and (c + dc) < cols and grid[r + dr][c + dc] == 1 and (r + dr, c + dc) not in visited:\n",
        "                        visited.add((r + dr, c + dc))\n",
        "                        queue.append((r + dr, c + dc))\n",
        "                        area += 1\n",
        "\n",
        "            return area\n",
        "\n",
        "        for r in range(rows):\n",
        "            for c in range(cols):\n",
        "                if grid[r][c] == 1 and (r, c) not in visited:\n",
        "                    max_area = max(max_area, bfs(r, c))\n",
        "\n",
        "        return max_area"
      ]
    },
    {
      "cell_type": "markdown",
      "source": [
        "Same idea but using dfs. Note that the dfs function will return 1 + four calls of dfs, each on the neighboring square. That way we accumulate the size of the current island.\n",
        "\n",
        "Time complexity: O(m*n)\n",
        "\n",
        "Extra space complexity: O(m*n)"
      ],
      "metadata": {
        "id": "txh7PeisfG1l"
      }
    },
    {
      "cell_type": "code",
      "source": [
        "class Solution:\n",
        "    def maxAreaOfIsland(self, grid: List[List[int]]) -> int:\n",
        "        rows, cols = len(grid), len(grid[0])\n",
        "        visited = set()\n",
        "        directions = [[0, 1], [-1, 0], [0, -1], [1, 0]]\n",
        "        max_area = 0\n",
        "\n",
        "        def dfs(r, c):\n",
        "            if r < 0 or r == rows or c < 0 or c == cols or grid[r][c] == 0 or (r, c) in visited:\n",
        "                return 0\n",
        "            visited.add((r, c))\n",
        "            return 1 + dfs(r, c + 1) + dfs(r - 1, c) + dfs(r, c - 1) + dfs(r + 1, c)\n",
        "\n",
        "        for r in range(rows):\n",
        "            for c in range(cols):\n",
        "                if grid[r][c] == 1 and (r, c) not in visited:\n",
        "                    max_area = max(max_area, dfs(r, c))\n",
        "\n",
        "        return max_area"
      ],
      "metadata": {
        "id": "no4ANMVMeZV8"
      },
      "execution_count": null,
      "outputs": []
    }
  ]
}