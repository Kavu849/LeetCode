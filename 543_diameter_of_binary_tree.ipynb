{
  "nbformat": 4,
  "nbformat_minor": 0,
  "metadata": {
    "colab": {
      "provenance": [],
      "authorship_tag": "ABX9TyPj0WKetsj/CmCGnbWIl6mX",
      "include_colab_link": true
    },
    "kernelspec": {
      "name": "python3",
      "display_name": "Python 3"
    },
    "language_info": {
      "name": "python"
    }
  },
  "cells": [
    {
      "cell_type": "markdown",
      "metadata": {
        "id": "view-in-github",
        "colab_type": "text"
      },
      "source": [
        "<a href=\"https://colab.research.google.com/github/Kavu849/LeetCode_DSA/blob/main/543_diameter_of_binary_tree.ipynb\" target=\"_parent\"><img src=\"https://colab.research.google.com/assets/colab-badge.svg\" alt=\"Open In Colab\"/></a>"
      ]
    },
    {
      "cell_type": "markdown",
      "source": [
        "Diameter of a binary tree, using recursion. Time complexity: O(n)"
      ],
      "metadata": {
        "id": "ETFMH6Xkg7nM"
      }
    },
    {
      "cell_type": "code",
      "execution_count": null,
      "metadata": {
        "id": "uX0jEdbbgx2J"
      },
      "outputs": [],
      "source": [
        "# Definition for a binary tree node.\n",
        "# class TreeNode:\n",
        "#     def __init__(self, val=0, left=None, right=None):\n",
        "#         self.val = val\n",
        "#         self.left = left\n",
        "#         self.right = right\n",
        "class Solution:\n",
        "    def diameterOfBinaryTree(self, root: Optional[TreeNode]) -> int:\n",
        "        res = [0]\n",
        "\n",
        "        def height(node):\n",
        "            if node is None:\n",
        "                return 0\n",
        "            # Calculate the left and right heights\n",
        "            lheight = height(node.left)\n",
        "            rheight = height(node.right)\n",
        "            # Calculate the possible diameter, treating the current node as the root and update diameter\n",
        "            res[0] = max(res[0], lheight + rheight)\n",
        "            # return the height\n",
        "            return 1 + max(lheight, rheight)\n",
        "\n",
        "        # Run the height function on our root\n",
        "        height(root)\n",
        "        # Now, res[0] stores the diameter, since it accounts for the case when the root belongs to the diameter tree\n",
        "        return res[0]\n"
      ]
    }
  ]
}