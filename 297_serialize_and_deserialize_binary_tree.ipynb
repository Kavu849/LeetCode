{
  "nbformat": 4,
  "nbformat_minor": 0,
  "metadata": {
    "colab": {
      "provenance": [],
      "authorship_tag": "ABX9TyOtq6TBisaSpzVWTjPGhMYu",
      "include_colab_link": true
    },
    "kernelspec": {
      "name": "python3",
      "display_name": "Python 3"
    },
    "language_info": {
      "name": "python"
    }
  },
  "cells": [
    {
      "cell_type": "markdown",
      "metadata": {
        "id": "view-in-github",
        "colab_type": "text"
      },
      "source": [
        "<a href=\"https://colab.research.google.com/github/Kavu849/LeetCode_DSA/blob/main/297_serialize_and_deserialize_binary_tree.ipynb\" target=\"_parent\"><img src=\"https://colab.research.google.com/assets/colab-badge.svg\" alt=\"Open In Colab\"/></a>"
      ]
    },
    {
      "cell_type": "markdown",
      "source": [
        "Recursive solurion using dfs. Rather straightforward idea.\n",
        "\n",
        "Time complexity: O(n)\n",
        "\n",
        "Extra space complexity: O(n)"
      ],
      "metadata": {
        "id": "4xiaLPT9ooI4"
      }
    },
    {
      "cell_type": "code",
      "execution_count": null,
      "metadata": {
        "id": "xjt7vzPVn_HB"
      },
      "outputs": [],
      "source": [
        "# Definition for a binary tree node.\n",
        "# class TreeNode(object):\n",
        "#     def __init__(self, x):\n",
        "#         self.val = x\n",
        "#         self.left = None\n",
        "#         self.right = None\n",
        "\n",
        "class Codec:\n",
        "\n",
        "    def serialize(self, root):\n",
        "        \"\"\"Encodes a tree to a single string.\n",
        "\n",
        "        :type root: TreeNode\n",
        "        :rtype: str\n",
        "        \"\"\"\n",
        "        res = []\n",
        "\n",
        "        def dfs(root):\n",
        "            if root is None:\n",
        "                res.append(\"N\")\n",
        "                return\n",
        "            res.append(str(root.val))\n",
        "            dfs(root.left)\n",
        "            dfs(root.right)\n",
        "\n",
        "        dfs(root)\n",
        "        return \",\".join(res)\n",
        "\n",
        "    def deserialize(self, data):\n",
        "        \"\"\"Decodes your encoded data to tree.\n",
        "\n",
        "        :type data: str\n",
        "        :rtype: TreeNode\n",
        "        \"\"\"\n",
        "        data = data.split(\",\")\n",
        "        self.i = 0\n",
        "\n",
        "        def dfs():\n",
        "            if data[self.i] == 'N':\n",
        "                self.i += 1\n",
        "                return None\n",
        "\n",
        "            node = TreeNode(int(data[self.i]))\n",
        "            self.i += 1\n",
        "            node.left = dfs()\n",
        "            node.right = dfs()\n",
        "            return node\n",
        "\n",
        "        return dfs()\n",
        "\n",
        "# Your Codec object will be instantiated and called as such:\n",
        "# ser = Codec()\n",
        "# deser = Codec()\n",
        "# ans = deser.deserialize(ser.serialize(root))"
      ]
    },
    {
      "cell_type": "markdown",
      "source": [
        "Second solution, using level-order traversal and a queue. Note that in the 'serialize' function, we will push the Null nodes onto the queue. In the function 'deserialize', we guarantee that we are visiting correct correct children of a given node by incrementing the value of 'i' by 1 twice after every pop from the queue.\n",
        "\n",
        "Time complexity: O(n)\n",
        "\n",
        "Extra space complexity: O(n)"
      ],
      "metadata": {
        "id": "SZb3_BFljYVk"
      }
    },
    {
      "cell_type": "code",
      "source": [
        "# Definition for a binary tree node.\n",
        "# class TreeNode(object):\n",
        "#     def __init__(self, x):\n",
        "#         self.val = x\n",
        "#         self.left = None\n",
        "#         self.right = None\n",
        "\n",
        "class Codec:\n",
        "\n",
        "    def serialize(self, root):\n",
        "        \"\"\"Encodes a tree to a single string.\n",
        "\n",
        "        :type root: TreeNode\n",
        "        :rtype: str\n",
        "        \"\"\"\n",
        "        # followe the level-order fashion and use a queue to serialize the tree\n",
        "        if root is None:\n",
        "            return \"\"\n",
        "        res = []\n",
        "        queue = collections.deque()\n",
        "        queue.append(root)\n",
        "\n",
        "        while queue:\n",
        "            node = queue.popleft()\n",
        "            if node:\n",
        "                res.append(str(node.val))\n",
        "                queue.append(node.left)\n",
        "                queue.append(node.right)\n",
        "            else:\n",
        "                res.append('N')\n",
        "\n",
        "        return ','.join(res)\n",
        "\n",
        "    def deserialize(self, data):\n",
        "        \"\"\"Decodes your encoded data to tree.\n",
        "\n",
        "        :type data: str\n",
        "        :rtype: TreeNode\n",
        "        \"\"\"\n",
        "        if not data:\n",
        "            return None\n",
        "        # we will use a queue for the level-order tree building\n",
        "        vals = data.split(',')\n",
        "        n = len(vals)\n",
        "        queue = collections.deque()\n",
        "        root = TreeNode(int(vals[0]))\n",
        "        queue.append(root)\n",
        "        i = 0\n",
        "\n",
        "        while queue:\n",
        "            node = queue.popleft()\n",
        "            if i < (n - 1) and vals[i + 1] != 'N':\n",
        "                node.left = TreeNode(int(vals[i + 1]))\n",
        "                queue.append(node.left)\n",
        "            i += 1\n",
        "            if i < (n - 1) and vals[i + 1] != 'N':\n",
        "                node.right = TreeNode(int(vals[i + 1]))\n",
        "                queue.append(node.right)\n",
        "            i += 1\n",
        "\n",
        "        return root\n",
        "\n",
        "\n",
        "# Your Codec object will be instantiated and called as such:\n",
        "# ser = Codec()\n",
        "# deser = Codec()\n",
        "# ans = deser.deserialize(ser.serialize(root))"
      ],
      "metadata": {
        "id": "S6EO9IwojfZc"
      },
      "execution_count": null,
      "outputs": []
    }
  ]
}