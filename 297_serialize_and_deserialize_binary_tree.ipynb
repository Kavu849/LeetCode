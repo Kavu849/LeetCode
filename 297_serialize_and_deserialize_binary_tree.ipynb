{
  "nbformat": 4,
  "nbformat_minor": 0,
  "metadata": {
    "colab": {
      "provenance": [],
      "authorship_tag": "ABX9TyMwoRUuRtMhqwy98Qh/mmUF",
      "include_colab_link": true
    },
    "kernelspec": {
      "name": "python3",
      "display_name": "Python 3"
    },
    "language_info": {
      "name": "python"
    }
  },
  "cells": [
    {
      "cell_type": "markdown",
      "metadata": {
        "id": "view-in-github",
        "colab_type": "text"
      },
      "source": [
        "<a href=\"https://colab.research.google.com/github/Kavu849/LeetCode_DSA/blob/main/297_serialize_and_deserialize_binary_tree.ipynb\" target=\"_parent\"><img src=\"https://colab.research.google.com/assets/colab-badge.svg\" alt=\"Open In Colab\"/></a>"
      ]
    },
    {
      "cell_type": "markdown",
      "source": [
        "Recursive solurion using dfs. Rather straightforward idea.\n",
        "\n",
        "Time complexity: O(n)\n",
        "\n",
        "Extra space complexity: O(n)"
      ],
      "metadata": {
        "id": "4xiaLPT9ooI4"
      }
    },
    {
      "cell_type": "code",
      "execution_count": null,
      "metadata": {
        "id": "xjt7vzPVn_HB"
      },
      "outputs": [],
      "source": [
        "# Definition for a binary tree node.\n",
        "# class TreeNode(object):\n",
        "#     def __init__(self, x):\n",
        "#         self.val = x\n",
        "#         self.left = None\n",
        "#         self.right = None\n",
        "\n",
        "class Codec:\n",
        "\n",
        "    def serialize(self, root):\n",
        "        \"\"\"Encodes a tree to a single string.\n",
        "\n",
        "        :type root: TreeNode\n",
        "        :rtype: str\n",
        "        \"\"\"\n",
        "        res = []\n",
        "\n",
        "        def dfs(root):\n",
        "            if root is None:\n",
        "                res.append(\"N\")\n",
        "                return\n",
        "            res.append(str(root.val))\n",
        "            dfs(root.left)\n",
        "            dfs(root.right)\n",
        "\n",
        "        dfs(root)\n",
        "        return \",\".join(res)\n",
        "\n",
        "    def deserialize(self, data):\n",
        "        \"\"\"Decodes your encoded data to tree.\n",
        "\n",
        "        :type data: str\n",
        "        :rtype: TreeNode\n",
        "        \"\"\"\n",
        "        data = data.split(\",\")\n",
        "        self.i = 0\n",
        "\n",
        "        def dfs():\n",
        "            if data[self.i] == 'N':\n",
        "                self.i += 1\n",
        "                return None\n",
        "\n",
        "            node = TreeNode(int(data[self.i]))\n",
        "            self.i += 1\n",
        "            node.left = dfs()\n",
        "            node.right = dfs()\n",
        "            return node\n",
        "\n",
        "        return dfs()\n",
        "\n",
        "# Your Codec object will be instantiated and called as such:\n",
        "# ser = Codec()\n",
        "# deser = Codec()\n",
        "# ans = deser.deserialize(ser.serialize(root))"
      ]
    }
  ]
}