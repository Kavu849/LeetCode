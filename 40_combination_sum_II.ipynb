{
  "nbformat": 4,
  "nbformat_minor": 0,
  "metadata": {
    "colab": {
      "provenance": [],
      "authorship_tag": "ABX9TyOAQvg4qZNj221JT1bz1eyX",
      "include_colab_link": true
    },
    "kernelspec": {
      "name": "python3",
      "display_name": "Python 3"
    },
    "language_info": {
      "name": "python"
    }
  },
  "cells": [
    {
      "cell_type": "markdown",
      "metadata": {
        "id": "view-in-github",
        "colab_type": "text"
      },
      "source": [
        "<a href=\"https://colab.research.google.com/github/Kavu849/LeetCode_DSA/blob/main/40_combination_sum_II.ipynb\" target=\"_parent\"><img src=\"https://colab.research.google.com/assets/colab-badge.svg\" alt=\"Open In Colab\"/></a>"
      ]
    },
    {
      "cell_type": "markdown",
      "source": [
        "We first sort the array. To avoid duplicates, we add an extra 'if' condition inside the loop. The trick here is to use an extra variable 'prev' (set to -1, as all values in 'candidates' are assumed to be positive). That way in the next iteration of the loop, we will exclude using duplicate values. If in the 'if' statement we were to write 'j>0 and candidates[j-1] == candidates[j]', this wouldn't have worked, as we would eliminate the possibility of include the same value more than once (if it existed more than once in the array).\n",
        "\n",
        "Alternatively, instead of using the variable 'prev', we could write the 'if' statement as: 'if j > i and candidates[j - 1] == candidates[j]'\n",
        "\n",
        "Time complexity: O(2^n)\n",
        "\n",
        "Extra space complexity: O(2^n)"
      ],
      "metadata": {
        "id": "c0j3nOuO4Oyt"
      }
    },
    {
      "cell_type": "code",
      "execution_count": null,
      "metadata": {
        "id": "rRGruRNp4OC6"
      },
      "outputs": [],
      "source": [
        "class Solution:\n",
        "    def combinationSum2(self, candidates: List[int], target: int) -> List[List[int]]:\n",
        "        currComb, combinations = [], []\n",
        "        candidates.sort()\n",
        "\n",
        "        def helper(i):\n",
        "            if sum(currComb) >= target or i >= len(candidates):\n",
        "                if sum(currComb) == target:\n",
        "                    combinations.append(currComb.copy())\n",
        "                return\n",
        "\n",
        "            prev = -1\n",
        "            for j in range(i, len(candidates)):\n",
        "                if candidates[j] == prev:\n",
        "                    continue\n",
        "                currComb.append(candidates[j])\n",
        "                helper(j + 1)\n",
        "                currComb.pop()\n",
        "                prev = candidates[j]\n",
        "\n",
        "        helper(0)\n",
        "        return combinations"
      ]
    }
  ]
}