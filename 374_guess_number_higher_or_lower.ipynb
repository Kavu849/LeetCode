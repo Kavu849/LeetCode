{
  "nbformat": 4,
  "nbformat_minor": 0,
  "metadata": {
    "colab": {
      "provenance": [],
      "authorship_tag": "ABX9TyOyWSS8o4dRRaQaHQ1Ui8vl",
      "include_colab_link": true
    },
    "kernelspec": {
      "name": "python3",
      "display_name": "Python 3"
    },
    "language_info": {
      "name": "python"
    }
  },
  "cells": [
    {
      "cell_type": "markdown",
      "metadata": {
        "id": "view-in-github",
        "colab_type": "text"
      },
      "source": [
        "<a href=\"https://colab.research.google.com/github/Kavu849/LeetCode_DSA/blob/main/374_guess_number_higher_or_lower.ipynb\" target=\"_parent\"><img src=\"https://colab.research.google.com/assets/colab-badge.svg\" alt=\"Open In Colab\"/></a>"
      ]
    },
    {
      "cell_type": "markdown",
      "source": [
        "Simple binary search.\n",
        "\n",
        "Time complexity: O(logn)\n",
        "\n",
        "Extra space complexity: O(1)"
      ],
      "metadata": {
        "id": "r34cMOT7Fn5d"
      }
    },
    {
      "cell_type": "code",
      "execution_count": null,
      "metadata": {
        "id": "dNMLTZ_jFl9s"
      },
      "outputs": [],
      "source": [
        "# The guess API is already defined for you.\n",
        "# param num, your guess\n",
        "# return -1 if num is higher than the picked number\n",
        "#          1 if num is lower than the picked number\n",
        "#          otherwise return 0\n",
        "# def guess(num: int) -> int:\n",
        "\n",
        "class Solution:\n",
        "    def guessNumber(self, n: int) -> int:\n",
        "        l, r = 0, n\n",
        "\n",
        "        while l <= r:\n",
        "            m = (l + r) // 2\n",
        "            res = guess(m)\n",
        "\n",
        "            if res == -1:\n",
        "                r = m - 1\n",
        "            elif res == 1:\n",
        "                l = m + 1\n",
        "            else:\n",
        "                return m"
      ]
    }
  ]
}