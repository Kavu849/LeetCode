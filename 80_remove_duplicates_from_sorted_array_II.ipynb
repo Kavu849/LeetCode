{
  "nbformat": 4,
  "nbformat_minor": 0,
  "metadata": {
    "colab": {
      "provenance": [],
      "authorship_tag": "ABX9TyMmfvQMQJWC5y1ksmKjdmgp",
      "include_colab_link": true
    },
    "kernelspec": {
      "name": "python3",
      "display_name": "Python 3"
    },
    "language_info": {
      "name": "python"
    }
  },
  "cells": [
    {
      "cell_type": "markdown",
      "metadata": {
        "id": "view-in-github",
        "colab_type": "text"
      },
      "source": [
        "<a href=\"https://colab.research.google.com/github/Kavu849/LeetCode_DSA/blob/main/80_remove_duplicates_from_sorted_array_II.ipynb\" target=\"_parent\"><img src=\"https://colab.research.google.com/assets/colab-badge.svg\" alt=\"Open In Colab\"/></a>"
      ]
    },
    {
      "cell_type": "markdown",
      "source": [
        "Two pointers solution. Best to go over the algorithm to see how we adjust the values (for example, take nums = [1, 1, 1, 2, 2, 3]).\n",
        "\n",
        "Time complexity: O(n)\n",
        "\n",
        "Extra space complexity: O(1)"
      ],
      "metadata": {
        "id": "0YFNI6xzJ32C"
      }
    },
    {
      "cell_type": "code",
      "execution_count": null,
      "metadata": {
        "id": "X9mYyQvSJ3Fa"
      },
      "outputs": [],
      "source": [
        "class Solution:\n",
        "    def removeDuplicates(self, nums: List[int]) -> int:\n",
        "        l, r = 0, 0\n",
        "\n",
        "        while r < len(nums):\n",
        "            ctr = 1\n",
        "            while (r + 1) < len(nums) and nums[r] == nums[r + 1]:\n",
        "                ctr += 1\n",
        "                r += 1\n",
        "\n",
        "            for i in range(min(ctr, 2)):\n",
        "                nums[l] = nums[r]\n",
        "                l += 1\n",
        "            r += 1\n",
        "\n",
        "        return l"
      ]
    }
  ]
}