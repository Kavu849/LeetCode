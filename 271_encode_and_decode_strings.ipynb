{
  "nbformat": 4,
  "nbformat_minor": 0,
  "metadata": {
    "colab": {
      "provenance": [],
      "authorship_tag": "ABX9TyNwZOXQ5MKcTdFX4zej/ML4",
      "include_colab_link": true
    },
    "kernelspec": {
      "name": "python3",
      "display_name": "Python 3"
    },
    "language_info": {
      "name": "python"
    }
  },
  "cells": [
    {
      "cell_type": "markdown",
      "metadata": {
        "id": "view-in-github",
        "colab_type": "text"
      },
      "source": [
        "<a href=\"https://colab.research.google.com/github/Kavu849/LeetCode_DSA/blob/main/271_encode_and_decode_strings.ipynb\" target=\"_parent\"><img src=\"https://colab.research.google.com/assets/colab-badge.svg\" alt=\"Open In Colab\"/></a>"
      ]
    },
    {
      "cell_type": "markdown",
      "source": [
        "Optimal solution. The idea is that we encode a given string by placing a number (in str format) in front of the word, followed by a delimiter (in this case it's chosen to be '#'). Then, when the 'decode' function hits the delimiter, it knows how many characters to take when decoding.\n",
        "\n",
        "Time complexity: O(n)\n",
        "\n",
        "Extra space complexity: O(n)"
      ],
      "metadata": {
        "id": "cJrnz1ovTJR_"
      }
    },
    {
      "cell_type": "code",
      "execution_count": null,
      "metadata": {
        "id": "rkr-Dt5DS94x"
      },
      "outputs": [],
      "source": [
        "class Solution:\n",
        "\n",
        "    def encode(self, strs: List[str]) -> str:\n",
        "        res = \"\"\n",
        "        for s in strs:\n",
        "            length = len(s)\n",
        "            res += str(length) + \"#\" + s\n",
        "        return res\n",
        "\n",
        "    def decode(self, s: str) -> List[str]:\n",
        "        res = []\n",
        "        ptr = 0\n",
        "        length = 0\n",
        "        while ptr < len(s):\n",
        "            length = \"\"\n",
        "            while s[ptr] != '#':\n",
        "                length += s[ptr]\n",
        "                ptr += 1\n",
        "            res.append(s[ptr + 1: ptr + int(length) + 1])\n",
        "            ptr += int(length) + 1\n",
        "            print(res)\n",
        "        return res\n"
      ]
    }
  ]
}