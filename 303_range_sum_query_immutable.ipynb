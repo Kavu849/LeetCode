{
  "nbformat": 4,
  "nbformat_minor": 0,
  "metadata": {
    "colab": {
      "provenance": [],
      "authorship_tag": "ABX9TyPbVUuULT37scBowtkLhDON",
      "include_colab_link": true
    },
    "kernelspec": {
      "name": "python3",
      "display_name": "Python 3"
    },
    "language_info": {
      "name": "python"
    }
  },
  "cells": [
    {
      "cell_type": "markdown",
      "metadata": {
        "id": "view-in-github",
        "colab_type": "text"
      },
      "source": [
        "<a href=\"https://colab.research.google.com/github/Kavu849/LeetCode_DSA/blob/main/303_range_sum_query_immutable.ipynb\" target=\"_parent\"><img src=\"https://colab.research.google.com/assets/colab-badge.svg\" alt=\"Open In Colab\"/></a>"
      ]
    },
    {
      "cell_type": "markdown",
      "source": [
        "Standard prefix sum example.\n",
        "\n",
        "Time complexity: O(n) for initialization, O(1) for sumRange\n",
        "\n",
        "Extra space complexity: O(n)"
      ],
      "metadata": {
        "id": "RAEI4GESMRzQ"
      }
    },
    {
      "cell_type": "code",
      "execution_count": null,
      "metadata": {
        "id": "HNj7dJ6HMRYg"
      },
      "outputs": [],
      "source": [
        "class NumArray:\n",
        "\n",
        "    def __init__(self, nums: List[int]):\n",
        "        self.prefix = []\n",
        "        total = 0\n",
        "        for i in nums:\n",
        "            total += i\n",
        "            self.prefix.append(total)\n",
        "\n",
        "    def sumRange(self, left: int, right: int) -> int:\n",
        "        if left == 0:\n",
        "            return self.prefix[right]\n",
        "        else:\n",
        "            return self.prefix[right] - self.prefix[left - 1]\n",
        "\n",
        "\n",
        "# Your NumArray object will be instantiated and called as such:\n",
        "# obj = NumArray(nums)\n",
        "# param_1 = obj.sumRange(left,right)"
      ]
    }
  ]
}