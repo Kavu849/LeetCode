{
  "nbformat": 4,
  "nbformat_minor": 0,
  "metadata": {
    "colab": {
      "provenance": [],
      "authorship_tag": "ABX9TyMLMeAh27pbkBAUlEYsAAlb",
      "include_colab_link": true
    },
    "kernelspec": {
      "name": "python3",
      "display_name": "Python 3"
    },
    "language_info": {
      "name": "python"
    }
  },
  "cells": [
    {
      "cell_type": "markdown",
      "metadata": {
        "id": "view-in-github",
        "colab_type": "text"
      },
      "source": [
        "<a href=\"https://colab.research.google.com/github/Kavu849/LeetCode_DSA/blob/main/567_permutation_in_string.ipynb\" target=\"_parent\"><img src=\"https://colab.research.google.com/assets/colab-badge.svg\" alt=\"Open In Colab\"/></a>"
      ]
    },
    {
      "cell_type": "markdown",
      "source": [
        "First, brute-force solution, does not work for large inputs as time complexity is O(n*m) where n = len(s1), m = len(s2)"
      ],
      "metadata": {
        "id": "l-Z8HhRKhZga"
      }
    },
    {
      "cell_type": "code",
      "source": [
        "class Solution:\n",
        "    def checkInclusion(self, s1: str, s2: str) -> bool:\n",
        "\n",
        "\n",
        "        for l in range(len(s2)):\n",
        "            s1_copy = s1[:]\n",
        "            r = l\n",
        "            while s1_copy and r <= len(s2) - 1 and s2[r] in s1_copy:\n",
        "                s1_copy = s1_copy.replace(s2[r], '', 1)\n",
        "                r += 1\n",
        "            if not s1_copy: return True\n",
        "        return False\n"
      ],
      "metadata": {
        "id": "WLH9NOxzco6-"
      },
      "execution_count": null,
      "outputs": []
    },
    {
      "cell_type": "markdown",
      "source": [
        "Solution using sliding window, time complexity O(n)"
      ],
      "metadata": {
        "id": "gBLY_E21hlBo"
      }
    },
    {
      "cell_type": "code",
      "source": [
        "class Solution:\n",
        "    def checkInclusion(self, s1: str, s2: str) -> bool:\n",
        "\n",
        "        if len(s2) < len(s1):\n",
        "            return False\n",
        "\n",
        "        count_s1 = {}\n",
        "        count_wind = {} # count of characters in the initial window\n",
        "        for i in range(len(s1)):\n",
        "            count_s1[s1[i]] = 1 + count_s1.get(s1[i], 0)\n",
        "            count_wind[s2[i]] = 1 + count_wind.get(s2[i], 0)\n",
        "\n",
        "        if count_s1 == count_wind: return True # if they are initially the same\n",
        "\n",
        "        l, r = 0, len(s1) - 1\n",
        "\n",
        "        while r < len(s2) - 1:\n",
        "            matches = 0\n",
        "            count_wind[s2[l]] -= 1\n",
        "            l += 1\n",
        "            r += 1\n",
        "            count_wind[s2[r]] = 1 + count_wind.get(s2[r], 0)\n",
        "            for c in count_s1: #check if the windows are the same\n",
        "                if count_s1[c] == count_wind.get(c, 0):\n",
        "                    matches += count_s1[c]\n",
        "            if matches == len(s1): return True\n",
        "        return False"
      ],
      "metadata": {
        "id": "MSNuUu4ThkND"
      },
      "execution_count": null,
      "outputs": []
    }
  ]
}