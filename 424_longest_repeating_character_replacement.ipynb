{
  "nbformat": 4,
  "nbformat_minor": 0,
  "metadata": {
    "colab": {
      "provenance": [],
      "authorship_tag": "ABX9TyMoc9TTxvpr4gqnqNYafew+",
      "include_colab_link": true
    },
    "kernelspec": {
      "name": "python3",
      "display_name": "Python 3"
    },
    "language_info": {
      "name": "python"
    }
  },
  "cells": [
    {
      "cell_type": "markdown",
      "metadata": {
        "id": "view-in-github",
        "colab_type": "text"
      },
      "source": [
        "<a href=\"https://colab.research.google.com/github/Kavu849/LeetCode_DSA/blob/main/424_longest_repeating_character_replacement.ipynb\" target=\"_parent\"><img src=\"https://colab.research.google.com/assets/colab-badge.svg\" alt=\"Open In Colab\"/></a>"
      ]
    },
    {
      "cell_type": "markdown",
      "source": [
        "Solution using sliding window. Time complexity: O(n)"
      ],
      "metadata": {
        "id": "WbOptBcjUu6u"
      }
    },
    {
      "cell_type": "code",
      "source": [
        "class Solution:\n",
        "    def characterReplacement(self, s: str, k: int) -> int:\n",
        "        char_count = {}\n",
        "        l = 0\n",
        "\n",
        "        for r in range(len(s)):\n",
        "            char_count[s[r]] = 1 + char_count.get(s[r], 0)\n",
        "            longest = max(char_count.values())\n",
        "\n",
        "            if (r - l + 1 - longest) > k:\n",
        "                char_count[s[l]] -= 1\n",
        "                l += 1\n",
        "        return r - l + 1"
      ],
      "metadata": {
        "id": "BZLswsN8UuSP"
      },
      "execution_count": null,
      "outputs": []
    },
    {
      "cell_type": "markdown",
      "source": [
        "Optimal solution, difficult to see why we can keep the variable 'longest' as the max that continuously updates. Time complexity: O(n)"
      ],
      "metadata": {
        "id": "GjMXEeBERtm7"
      }
    },
    {
      "cell_type": "code",
      "source": [
        "class Solution:\n",
        "    def characterReplacement(self, s: str, k: int) -> int:\n",
        "        char_count = {}\n",
        "        l = 0\n",
        "        longest = 0\n",
        "\n",
        "        for r in range(len(s)):\n",
        "            char_count[s[r]] = 1 + char_count.get(s[r], 0)\n",
        "            longest = max(longest, char_count[s[r]])\n",
        "\n",
        "            if (r - l + 1 - longest) > k:\n",
        "                char_count[s[l]] -= 1\n",
        "                l += 1\n",
        "\n",
        "        return r - l + 1"
      ],
      "metadata": {
        "id": "OTGVZdpLOP7_"
      },
      "execution_count": null,
      "outputs": []
    }
  ]
}