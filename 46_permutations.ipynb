{
  "nbformat": 4,
  "nbformat_minor": 0,
  "metadata": {
    "colab": {
      "provenance": [],
      "authorship_tag": "ABX9TyPqaYzhVD3VhDYbz1SuhceH",
      "include_colab_link": true
    },
    "kernelspec": {
      "name": "python3",
      "display_name": "Python 3"
    },
    "language_info": {
      "name": "python"
    }
  },
  "cells": [
    {
      "cell_type": "markdown",
      "metadata": {
        "id": "view-in-github",
        "colab_type": "text"
      },
      "source": [
        "<a href=\"https://colab.research.google.com/github/Kavu849/LeetCode_DSA/blob/main/46_permutations.ipynb\" target=\"_parent\"><img src=\"https://colab.research.google.com/assets/colab-badge.svg\" alt=\"Open In Colab\"/></a>"
      ]
    },
    {
      "cell_type": "markdown",
      "source": [
        "Time complexity: O(n*n!)"
      ],
      "metadata": {
        "id": "o9rJwPbSPEhO"
      }
    },
    {
      "cell_type": "code",
      "execution_count": null,
      "metadata": {
        "id": "C6XELvqHOvOz"
      },
      "outputs": [],
      "source": [
        "class Solution:\n",
        "    def permute(self, nums: List[int]) -> List[List[int]]:\n",
        "        res = []\n",
        "        perm = []\n",
        "        used = [False for i in range(len(nums))]\n",
        "\n",
        "        def dfs(perm, used):\n",
        "            # stopping condition\n",
        "            if len(perm) == len(nums):\n",
        "                res.append(perm[:])\n",
        "                return\n",
        "            # branching\n",
        "            for i in range(len(nums)):\n",
        "                if used[i] == False:\n",
        "                    perm.append(nums[i])\n",
        "                    used[i] = True\n",
        "                    dfs(perm, used)\n",
        "                    perm.pop()\n",
        "                    used[i] = False\n",
        "\n",
        "        dfs(perm, used)\n",
        "        return res"
      ]
    }
  ]
}