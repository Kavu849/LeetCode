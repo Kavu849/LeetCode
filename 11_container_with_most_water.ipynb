{
  "nbformat": 4,
  "nbformat_minor": 0,
  "metadata": {
    "colab": {
      "provenance": [],
      "authorship_tag": "ABX9TyNyHdMZX+empTlFPvE1STaf",
      "include_colab_link": true
    },
    "kernelspec": {
      "name": "python3",
      "display_name": "Python 3"
    },
    "language_info": {
      "name": "python"
    }
  },
  "cells": [
    {
      "cell_type": "markdown",
      "metadata": {
        "id": "view-in-github",
        "colab_type": "text"
      },
      "source": [
        "<a href=\"https://colab.research.google.com/github/Kavu849/LeetCode/blob/main/11_container_with_most_water.ipynb\" target=\"_parent\"><img src=\"https://colab.research.google.com/assets/colab-badge.svg\" alt=\"Open In Colab\"/></a>"
      ]
    },
    {
      "cell_type": "markdown",
      "source": [
        "Optimal solution, given in O(n) time."
      ],
      "metadata": {
        "id": "N_Czdt_oSJqn"
      }
    },
    {
      "cell_type": "code",
      "execution_count": null,
      "metadata": {
        "id": "w8mBxNXjyvtw"
      },
      "outputs": [],
      "source": [
        "class Solution(object):\n",
        "    def maxArea(self, height):\n",
        "        \"\"\"\n",
        "        :type height: List[int]\n",
        "        :rtype: int\n",
        "        \"\"\"\n",
        "        l = 0\n",
        "        r = len(height) - 1\n",
        "        max_vol = 0\n",
        "\n",
        "        while l < r:\n",
        "            width = r - l\n",
        "            vol = width * min(height[l], height[r])\n",
        "            max_vol = max(max_vol, vol)\n",
        "\n",
        "            if height[l] <= height[r]:\n",
        "                l += 1\n",
        "            else:\n",
        "                r -= 1\n",
        "        return max_vol"
      ]
    }
  ]
}