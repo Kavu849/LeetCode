{
  "nbformat": 4,
  "nbformat_minor": 0,
  "metadata": {
    "colab": {
      "provenance": [],
      "authorship_tag": "ABX9TyPLdwJ1ydNEwSLNhe4RDmjm",
      "include_colab_link": true
    },
    "kernelspec": {
      "name": "python3",
      "display_name": "Python 3"
    },
    "language_info": {
      "name": "python"
    }
  },
  "cells": [
    {
      "cell_type": "markdown",
      "metadata": {
        "id": "view-in-github",
        "colab_type": "text"
      },
      "source": [
        "<a href=\"https://colab.research.google.com/github/Kavu849/LeetCode/blob/main/20_valid_parentheses.ipynb\" target=\"_parent\"><img src=\"https://colab.research.google.com/assets/colab-badge.svg\" alt=\"Open In Colab\"/></a>"
      ]
    },
    {
      "cell_type": "markdown",
      "source": [
        "First implementation, stack defined using a list and multiple if-else statements"
      ],
      "metadata": {
        "id": "2COtXJ6QRDZ4"
      }
    },
    {
      "cell_type": "code",
      "source": [
        "class Solution(object):\n",
        "    def isValid(self, s):\n",
        "        \"\"\"\n",
        "        :type s: str\n",
        "        :rtype: bool\n",
        "        \"\"\"\n",
        "\n",
        "        stack = []\n",
        "\n",
        "        for i in s:\n",
        "            print(i)\n",
        "\n",
        "        for i in s:\n",
        "            if i in {'(','[','{'}:\n",
        "                stack.append(i)\n",
        "            elif i == ')' and stack != [] and stack[-1] == '(':\n",
        "                stack.pop()\n",
        "            elif i == ']' and stack != [] and stack[-1] == '[':\n",
        "                stack.pop()\n",
        "            elif i == '}' and stack != [] and stack[-1] == '{':\n",
        "                stack.pop()\n",
        "            else:\n",
        "                return False\n",
        "        if stack == []:\n",
        "            return True\n",
        "        else:\n",
        "            return False"
      ],
      "metadata": {
        "id": "bIQEznBjIYHB"
      },
      "execution_count": null,
      "outputs": []
    },
    {
      "cell_type": "markdown",
      "source": [
        "Second solution, using a dictionary, a little more 'clean'"
      ],
      "metadata": {
        "id": "OtJ5R9K7RMg3"
      }
    },
    {
      "cell_type": "code",
      "source": [
        "class Solution(object):\n",
        "    def isValid(self, s):\n",
        "        \"\"\"\n",
        "        :type s: str\n",
        "        :rtype: bool\n",
        "        \"\"\"\n",
        "\n",
        "        parenthesis = {')': '(', ']': '[', '}': '{'}\n",
        "        stack = []\n",
        "\n",
        "        for i in s:\n",
        "            if i not in parenthesis:\n",
        "                stack.append(i)\n",
        "            else:\n",
        "                if stack and stack[-1] == parenthesis[i]:\n",
        "                    stack.pop()\n",
        "                else:\n",
        "                    return False\n",
        "\n",
        "        if stack == []:\n",
        "            return True\n",
        "        else:\n",
        "            return False"
      ],
      "metadata": {
        "id": "67DtyL4YRLwn"
      },
      "execution_count": null,
      "outputs": []
    }
  ]
}