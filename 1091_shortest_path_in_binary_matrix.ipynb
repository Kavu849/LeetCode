{
  "nbformat": 4,
  "nbformat_minor": 0,
  "metadata": {
    "colab": {
      "provenance": [],
      "authorship_tag": "ABX9TyOOL/uKMVnuSkW2ETDrQsYJ",
      "include_colab_link": true
    },
    "kernelspec": {
      "name": "python3",
      "display_name": "Python 3"
    },
    "language_info": {
      "name": "python"
    }
  },
  "cells": [
    {
      "cell_type": "markdown",
      "metadata": {
        "id": "view-in-github",
        "colab_type": "text"
      },
      "source": [
        "<a href=\"https://colab.research.google.com/github/Kavu849/LeetCode_DSA/blob/main/1091_shortest_path_in_binary_matrix.ipynb\" target=\"_parent\"><img src=\"https://colab.research.google.com/assets/colab-badge.svg\" alt=\"Open In Colab\"/></a>"
      ]
    },
    {
      "cell_type": "markdown",
      "source": [
        "BFS solution to the problem. We set all the possible directions to visit and add valid neighbors to the queue and the visited set. The variable 'length' will denote the minimal number of steps to reach consecutive layers. Once we reach the right endpoint, we return the length.\n",
        "\n",
        "Time complexity: O(n^2)\n",
        "\n",
        "Extra space complexity: O(n^2)"
      ],
      "metadata": {
        "id": "FYtcn__M2z43"
      }
    },
    {
      "cell_type": "code",
      "execution_count": null,
      "metadata": {
        "id": "R373lcVk2zOe"
      },
      "outputs": [],
      "source": [
        "class Solution:\n",
        "    def shortestPathBinaryMatrix(self, grid: List[List[int]]) -> int:\n",
        "        if grid[0][0] == 1: return -1\n",
        "        rows, cols = len(grid), len(grid[0])\n",
        "        queue = deque()\n",
        "        queue.append((0, 0))\n",
        "        visited = {(0 , 0)}\n",
        "        length = 1\n",
        "        neighbors = [[0, 1], [-1, 1], [-1, 0], [-1, -1], [0, -1], [1, -1], [1, 0], [1, 1]]\n",
        "\n",
        "        while queue:\n",
        "            for _ in range(len(queue)):\n",
        "                r, c = queue.popleft()\n",
        "                if r == rows - 1 and c == cols - 1:\n",
        "                    return length\n",
        "\n",
        "                for dr, dc in neighbors:\n",
        "                    if (r + dr) < 0 or (c + dc) < 0 or (r + dr) == rows or (c + dc) == cols or (r + dr, c + dc) in visited or grid[r + dr][c + dc] == 1:\n",
        "                        continue\n",
        "                    visited.add((r + dr, c + dc))\n",
        "                    queue.append((r + dr, c + dc))\n",
        "            length += 1\n",
        "        return -1\n"
      ]
    }
  ]
}