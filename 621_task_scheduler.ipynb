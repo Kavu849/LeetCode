{
  "nbformat": 4,
  "nbformat_minor": 0,
  "metadata": {
    "colab": {
      "provenance": [],
      "authorship_tag": "ABX9TyOIJNl13CM7lA5rh5UyqncQ",
      "include_colab_link": true
    },
    "kernelspec": {
      "name": "python3",
      "display_name": "Python 3"
    },
    "language_info": {
      "name": "python"
    }
  },
  "cells": [
    {
      "cell_type": "markdown",
      "metadata": {
        "id": "view-in-github",
        "colab_type": "text"
      },
      "source": [
        "<a href=\"https://colab.research.google.com/github/Kavu849/LeetCode_DSA/blob/main/621_task_scheduler.ipynb\" target=\"_parent\"><img src=\"https://colab.research.google.com/assets/colab-badge.svg\" alt=\"Open In Colab\"/></a>"
      ]
    },
    {
      "cell_type": "markdown",
      "source": [
        "Good solution using a heap and a queue. Note that we have to process tasks in cycles from most common to least common. Thus, we first set up a counter of each tasks and create a max heap from it. Now, we process every task from the heap and if the counter is nonzero, we add it to the queue, together with the time that we will be able to process this task again (which will be the current time + n). Next, if the left side element of the queue has the time less or equal than the current time, than we can put it back onto the heap. With every iteration of the loop we increase the time by 1.\n",
        "\n",
        "Time complexity: O(n*m), where m is the cooldown time (given as 'n' in the argument of the 'leastInterval' method).\n",
        "\n",
        "Extra space complexity: O(n)"
      ],
      "metadata": {
        "id": "9uFhMEzFM4LE"
      }
    },
    {
      "cell_type": "code",
      "execution_count": null,
      "metadata": {
        "id": "FvD5GLGQLDv5"
      },
      "outputs": [],
      "source": [
        "class Solution:\n",
        "    def leastInterval(self, tasks: List[str], n: int) -> int:\n",
        "        counts = {}\n",
        "        for t in tasks:\n",
        "            counts[t] = 1 + counts.get(t, 0)\n",
        "\n",
        "        maxHeap = [-cts for cts in counts.values()]\n",
        "        heapq.heapify(maxHeap)\n",
        "        q = deque()\n",
        "        time = 0\n",
        "        while maxHeap or q:\n",
        "            time += 1\n",
        "            if maxHeap:\n",
        "                curr = heapq.heappop(maxHeap) + 1\n",
        "                if curr < 0:\n",
        "                    q.append((curr, time + n))\n",
        "            if q and q[0][1] <= time:\n",
        "                tmp = q.popleft()\n",
        "                heapq.heappush(maxHeap, tmp[0])\n",
        "\n",
        "        return time"
      ]
    }
  ]
}