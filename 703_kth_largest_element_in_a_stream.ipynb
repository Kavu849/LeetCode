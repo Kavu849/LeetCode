{
  "nbformat": 4,
  "nbformat_minor": 0,
  "metadata": {
    "colab": {
      "provenance": [],
      "authorship_tag": "ABX9TyMYI/G3CyOZWQ618PF5NEy1",
      "include_colab_link": true
    },
    "kernelspec": {
      "name": "python3",
      "display_name": "Python 3"
    },
    "language_info": {
      "name": "python"
    }
  },
  "cells": [
    {
      "cell_type": "markdown",
      "metadata": {
        "id": "view-in-github",
        "colab_type": "text"
      },
      "source": [
        "<a href=\"https://colab.research.google.com/github/Kavu849/LeetCode_DSA/blob/main/703_kth_largest_element_in_a_stream.ipynb\" target=\"_parent\"><img src=\"https://colab.research.google.com/assets/colab-badge.svg\" alt=\"Open In Colab\"/></a>"
      ]
    },
    {
      "cell_type": "markdown",
      "source": [
        "Solution with the heap implementation written from scratch. The idea is to implement this as a min heap of k elements. That way, the root of the heap will always be the kth largest element.\n",
        "\n",
        "Time complexity: O(nlogn)\n",
        "\n",
        "Extra space complexity: O(n)"
      ],
      "metadata": {
        "id": "22lbk9NwlDqD"
      }
    },
    {
      "cell_type": "code",
      "execution_count": null,
      "metadata": {
        "id": "oHL50dg0lCvi"
      },
      "outputs": [],
      "source": [
        "class KthLargest:\n",
        "\n",
        "    def __init__(self, k: int, nums: List[int]):\n",
        "        self.heap = [0]\n",
        "        self.k = k\n",
        "\n",
        "        for i in range(len(nums)):\n",
        "            self.push(nums[i])\n",
        "\n",
        "        while len(self.heap) > (k + 1):\n",
        "            self.pop()\n",
        "\n",
        "    def add(self, val: int) -> int:\n",
        "        self.push(val)\n",
        "        if len(self.heap) > (self.k + 1):\n",
        "            self.pop()\n",
        "\n",
        "        return self.heap[1]\n",
        "\n",
        "    def push(self, val):\n",
        "        self.heap.append(val)\n",
        "        # Percolate up\n",
        "        i = len(self.heap) - 1\n",
        "\n",
        "        while i > 1 and self.heap[i] < self.heap[i // 2]:\n",
        "            self.heap[i], self.heap[i // 2] = self.heap[i // 2], self.heap[i]\n",
        "            i = i // 2\n",
        "\n",
        "    def pop(self):\n",
        "        if len(self.heap) == 1:\n",
        "            return None\n",
        "        if len(self.heap) == 2:\n",
        "            return self.heap.pop()\n",
        "\n",
        "        val = self.heap[1]\n",
        "\n",
        "        # Move the last value to the root\n",
        "        self.heap[1] = self.heap.pop()\n",
        "        i = 1\n",
        "        # Percolate down\n",
        "        while 2 * i < len(self.heap):\n",
        "            if (2 * i + 1) < len(self.heap) and self.heap[2 * i + 1] < self.heap[2 * i] and self.heap[2 * i + 1] < self.heap[i]:\n",
        "                # Swap right child\n",
        "                self.heap[2 * i + 1], self.heap[i] = self.heap[i], self.heap[2 * i + 1]\n",
        "                i = 2 * i + 1\n",
        "            elif self.heap[2 * i] < self.heap[i]:\n",
        "                # Swap left child\n",
        "                self.heap[2 * i], self.heap[i] = self.heap[i], self.heap[2 * i]\n",
        "                i = 2 * i\n",
        "            else:\n",
        "                # No swapping since we arrived at the correct position\n",
        "                break\n",
        "        return val\n",
        "\n",
        "# Your KthLargest object will be instantiated and called as such:\n",
        "# obj = KthLargest(k, nums)\n",
        "# param_1 = obj.add(val)"
      ]
    },
    {
      "cell_type": "markdown",
      "source": [
        "Same idea but we use built-in Python functions.\n",
        "\n",
        "Time complexity: O(nlogn)\n",
        "\n",
        "Extra space complexity: O(n)"
      ],
      "metadata": {
        "id": "8Df4Cov5lxJg"
      }
    },
    {
      "cell_type": "code",
      "source": [
        "class KthLargest:\n",
        "\n",
        "    def __init__(self, k: int, nums: List[int]):\n",
        "        self.minHeap, self.k = nums, k\n",
        "        heapq.heapify(self.minHeap)\n",
        "        while len(self.minHeap) > k:\n",
        "            heapq.heappop(self.minHeap)\n",
        "\n",
        "    def add(self, val: int) -> int:\n",
        "        heapq.heappush(self.minHeap, val)\n",
        "        if len(self.minHeap) > self.k:\n",
        "            heapq.heappop(self.minHeap)\n",
        "        return self.minHeap[0]\n",
        "\n",
        "\n",
        "# Your KthLargest object will be instantiated and called as such:\n",
        "# obj = KthLargest(k, nums)\n",
        "# param_1 = obj.add(val)"
      ],
      "metadata": {
        "id": "V6pnPUzSmvo8"
      },
      "execution_count": null,
      "outputs": []
    }
  ]
}