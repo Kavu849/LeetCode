{
  "nbformat": 4,
  "nbformat_minor": 0,
  "metadata": {
    "colab": {
      "provenance": [],
      "authorship_tag": "ABX9TyOBAAIEEJNLJcf8rqocAxRl",
      "include_colab_link": true
    },
    "kernelspec": {
      "name": "python3",
      "display_name": "Python 3"
    },
    "language_info": {
      "name": "python"
    }
  },
  "cells": [
    {
      "cell_type": "markdown",
      "metadata": {
        "id": "view-in-github",
        "colab_type": "text"
      },
      "source": [
        "<a href=\"https://colab.research.google.com/github/Kavu849/LeetCode/blob/main/739_daily_temperatures.ipynb\" target=\"_parent\"><img src=\"https://colab.research.google.com/assets/colab-badge.svg\" alt=\"Open In Colab\"/></a>"
      ]
    },
    {
      "cell_type": "markdown",
      "source": [
        "Brute force solution with time complexity O(n^2). Does not work for large data (time limit exceeded)"
      ],
      "metadata": {
        "id": "5ux9uLIMC8IT"
      }
    },
    {
      "cell_type": "code",
      "source": [
        "class Solution:\n",
        "    def dailyTemperatures(self, temperatures: List[int]) -> List[int]:\n",
        "\n",
        "        res = [0] * len(temperatures)\n",
        "        for i in range(len(temperatures)-1):\n",
        "            count = 0\n",
        "            is_Found = False\n",
        "            for j in range(i, len(temperatures)):\n",
        "                if j != len(temperatures) - 1:\n",
        "                    if temperatures[j+1] > temperatures[i]:\n",
        "                        is_Found = True\n",
        "                        count += 1\n",
        "                        break\n",
        "                    else:\n",
        "                        count +=1\n",
        "            if is_Found:\n",
        "                res[i] = count\n",
        "        return res"
      ],
      "metadata": {
        "id": "CzfbkmeGAYNs"
      },
      "execution_count": null,
      "outputs": []
    },
    {
      "cell_type": "markdown",
      "source": [
        "Second solution using stacks. The idea is that for every consecutive element 't' of temperatures we check if it is greater than the top of the stack. If so, pop that element, and assign the difference of the index of 't' and the index of the popped element. Continue this process until the top of the stack does not have smaller temperature than 't'. Then, add the element 't' to the stack (with the corresponding index to use for later)."
      ],
      "metadata": {
        "id": "LiEhxnTODTVA"
      }
    },
    {
      "cell_type": "code",
      "source": [
        "class Solution:\n",
        "    def dailyTemperatures(self, temperatures: List[int]) -> List[int]:\n",
        "\n",
        "        res = [0] * len(temperatures)\n",
        "        stack = [] # stack of pairs [index, temperature]\n",
        "\n",
        "        for i, t in enumerate(temperatures): # index, temperature\n",
        "            while stack and stack[-1][1] < t:\n",
        "                stack_ind, stack_temp = stack.pop()\n",
        "                res[stack_ind] = i - stack_ind\n",
        "            stack.append([i, t])\n",
        "        return res"
      ],
      "metadata": {
        "id": "rjRMlEC_IxpL"
      },
      "execution_count": null,
      "outputs": []
    }
  ]
}