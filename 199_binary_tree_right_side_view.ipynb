{
  "nbformat": 4,
  "nbformat_minor": 0,
  "metadata": {
    "colab": {
      "provenance": [],
      "authorship_tag": "ABX9TyPfL4QHSJx0vnMDtNQNwGYK",
      "include_colab_link": true
    },
    "kernelspec": {
      "name": "python3",
      "display_name": "Python 3"
    },
    "language_info": {
      "name": "python"
    }
  },
  "cells": [
    {
      "cell_type": "markdown",
      "metadata": {
        "id": "view-in-github",
        "colab_type": "text"
      },
      "source": [
        "<a href=\"https://colab.research.google.com/github/Kavu849/LeetCode_DSA/blob/main/199_binary_tree_right_side_view.ipynb\" target=\"_parent\"><img src=\"https://colab.research.google.com/assets/colab-badge.svg\" alt=\"Open In Colab\"/></a>"
      ]
    },
    {
      "cell_type": "markdown",
      "source": [
        "First solution using dfs. We visit every node in a given level and keep rewriting the 'right' variable so that its last value for a given level will be the one that we will see looking at the tree from the right.\n",
        "\n",
        "Time complexity: O(n)\n",
        "\n",
        "Extra space complexity: O(n)"
      ],
      "metadata": {
        "id": "HqqSawja7eh6"
      }
    },
    {
      "cell_type": "code",
      "execution_count": null,
      "metadata": {
        "id": "Z2s0pe2V5Qj9"
      },
      "outputs": [],
      "source": [
        "# Definition for a binary tree node.\n",
        "# class TreeNode:\n",
        "#     def __init__(self, val=0, left=None, right=None):\n",
        "#         self.val = val\n",
        "#         self.left = left\n",
        "#         self.right = right\n",
        "class Solution:\n",
        "    def rightSideView(self, root: Optional[TreeNode]) -> List[int]:\n",
        "        res = []\n",
        "        queue = []\n",
        "        if root:\n",
        "            queue.append(root)\n",
        "\n",
        "        while queue:\n",
        "            for i in range(len(queue)):\n",
        "                node = queue.pop(0)\n",
        "                right = node.val\n",
        "                if node.left: queue.append(node.left)\n",
        "                if node.right: queue.append(node.right)\n",
        "            res.append(right)\n",
        "        return res"
      ]
    }
  ]
}