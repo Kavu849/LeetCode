{
  "nbformat": 4,
  "nbformat_minor": 0,
  "metadata": {
    "colab": {
      "provenance": [],
      "authorship_tag": "ABX9TyP5J46WHcu3bjQ/Z9Rw8wy2",
      "include_colab_link": true
    },
    "kernelspec": {
      "name": "python3",
      "display_name": "Python 3"
    },
    "language_info": {
      "name": "python"
    }
  },
  "cells": [
    {
      "cell_type": "markdown",
      "metadata": {
        "id": "view-in-github",
        "colab_type": "text"
      },
      "source": [
        "<a href=\"https://colab.research.google.com/github/Kavu849/LeetCode_DSA/blob/main/199_binary_tree_right_side_view.ipynb\" target=\"_parent\"><img src=\"https://colab.research.google.com/assets/colab-badge.svg\" alt=\"Open In Colab\"/></a>"
      ]
    },
    {
      "cell_type": "markdown",
      "source": [
        "First solution using dfs. We visit every node in a given level and keep rewriting the 'right' variable so that its last value for a given level will be the one that we will see looking at the tree from the right.\n",
        "\n",
        "Time complexity: O(n)\n",
        "\n",
        "Extra space complexity: O(n)"
      ],
      "metadata": {
        "id": "HqqSawja7eh6"
      }
    },
    {
      "cell_type": "code",
      "execution_count": null,
      "metadata": {
        "id": "Z2s0pe2V5Qj9"
      },
      "outputs": [],
      "source": [
        "# Definition for a binary tree node.\n",
        "# class TreeNode:\n",
        "#     def __init__(self, val=0, left=None, right=None):\n",
        "#         self.val = val\n",
        "#         self.left = left\n",
        "#         self.right = right\n",
        "class Solution:\n",
        "    def rightSideView(self, root: Optional[TreeNode]) -> List[int]:\n",
        "        res = []\n",
        "        queue = []\n",
        "        if root:\n",
        "            queue.append(root)\n",
        "\n",
        "        while queue:\n",
        "            for i in range(len(queue)):\n",
        "                node = queue.pop(0)\n",
        "                right = node.val\n",
        "                if node.left: queue.append(node.left)\n",
        "                if node.right: queue.append(node.right)\n",
        "            res.append(right)\n",
        "        return res"
      ]
    },
    {
      "cell_type": "markdown",
      "source": [
        "Second solution, using recursion. No need to store the extra space for the queue (but still extra space for the 'res' array). The idea is that if the length of the array res is equal to a given level, then we don't have the node at that level visible yet, so we add it to the 'res' array.\n",
        "\n",
        "Time complexity: O(n)\n",
        "\n",
        "Extra space complexity: O(n) (since we store the 'res' array, but no queue)"
      ],
      "metadata": {
        "id": "1RaEmq6o_Tbc"
      }
    },
    {
      "cell_type": "code",
      "source": [
        "# Definition for a binary tree node.\n",
        "# class TreeNode:\n",
        "#     def __init__(self, val=0, left=None, right=None):\n",
        "#         self.val = val\n",
        "#         self.left = left\n",
        "#         self.right = right\n",
        "class Solution:\n",
        "    def rightSideView(self, root: Optional[TreeNode]) -> List[int]:\n",
        "        res = []\n",
        "        def search(node, level):\n",
        "            if node:\n",
        "                if len(res) == level:\n",
        "                    res.append(node.val)\n",
        "                search(node.right, level + 1)\n",
        "                search(node.left, level + 1)\n",
        "            return\n",
        "        search(root, 0)\n",
        "        return res"
      ],
      "metadata": {
        "id": "6YQk7jQO_bDu"
      },
      "execution_count": null,
      "outputs": []
    },
    {
      "cell_type": "markdown",
      "source": [
        "Third solution, same idea as the first solution but using collections.deque and removing the extra variable 'right' (not needed since the rightmost node will be the variable 'node' after the for loop exits).\n",
        "\n",
        "Time complexity: O(n)\n",
        "\n",
        "Extra space complexity: O(n)"
      ],
      "metadata": {
        "id": "2ffvQNlrI3q6"
      }
    },
    {
      "cell_type": "code",
      "source": [
        "# Definition for a binary tree node.\n",
        "# class TreeNode:\n",
        "#     def __init__(self, val=0, left=None, right=None):\n",
        "#         self.val = val\n",
        "#         self.left = left\n",
        "#         self.right = right\n",
        "class Solution:\n",
        "    def rightSideView(self, root: Optional[TreeNode]) -> List[int]:\n",
        "        res = []\n",
        "        queue = collections.deque()\n",
        "        if root: queue.append(root)\n",
        "\n",
        "        while queue:\n",
        "            for i in range(len(queue)):\n",
        "                node = queue.popleft()\n",
        "                if node.left: queue.append(node.left)\n",
        "                if node.right: queue.append(node.right)\n",
        "            res.append(node.val)\n",
        "        return res\n"
      ],
      "metadata": {
        "id": "Vyh8VnGTJI63"
      },
      "execution_count": null,
      "outputs": []
    }
  ]
}