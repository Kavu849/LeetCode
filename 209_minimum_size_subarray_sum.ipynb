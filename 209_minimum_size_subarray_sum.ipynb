{
  "nbformat": 4,
  "nbformat_minor": 0,
  "metadata": {
    "colab": {
      "provenance": [],
      "authorship_tag": "ABX9TyOZd+E+QJMH21ZGtjxmEzYS",
      "include_colab_link": true
    },
    "kernelspec": {
      "name": "python3",
      "display_name": "Python 3"
    },
    "language_info": {
      "name": "python"
    }
  },
  "cells": [
    {
      "cell_type": "markdown",
      "metadata": {
        "id": "view-in-github",
        "colab_type": "text"
      },
      "source": [
        "<a href=\"https://colab.research.google.com/github/Kavu849/LeetCode_DSA/blob/main/209_minimum_size_subarray_sum.ipynb\" target=\"_parent\"><img src=\"https://colab.research.google.com/assets/colab-badge.svg\" alt=\"Open In Colab\"/></a>"
      ]
    },
    {
      "cell_type": "markdown",
      "source": [
        "Straightforward sliding window algorithm.\n",
        "\n",
        "Time complexity: O(n)\n",
        "\n",
        "Extra space complexity: O(1)"
      ],
      "metadata": {
        "id": "QLiybogsRyxq"
      }
    },
    {
      "cell_type": "code",
      "execution_count": null,
      "metadata": {
        "id": "xx2fIDFtRxry"
      },
      "outputs": [],
      "source": [
        "class Solution:\n",
        "    def minSubArrayLen(self, target: int, nums: List[int]) -> int:\n",
        "        min_length = float('inf')\n",
        "        cur_sum = 0\n",
        "        l = 0\n",
        "\n",
        "        for r in range(len(nums)):\n",
        "            cur_sum += nums[r]\n",
        "            while cur_sum >= target:\n",
        "                min_length = min(min_length, r - l + 1)\n",
        "                cur_sum -= nums[l]\n",
        "                l += 1\n",
        "\n",
        "        if min_length == float('inf'):\n",
        "            return 0\n",
        "        else:\n",
        "            return min_length"
      ]
    }
  ]
}