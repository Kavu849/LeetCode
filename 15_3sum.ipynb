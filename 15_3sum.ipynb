{
  "nbformat": 4,
  "nbformat_minor": 0,
  "metadata": {
    "colab": {
      "provenance": [],
      "authorship_tag": "ABX9TyMpcJUa8QpwRBg/WzTSgWuX",
      "include_colab_link": true
    },
    "kernelspec": {
      "name": "python3",
      "display_name": "Python 3"
    },
    "language_info": {
      "name": "python"
    }
  },
  "cells": [
    {
      "cell_type": "markdown",
      "metadata": {
        "id": "view-in-github",
        "colab_type": "text"
      },
      "source": [
        "<a href=\"https://colab.research.google.com/github/Kavu849/LeetCode/blob/main/15_3sum.ipynb\" target=\"_parent\"><img src=\"https://colab.research.google.com/assets/colab-badge.svg\" alt=\"Open In Colab\"/></a>"
      ]
    },
    {
      "cell_type": "markdown",
      "source": [
        "First solution, the idea is to use the two pointers technique in a loop that loops over the index 'k'. Time complexity: O(n^2)"
      ],
      "metadata": {
        "id": "_zqxkUrAO-dl"
      }
    },
    {
      "cell_type": "code",
      "source": [
        "class Solution(object):\n",
        "    def threeSum(self, nums):\n",
        "        \"\"\"\n",
        "        :type nums: List[int]\n",
        "        :rtype: List[List[int]]\n",
        "        \"\"\"\n",
        "\n",
        "        nums.sort()\n",
        "        triplets = set()\n",
        "\n",
        "        for k in range(len(nums)):\n",
        "            target = nums[k]\n",
        "            i, j = 0, len(nums) - 1\n",
        "\n",
        "            while i<j:\n",
        "                if i==k: i += 1\n",
        "                if j==k: j -= 1\n",
        "\n",
        "                if nums[i] + nums[j] + nums[k] == 0 and i!=j:\n",
        "                    trip = [nums[i], nums[j], nums[k]]\n",
        "                    trip.sort()\n",
        "                    triplets.add(tuple(trip))\n",
        "                    i += 1\n",
        "                elif nums[i] + nums[j] + nums[k] > 0:\n",
        "                    j -= 1\n",
        "                else:\n",
        "                    i += 1\n",
        "        return [list(items) for items in triplets]"
      ],
      "metadata": {
        "id": "iKRpGGS7NtrN"
      },
      "execution_count": null,
      "outputs": []
    },
    {
      "cell_type": "markdown",
      "source": [
        "Second solution, time complexity also O(n^2), but runs faster and is written neater"
      ],
      "metadata": {
        "id": "YBd1Zx_rydTY"
      }
    },
    {
      "cell_type": "code",
      "source": [
        "class Solution(object):\n",
        "    def threeSum(self, nums):\n",
        "        \"\"\"\n",
        "        :type nums: List[int]\n",
        "        :rtype: List[List[int]]\n",
        "        \"\"\"\n",
        "\n",
        "        nums.sort()\n",
        "        triplets = []\n",
        "\n",
        "        for i in range(len(nums) - 2):\n",
        "            if i > 0 and nums[i] == nums[i-1]:\n",
        "                continue\n",
        "            l = i + 1\n",
        "            r = len(nums) - 1\n",
        "\n",
        "            while l<r:\n",
        "                suma = nums[i] + nums[l] + nums[r]\n",
        "\n",
        "                if suma > 0:\n",
        "                    r -= 1\n",
        "                elif suma < 0:\n",
        "                    l += 1\n",
        "                else:\n",
        "                    triplet = [nums[i], nums[l], nums[r]]\n",
        "                    triplets.append(triplet)\n",
        "                    l += 1\n",
        "                    while l<r and nums[r] == triplet[2]:\n",
        "                        r -= 1\n",
        "                    while l<r and nums[l] == triplet[1]:\n",
        "                        l += 1\n",
        "        return triplets"
      ],
      "metadata": {
        "id": "X0UDf98Qym25"
      },
      "execution_count": null,
      "outputs": []
    }
  ]
}