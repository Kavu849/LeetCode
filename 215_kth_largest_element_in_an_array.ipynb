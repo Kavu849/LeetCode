{
  "nbformat": 4,
  "nbformat_minor": 0,
  "metadata": {
    "colab": {
      "provenance": [],
      "authorship_tag": "ABX9TyN3wtuLJcSQbVo75vdgITO+",
      "include_colab_link": true
    },
    "kernelspec": {
      "name": "python3",
      "display_name": "Python 3"
    },
    "language_info": {
      "name": "python"
    }
  },
  "cells": [
    {
      "cell_type": "markdown",
      "metadata": {
        "id": "view-in-github",
        "colab_type": "text"
      },
      "source": [
        "<a href=\"https://colab.research.google.com/github/Kavu849/LeetCode_DSA/blob/main/215_kth_largest_element_in_an_array.ipynb\" target=\"_parent\"><img src=\"https://colab.research.google.com/assets/colab-badge.svg\" alt=\"Open In Colab\"/></a>"
      ]
    },
    {
      "cell_type": "markdown",
      "source": [
        "Naive solution. Sort the array and take the kth last element.\n",
        "\n",
        "Time complexity: O(nlogn)\n",
        "\n",
        "Extra space complexity: O(1)"
      ],
      "metadata": {
        "id": "JKDo42awNHxv"
      }
    },
    {
      "cell_type": "code",
      "execution_count": null,
      "metadata": {
        "id": "_6npbWCiG-Gm"
      },
      "outputs": [],
      "source": [
        "class Solution:\n",
        "    def findKthLargest(self, nums: List[int], k: int) -> int:\n",
        "        nums.sort()\n",
        "        return nums[-k]"
      ]
    },
    {
      "cell_type": "markdown",
      "source": [
        "Second solution. Create a maxHeap, heapify, and then pop k elements to get to the kth largest element.\n",
        "\n",
        "Time complexity: O(klogn + n)\n",
        "\n",
        "Extra space complexity: O(n)"
      ],
      "metadata": {
        "id": "sODpZjZ2NO4O"
      }
    },
    {
      "cell_type": "code",
      "source": [
        "class Solution:\n",
        "    def findKthLargest(self, nums: List[int], k: int) -> int:\n",
        "        maxHeap = [-n for n in nums]\n",
        "        heapq.heapify(maxHeap)\n",
        "\n",
        "        for _ in range(k):\n",
        "            res = -heapq.heappop(maxHeap)\n",
        "\n",
        "        return res"
      ],
      "metadata": {
        "id": "Jogshl6xNb6O"
      },
      "execution_count": null,
      "outputs": []
    },
    {
      "cell_type": "markdown",
      "source": [
        "Best solution on average, implementing the quickselect algorithm. It TLEs on leetcode as some test cases are constructed for the worst case time complexity.\n",
        "\n",
        "Time complexity: O(n^2) worst case, but O(n) on average\n",
        "\n",
        "Extra space complexity:"
      ],
      "metadata": {
        "id": "wR6ukS8XOWIS"
      }
    },
    {
      "cell_type": "code",
      "source": [
        "class Solution:\n",
        "    def findKthLargest(self, nums: List[int], k: int) -> int:\n",
        "        k = len(nums) - k # index of the element that we are looking for in the sorted array\n",
        "\n",
        "        # quickselect with the last value as the pivot\n",
        "        def quickselect(l , r):\n",
        "            pivot, ptr = nums[r], l\n",
        "            for i in range(l, r):\n",
        "                if nums[i] <= pivot:\n",
        "                    nums[ptr], nums[i] = nums[i], nums[ptr]\n",
        "                    ptr += 1\n",
        "\n",
        "            nums[ptr], nums[r] = nums[r], nums[ptr]\n",
        "\n",
        "            if ptr < k:\n",
        "                return quickselect(ptr + 1, r)\n",
        "            elif ptr > k:\n",
        "                return quickselect(l, ptr - 1)\n",
        "            else:\n",
        "                return nums[ptr]\n",
        "\n",
        "        return quickselect(0, len(nums) - 1)"
      ],
      "metadata": {
        "id": "YLm-mpUKOjiN"
      },
      "execution_count": null,
      "outputs": []
    }
  ]
}