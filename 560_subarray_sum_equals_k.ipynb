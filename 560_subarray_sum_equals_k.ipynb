{
  "nbformat": 4,
  "nbformat_minor": 0,
  "metadata": {
    "colab": {
      "provenance": [],
      "authorship_tag": "ABX9TyPVwQI2sjmXXFKk5p+UQFp7",
      "include_colab_link": true
    },
    "kernelspec": {
      "name": "python3",
      "display_name": "Python 3"
    },
    "language_info": {
      "name": "python"
    }
  },
  "cells": [
    {
      "cell_type": "markdown",
      "metadata": {
        "id": "view-in-github",
        "colab_type": "text"
      },
      "source": [
        "<a href=\"https://colab.research.google.com/github/Kavu849/LeetCode_DSA/blob/main/560_subarray_sum_equals_k.ipynb\" target=\"_parent\"><img src=\"https://colab.research.google.com/assets/colab-badge.svg\" alt=\"Open In Colab\"/></a>"
      ]
    },
    {
      "cell_type": "markdown",
      "source": [
        "Inefficient brute force solution.\n",
        "\n",
        "Time complexity: O(n^2)\n",
        "\n",
        "Extra space complexity: O(1)"
      ],
      "metadata": {
        "id": "ZROWaP60xxDs"
      }
    },
    {
      "cell_type": "code",
      "execution_count": null,
      "metadata": {
        "id": "NmRpvVUnxwKq"
      },
      "outputs": [],
      "source": [
        "class Solution:\n",
        "    def subarraySum(self, nums: List[int], k: int) -> int:\n",
        "        total = 0\n",
        "\n",
        "        for l in range(len(nums)):\n",
        "            curr_sum = 0\n",
        "            for r in range(l, len(nums)):\n",
        "                curr_sum += nums[r]\n",
        "                if curr_sum == k: total += 1\n",
        "\n",
        "        return total"
      ]
    },
    {
      "cell_type": "markdown",
      "source": [
        "Optimal tricky solution. We create an additional prefix_count hash table. The idea is that we iterate through the array once, adjusting the prefix sum. With each iteration 'r', we check if from the current array [0, r], we can 'chop off' any subarrays to the left, so that the resulting array [l, r] would be a correct subarray.\n",
        "\n",
        "The way to do it is to have the prefix_count dictionary. In it, we store the frequencies of the prefix sums. At a given iteration 'r' and some value of 'prefix', we check if we can 'chop off' 'prefix - k'. If we can, then we found another subarray. This condition can be verified by checking if our prefix_count table has a key given by 'prefix - k'. If it does, the value of this table tell us how many such 'chop offs' we can perform, i.e., it tells us by how many we can increase the subarray count.\n",
        "\n",
        "Time complexity: O(n)\n",
        "\n",
        "Extra space complexity: O(n)"
      ],
      "metadata": {
        "id": "wnKteW9K-W-6"
      }
    },
    {
      "cell_type": "code",
      "source": [
        "class Solution:\n",
        "    def subarraySum(self, nums: List[int], k: int) -> int:\n",
        "        prefix = 0\n",
        "        prefix_count = {0: 1}\n",
        "        res = 0\n",
        "\n",
        "        for r in range(len(nums)):\n",
        "            prefix += nums[r]\n",
        "            if (prefix - k) in prefix_count:\n",
        "                res += prefix_count[prefix - k]\n",
        "            prefix_count[prefix] = 1 + prefix_count.get(prefix, 0)\n",
        "\n",
        "        return res"
      ],
      "metadata": {
        "id": "Oy7_47CJ-Xdd"
      },
      "execution_count": null,
      "outputs": []
    }
  ]
}