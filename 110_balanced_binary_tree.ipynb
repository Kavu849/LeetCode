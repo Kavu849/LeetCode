{
  "nbformat": 4,
  "nbformat_minor": 0,
  "metadata": {
    "colab": {
      "provenance": [],
      "authorship_tag": "ABX9TyN/6m5zU/KuDuMz0DGGXBcM",
      "include_colab_link": true
    },
    "kernelspec": {
      "name": "python3",
      "display_name": "Python 3"
    },
    "language_info": {
      "name": "python"
    }
  },
  "cells": [
    {
      "cell_type": "markdown",
      "metadata": {
        "id": "view-in-github",
        "colab_type": "text"
      },
      "source": [
        "<a href=\"https://colab.research.google.com/github/Kavu849/LeetCode_DSA/blob/main/110_balanced_binary_tree.ipynb\" target=\"_parent\"><img src=\"https://colab.research.google.com/assets/colab-badge.svg\" alt=\"Open In Colab\"/></a>"
      ]
    },
    {
      "cell_type": "code",
      "execution_count": null,
      "metadata": {
        "id": "eEapX-HqhICL"
      },
      "outputs": [],
      "source": [
        "# Definition for a binary tree node.\n",
        "# class TreeNode:\n",
        "#     def __init__(self, val=0, left=None, right=None):\n",
        "#         self.val = val\n",
        "#         self.left = left\n",
        "#         self.right = right\n",
        "class Solution:\n",
        "    def isBalanced(self, root: Optional[TreeNode]) -> bool:\n",
        "        if root is None:\n",
        "            return True\n",
        "        res = [1]\n",
        "\n",
        "        def height(node):\n",
        "            if node is None:\n",
        "                return 0\n",
        "            lheight = height(node.left)\n",
        "            rheight = height(node.right)\n",
        "            if abs(lheight - rheight) > 1:\n",
        "                res[0] = 0\n",
        "            return 1 + max(lheight, rheight)\n",
        "        height(root)\n",
        "        if res[0] == 1:\n",
        "            return True\n",
        "        else:\n",
        "            return False"
      ]
    },
    {
      "cell_type": "markdown",
      "source": [
        "Neater code, same idea."
      ],
      "metadata": {
        "id": "RUfza4zoilRY"
      }
    },
    {
      "cell_type": "code",
      "source": [
        "# Definition for a binary tree node.\n",
        "# class TreeNode:\n",
        "#     def __init__(self, val=0, left=None, right=None):\n",
        "#         self.val = val\n",
        "#         self.left = left\n",
        "#         self.right = right\n",
        "class Solution:\n",
        "    def isBalanced(self, root: Optional[TreeNode]) -> bool:\n",
        "        def dfs(node):\n",
        "            if node is None:\n",
        "                return [0, True]\n",
        "\n",
        "            lheight, rheight = dfs(node.left), dfs(node.right)\n",
        "            if not lheight[1] or not rheight[1] or abs(lheight[0] - rheight[0]) > 1:\n",
        "                return [1 + max(lheight[0], rheight[0]), False]\n",
        "            else:\n",
        "                return [1 + max(lheight[0], rheight[0]), True]\n",
        "\n",
        "        return dfs(root)[1]"
      ],
      "metadata": {
        "id": "gX_XP-KpioF_"
      },
      "execution_count": null,
      "outputs": []
    }
  ]
}