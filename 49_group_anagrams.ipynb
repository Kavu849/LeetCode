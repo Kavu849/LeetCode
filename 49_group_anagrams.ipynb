{
  "nbformat": 4,
  "nbformat_minor": 0,
  "metadata": {
    "colab": {
      "provenance": [],
      "authorship_tag": "ABX9TyMYYYtZPJOxlNCNnEoZi7SO",
      "include_colab_link": true
    },
    "kernelspec": {
      "name": "python3",
      "display_name": "Python 3"
    },
    "language_info": {
      "name": "python"
    }
  },
  "cells": [
    {
      "cell_type": "markdown",
      "metadata": {
        "id": "view-in-github",
        "colab_type": "text"
      },
      "source": [
        "<a href=\"https://colab.research.google.com/github/Kavu849/LeetCode/blob/main/49_group_anagrams.ipynb\" target=\"_parent\"><img src=\"https://colab.research.google.com/assets/colab-badge.svg\" alt=\"Open In Colab\"/></a>"
      ]
    },
    {
      "cell_type": "markdown",
      "source": [
        "First solution, time complexity O(n*m)\n"
      ],
      "metadata": {
        "id": "HaylqeCYEKod"
      }
    },
    {
      "cell_type": "code",
      "source": [
        "from collections import defaultdict\n",
        "\n",
        "class Solution(object):\n",
        "    def groupAnagrams(self, strs):\n",
        "        \"\"\"\n",
        "        :type strs: List[str]\n",
        "        :rtype: List[List[str]]\n",
        "        \"\"\"\n",
        "        hashset = defaultdict(list) # keys: lists of counts, values: lists of words. defaultdict is used in order to indicate that values will be lists, needed in case we need to add a key which does not exist yet\n",
        "\n",
        "        for i in strs:\n",
        "            counts = [0] * 26 # for counting characters of every word\n",
        "\n",
        "            for c in i:\n",
        "                counts[ord(c)-ord('a')] += 1  # count the characted, ord() changes a character to a number\n",
        "\n",
        "            hashset[tuple(counts)].append(i) #we have to use tuples as keys because keys must be immutable\n",
        "\n",
        "        return hashset.values()"
      ],
      "metadata": {
        "id": "mAtmntLImGS9"
      },
      "execution_count": null,
      "outputs": []
    }
  ]
}