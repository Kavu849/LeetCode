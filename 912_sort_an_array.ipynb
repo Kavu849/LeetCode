{
  "nbformat": 4,
  "nbformat_minor": 0,
  "metadata": {
    "colab": {
      "provenance": [],
      "authorship_tag": "ABX9TyPnZ1B3HVe2+RnYcIdjO6UX",
      "include_colab_link": true
    },
    "kernelspec": {
      "name": "python3",
      "display_name": "Python 3"
    },
    "language_info": {
      "name": "python"
    }
  },
  "cells": [
    {
      "cell_type": "markdown",
      "metadata": {
        "id": "view-in-github",
        "colab_type": "text"
      },
      "source": [
        "<a href=\"https://colab.research.google.com/github/Kavu849/LeetCode_DSA/blob/main/912_sort_an_array.ipynb\" target=\"_parent\"><img src=\"https://colab.research.google.com/assets/colab-badge.svg\" alt=\"Open In Colab\"/></a>"
      ]
    },
    {
      "cell_type": "markdown",
      "source": [
        "Good solution, using the merge sort algorithm.\n",
        "\n",
        "Time complexity: O(nlogn)\n",
        "\n",
        "Extra space complexity: O(n)"
      ],
      "metadata": {
        "id": "xPaGeWLF3EMs"
      }
    },
    {
      "cell_type": "code",
      "execution_count": null,
      "metadata": {
        "id": "qL5ZZmpQ3Daq"
      },
      "outputs": [],
      "source": [
        "class Solution:\n",
        "    def sortArray(self, nums: List[int]) -> List[int]:\n",
        "        # we implement the merge sort algorithm\n",
        "        if len(nums) <= 1:\n",
        "            return nums\n",
        "\n",
        "        mid = len(nums) // 2\n",
        "\n",
        "        left_sort = self.sortArray(nums[:mid])\n",
        "        right_sort = self.sortArray(nums[mid:])\n",
        "        return self.mergeSorted(left_sort, right_sort)\n",
        "\n",
        "    def mergeSorted(self, arr1, arr2):\n",
        "        # function merging two sorted arrays\n",
        "        left, right = 0, 0\n",
        "        res = []\n",
        "\n",
        "        while left < len(arr1) and right < len(arr2):\n",
        "            if arr1[left] <= arr2[right]:\n",
        "                res.append(arr1[left])\n",
        "                left += 1\n",
        "            else:\n",
        "                res.append(arr2[right])\n",
        "                right += 1\n",
        "\n",
        "        if left < len(arr1):\n",
        "            return res + arr1[left:]\n",
        "        else:\n",
        "            return res + arr2[right:]"
      ]
    }
  ]
}