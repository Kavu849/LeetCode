{
  "nbformat": 4,
  "nbformat_minor": 0,
  "metadata": {
    "colab": {
      "provenance": [],
      "authorship_tag": "ABX9TyMCoUner1Kpbug5qgPOIbYt",
      "include_colab_link": true
    },
    "kernelspec": {
      "name": "python3",
      "display_name": "Python 3"
    },
    "language_info": {
      "name": "python"
    }
  },
  "cells": [
    {
      "cell_type": "markdown",
      "metadata": {
        "id": "view-in-github",
        "colab_type": "text"
      },
      "source": [
        "<a href=\"https://colab.research.google.com/github/Kavu849/LeetCode_DSA/blob/main/79_word_search.ipynb\" target=\"_parent\"><img src=\"https://colab.research.google.com/assets/colab-badge.svg\" alt=\"Open In Colab\"/></a>"
      ]
    },
    {
      "cell_type": "markdown",
      "source": [
        "Backtracking approach. The argument 'i' represent the position in the word.\n",
        "\n",
        "Time complexity: O(m\\*n\\*4^p), where 'p' is the length of the word\n",
        "\n",
        "Extra space complexity: O(m*n)"
      ],
      "metadata": {
        "id": "pNlItUenNoYT"
      }
    },
    {
      "cell_type": "code",
      "execution_count": null,
      "metadata": {
        "id": "c6G1nq-qNn3T"
      },
      "outputs": [],
      "source": [
        "class Solution:\n",
        "    def exist(self, board: List[List[str]], word: str) -> bool:\n",
        "        rows, columns = len(board), len(board[0])\n",
        "        path = set()\n",
        "\n",
        "        def backtracking(r, c, i):\n",
        "            if i == len(word):\n",
        "                return True\n",
        "            if r < 0 or c < 0 or r >= rows or c >= columns or board[r][c] != word[i] or (r, c) in path:\n",
        "                return False\n",
        "\n",
        "            path.add((r, c))\n",
        "            res = backtracking(r + 1, c, i + 1) or backtracking(r, c + 1, i + 1) or backtracking(r - 1, c, i + 1) or backtracking(r, c - 1, i + 1)\n",
        "            path.remove((r, c))\n",
        "            return res\n",
        "\n",
        "        for r in range(rows):\n",
        "            for c in range(columns):\n",
        "                if backtracking(r, c, 0): return True\n",
        "        return False"
      ]
    }
  ]
}