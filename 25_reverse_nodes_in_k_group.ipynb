{
  "nbformat": 4,
  "nbformat_minor": 0,
  "metadata": {
    "colab": {
      "provenance": [],
      "authorship_tag": "ABX9TyM9zHcb0bbC2wUh/iLmRvv7",
      "include_colab_link": true
    },
    "kernelspec": {
      "name": "python3",
      "display_name": "Python 3"
    },
    "language_info": {
      "name": "python"
    }
  },
  "cells": [
    {
      "cell_type": "markdown",
      "metadata": {
        "id": "view-in-github",
        "colab_type": "text"
      },
      "source": [
        "<a href=\"https://colab.research.google.com/github/Kavu849/LeetCode_DSA/blob/main/25_reverse_nodes_in_k_group.ipynb\" target=\"_parent\"><img src=\"https://colab.research.google.com/assets/colab-badge.svg\" alt=\"Open In Colab\"/></a>"
      ]
    },
    {
      "cell_type": "markdown",
      "source": [
        "\n",
        "\n",
        "Time complexity: O(n)\n",
        "\n",
        "Extra space complexity: O(1)"
      ],
      "metadata": {
        "id": "D8T0gOCdE4_p"
      }
    },
    {
      "cell_type": "code",
      "execution_count": null,
      "metadata": {
        "id": "j2XeOIk1Eymp"
      },
      "outputs": [],
      "source": [
        "# Definition for singly-linked list.\n",
        "# class ListNode:\n",
        "#     def __init__(self, val=0, next=None):\n",
        "#         self.val = val\n",
        "#         self.next = next\n",
        "class Solution:\n",
        "    def reverseKGroup(self, head: Optional[ListNode], k: int) -> Optional[ListNode]:\n",
        "        dummy = ListNode()\n",
        "        dummy.next = head\n",
        "        group_prev = dummy\n",
        "\n",
        "        while True:\n",
        "            kth = self.getKth(group_prev, k)\n",
        "            if kth is None:\n",
        "                break\n",
        "            group_next = kth.next\n",
        "\n",
        "            prev, curr = kth.next, group_prev.next\n",
        "\n",
        "            while curr != group_next:\n",
        "                tmp = curr.next\n",
        "                curr.next = prev\n",
        "                prev = curr\n",
        "                curr = tmp\n",
        "\n",
        "            tmp = group_prev.next\n",
        "            group_prev.next = kth\n",
        "            group_prev = tmp\n",
        "\n",
        "        return dummy.next\n",
        "\n",
        "    def getKth(self, curr, k):\n",
        "        while curr and k > 0:\n",
        "            curr = curr.next\n",
        "            k -= 1\n",
        "        return curr"
      ]
    }
  ]
}