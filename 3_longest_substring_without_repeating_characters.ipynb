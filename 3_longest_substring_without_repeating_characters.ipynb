{
  "nbformat": 4,
  "nbformat_minor": 0,
  "metadata": {
    "colab": {
      "provenance": [],
      "authorship_tag": "ABX9TyNDf9QRj9xB0hkKuVs7gfCi",
      "include_colab_link": true
    },
    "kernelspec": {
      "name": "python3",
      "display_name": "Python 3"
    },
    "language_info": {
      "name": "python"
    }
  },
  "cells": [
    {
      "cell_type": "markdown",
      "metadata": {
        "id": "view-in-github",
        "colab_type": "text"
      },
      "source": [
        "<a href=\"https://colab.research.google.com/github/Kavu849/LeetCode_DSA/blob/main/3_longest_substring_without_repeating_characters.ipynb\" target=\"_parent\"><img src=\"https://colab.research.google.com/assets/colab-badge.svg\" alt=\"Open In Colab\"/></a>"
      ]
    },
    {
      "cell_type": "markdown",
      "source": [
        "Solution using sliding window. Time complexity: O(n)"
      ],
      "metadata": {
        "id": "v479mKRsqvbf"
      }
    },
    {
      "cell_type": "code",
      "source": [
        "class Solution:\n",
        "    def lengthOfLongestSubstring(self, s: str) -> int:\n",
        "        longest = 0\n",
        "        l = 0\n",
        "        char_set = set()\n",
        "\n",
        "        for r in range(len(s)):\n",
        "            while s[r] in char_set:\n",
        "                char_set.remove(s[l])\n",
        "                l += 1\n",
        "            char_set.add(s[r])\n",
        "            longest = max(longest, len(char_set))\n",
        "        return longest\n",
        "\n",
        ""
      ],
      "metadata": {
        "id": "Nq8u7NG_Vtk2"
      },
      "execution_count": null,
      "outputs": []
    }
  ]
}