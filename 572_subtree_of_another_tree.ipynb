{
  "nbformat": 4,
  "nbformat_minor": 0,
  "metadata": {
    "colab": {
      "provenance": [],
      "authorship_tag": "ABX9TyMu5Box2G1gvXHPumKF4aMK",
      "include_colab_link": true
    },
    "kernelspec": {
      "name": "python3",
      "display_name": "Python 3"
    },
    "language_info": {
      "name": "python"
    }
  },
  "cells": [
    {
      "cell_type": "markdown",
      "metadata": {
        "id": "view-in-github",
        "colab_type": "text"
      },
      "source": [
        "<a href=\"https://colab.research.google.com/github/Kavu849/LeetCode_DSA/blob/main/572_subtree_of_another_tree.ipynb\" target=\"_parent\"><img src=\"https://colab.research.google.com/assets/colab-badge.svg\" alt=\"Open In Colab\"/></a>"
      ]
    },
    {
      "cell_type": "markdown",
      "source": [
        "Two solutions (recursion and queue) to the subtree problem"
      ],
      "metadata": {
        "id": "FrRKKBFgKhAF"
      }
    },
    {
      "cell_type": "code",
      "execution_count": null,
      "metadata": {
        "id": "YcMbbIha7XUn"
      },
      "outputs": [],
      "source": [
        "# Definition for a binary tree node.\n",
        "# class TreeNode:\n",
        "#     def __init__(self, val=0, left=None, right=None):\n",
        "#         self.val = val\n",
        "#         self.left = left\n",
        "#         self.right = right\n",
        "class Solution:\n",
        "    def isSameTree(self, p: Optional[TreeNode], q: Optional[TreeNode]) -> bool:\n",
        "        ## Include the isSameTree function from problem 100. Same Tree\n",
        "        if (p is None and q is None):\n",
        "            return True\n",
        "        if p is None or q is None or p.val != q.val:\n",
        "            return False\n",
        "\n",
        "        return (self.isSameTree(p.left, q.left) and self.isSameTree(p.right, q.right))\n",
        "\n",
        "    def isSubtree(self, root: Optional[TreeNode], subRoot: Optional[TreeNode]) -> bool:\n",
        "        ## Aproach using recursion\n",
        "        if subRoot is None:\n",
        "            return True\n",
        "        if root is None:\n",
        "            return False\n",
        "\n",
        "        if self.isSameTree(root, subRoot): return True\n",
        "\n",
        "        return self.isSubtree(root.left, subRoot) or self.isSubtree(root.right, subRoot)\n",
        "\n",
        "        ## Approach using queues\n",
        "        # queue = []\n",
        "        # queue.append(root)\n",
        "\n",
        "        # while len(queue) > 0:\n",
        "        #     temp = queue.pop(0)\n",
        "        #     flag = self.isSameTree(temp, subRoot)\n",
        "        #     if flag == True:\n",
        "        #         return True\n",
        "        #     if temp.left is not None:\n",
        "        #         queue.append(temp.left)\n",
        "        #     if temp.right is not None:\n",
        "        #         queue.append(temp.right)\n",
        "\n",
        "        # return False"
      ]
    }
  ]
}