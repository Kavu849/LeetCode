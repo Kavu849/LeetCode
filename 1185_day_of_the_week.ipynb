{
  "nbformat": 4,
  "nbformat_minor": 0,
  "metadata": {
    "colab": {
      "provenance": [],
      "authorship_tag": "ABX9TyOxkUZsyPljGJU0qEoABdNA",
      "include_colab_link": true
    },
    "kernelspec": {
      "name": "python3",
      "display_name": "Python 3"
    },
    "language_info": {
      "name": "python"
    }
  },
  "cells": [
    {
      "cell_type": "markdown",
      "metadata": {
        "id": "view-in-github",
        "colab_type": "text"
      },
      "source": [
        "<a href=\"https://colab.research.google.com/github/Kavu849/LeetCode_DSA/blob/main/1185_day_of_the_week.ipynb\" target=\"_parent\"><img src=\"https://colab.research.google.com/assets/colab-badge.svg\" alt=\"Open In Colab\"/></a>"
      ]
    },
    {
      "cell_type": "markdown",
      "source": [
        "Zeller's congruence. Note that January and February are counted as months 13 and 14 of the previous year.\n",
        "\n",
        "Time complexity: O(1)\n",
        "\n",
        "Extra space complexity: O(1)"
      ],
      "metadata": {
        "id": "BL4PB91M_9UV"
      }
    },
    {
      "cell_type": "code",
      "execution_count": null,
      "metadata": {
        "id": "sxigPYal_8ZV"
      },
      "outputs": [],
      "source": [
        "class Solution:\n",
        "    def dayOfTheWeek(self, day: int, month: int, year: int) -> str:\n",
        "        days_dict = {\n",
        "            0: \"Saturday\",\n",
        "            1: \"Sunday\",\n",
        "            2: \"Monday\",\n",
        "            3: \"Tuesday\",\n",
        "            4: \"Wednesday\",\n",
        "            5: \"Thursday\",\n",
        "            6: \"Friday\",\n",
        "        }\n",
        "\n",
        "        # We use Zeller's congurence\n",
        "        # In this algorithm January and February are counted as months 13 and 14 of the previous year\n",
        "        if month == 1 or month == 2:\n",
        "            month += 12\n",
        "            year -= 1\n",
        "        # K: year of the century, J: zero-based century\n",
        "        K = year % 100\n",
        "        J = year // 100\n",
        "\n",
        "        day = (day + (13*(month + 1)) // 5 + K + K // 4 + J // 4 - 2 * J) % 7\n",
        "\n",
        "        return days_dict[day]"
      ]
    }
  ]
}