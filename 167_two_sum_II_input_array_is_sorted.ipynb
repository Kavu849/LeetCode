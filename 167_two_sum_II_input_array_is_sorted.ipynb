{
  "nbformat": 4,
  "nbformat_minor": 0,
  "metadata": {
    "colab": {
      "provenance": [],
      "authorship_tag": "ABX9TyMFXVwohMvoTtGSxrjregXX",
      "include_colab_link": true
    },
    "kernelspec": {
      "name": "python3",
      "display_name": "Python 3"
    },
    "language_info": {
      "name": "python"
    }
  },
  "cells": [
    {
      "cell_type": "markdown",
      "metadata": {
        "id": "view-in-github",
        "colab_type": "text"
      },
      "source": [
        "<a href=\"https://colab.research.google.com/github/Kavu849/LeetCode/blob/main/167_two_sum_II_input_array_is_sorted.ipynb\" target=\"_parent\"><img src=\"https://colab.research.google.com/assets/colab-badge.svg\" alt=\"Open In Colab\"/></a>"
      ]
    },
    {
      "cell_type": "code",
      "execution_count": null,
      "metadata": {
        "id": "jXn-Co6KxQSi"
      },
      "outputs": [],
      "source": [
        "class Solution(object):\n",
        "    def twoSum(self, numbers, target):\n",
        "        \"\"\"\n",
        "        :type numbers: List[int]\n",
        "        :type target: int\n",
        "        :rtype: List[int]\n",
        "        \"\"\"\n",
        "        i = 0\n",
        "        j = len(numbers) - 1\n",
        "\n",
        "        while i<j:\n",
        "            if numbers[i] + numbers[j] == target:\n",
        "                return [i+1,j+1]\n",
        "            elif numbers[i] + numbers[j] > target:\n",
        "                j -= 1\n",
        "            else:\n",
        "                i += 1"
      ]
    }
  ]
}