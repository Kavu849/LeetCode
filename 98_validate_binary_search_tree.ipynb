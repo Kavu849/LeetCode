{
  "nbformat": 4,
  "nbformat_minor": 0,
  "metadata": {
    "colab": {
      "provenance": [],
      "authorship_tag": "ABX9TyPD1nFm8PsI6/h0P+ElBcqD",
      "include_colab_link": true
    },
    "kernelspec": {
      "name": "python3",
      "display_name": "Python 3"
    },
    "language_info": {
      "name": "python"
    }
  },
  "cells": [
    {
      "cell_type": "markdown",
      "metadata": {
        "id": "view-in-github",
        "colab_type": "text"
      },
      "source": [
        "<a href=\"https://colab.research.google.com/github/Kavu849/LeetCode_DSA/blob/main/98_validate_binary_search_tree.ipynb\" target=\"_parent\"><img src=\"https://colab.research.google.com/assets/colab-badge.svg\" alt=\"Open In Colab\"/></a>"
      ]
    },
    {
      "cell_type": "markdown",
      "source": [
        "The idea is that we have variables 'left' and 'right' that we pass to the helper function 'valid'. They represent left and right endpoints of the interval that we use to verify if a given node is valid (it is valid if it lies in the interval). When we move to the left, we update the right endpoint of the interval to the value of the node, and if we move to the right we update the left endpoint to the value of the node.\n",
        "\n",
        "Time complexity: O(n)\n",
        "\n",
        "Extra space complexity: O(n)"
      ],
      "metadata": {
        "id": "F5fufBZKaid9"
      }
    },
    {
      "cell_type": "code",
      "execution_count": null,
      "metadata": {
        "id": "foVdJVXaac0t"
      },
      "outputs": [],
      "source": [
        "# Definition for a binary tree node.\n",
        "# class TreeNode:\n",
        "#     def __init__(self, val=0, left=None, right=None):\n",
        "#         self.val = val\n",
        "#         self.left = left\n",
        "#         self.right = right\n",
        "class Solution:\n",
        "    def isValidBST(self, root: Optional[TreeNode]) -> bool:\n",
        "\n",
        "        def valid(node, left, right):\n",
        "            if node is None:\n",
        "                return True\n",
        "\n",
        "            if not(node.val < right and node.val > left):\n",
        "                return False\n",
        "\n",
        "            return valid(node.left, left, node.val) and valid(node.right, node.val, right)\n",
        "\n",
        "        return valid(root, float('-inf'), float('inf'))\n",
        "\n"
      ]
    }
  ]
}