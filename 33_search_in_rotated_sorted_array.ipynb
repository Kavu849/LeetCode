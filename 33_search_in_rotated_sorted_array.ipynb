{
  "nbformat": 4,
  "nbformat_minor": 0,
  "metadata": {
    "colab": {
      "provenance": [],
      "authorship_tag": "ABX9TyPDfjP/3F6L/X7Va4PEzdIF",
      "include_colab_link": true
    },
    "kernelspec": {
      "name": "python3",
      "display_name": "Python 3"
    },
    "language_info": {
      "name": "python"
    }
  },
  "cells": [
    {
      "cell_type": "markdown",
      "metadata": {
        "id": "view-in-github",
        "colab_type": "text"
      },
      "source": [
        "<a href=\"https://colab.research.google.com/github/Kavu849/LeetCode_DSA/blob/main/33_search_in_rotated_sorted_array.ipynb\" target=\"_parent\"><img src=\"https://colab.research.google.com/assets/colab-badge.svg\" alt=\"Open In Colab\"/></a>"
      ]
    },
    {
      "cell_type": "markdown",
      "source": [
        "First solution, binary search. Time complexity: O(logn)"
      ],
      "metadata": {
        "id": "R7UmJ4p3XLse"
      }
    },
    {
      "cell_type": "code",
      "source": [
        "class Solution:\n",
        "    def search(self, nums: List[int], target: int) -> int:\n",
        "        a, b = 0, len(nums) - 1\n",
        "\n",
        "        while a <= b:\n",
        "            c = (a + b) // 2\n",
        "            if nums[c] == target:\n",
        "                return c\n",
        "            if nums[a] <= nums[c]:\n",
        "                if nums[a] <= target < nums[c]:\n",
        "                    b = c - 1\n",
        "                else:\n",
        "                    a = c + 1\n",
        "            else:\n",
        "                if nums[c] < target <= nums[b]:\n",
        "                    a = c + 1\n",
        "                else:\n",
        "                    b = c - 1\n",
        "        return -1"
      ],
      "metadata": {
        "id": "Ee-IxDzS6XqS"
      },
      "execution_count": null,
      "outputs": []
    }
  ]
}