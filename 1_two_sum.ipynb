{
  "nbformat": 4,
  "nbformat_minor": 0,
  "metadata": {
    "colab": {
      "provenance": [],
      "authorship_tag": "ABX9TyMSA5ARSRzh8FhUkgZAqyZs",
      "include_colab_link": true
    },
    "kernelspec": {
      "name": "python3",
      "display_name": "Python 3"
    },
    "language_info": {
      "name": "python"
    }
  },
  "cells": [
    {
      "cell_type": "markdown",
      "metadata": {
        "id": "view-in-github",
        "colab_type": "text"
      },
      "source": [
        "<a href=\"https://colab.research.google.com/github/Kavu849/LeetCode/blob/main/1_two_sum.ipynb\" target=\"_parent\"><img src=\"https://colab.research.google.com/assets/colab-badge.svg\" alt=\"Open In Colab\"/></a>"
      ]
    },
    {
      "cell_type": "markdown",
      "source": [
        "First solution, looping over the two lists, time complexity O(n^2)"
      ],
      "metadata": {
        "id": "FVP4pld28QBM"
      }
    },
    {
      "cell_type": "code",
      "execution_count": null,
      "metadata": {
        "id": "RF4bdan17gyr"
      },
      "outputs": [],
      "source": [
        "class Solution(object):\n",
        "    def twoSum(self, nums, target):\n",
        "        \"\"\"\n",
        "        :type nums: List[int]\n",
        "        :type target: int\n",
        "        :rtype: List[int]\n",
        "        \"\"\"\n",
        "        for i in range(len(nums)):\n",
        "            for j in range(len(nums)):\n",
        "                if i!=j and nums[i] + nums[j] == target:\n",
        "                    return [i, j]"
      ]
    },
    {
      "cell_type": "markdown",
      "source": [
        "Second solution, use hashmaps. Create a dictionary with keys as elements of the list and values as their indices. Then iteratively add elements to the dictionary and check whether the value we are looking for is already there. Time complexity: O(n)"
      ],
      "metadata": {
        "id": "hkerIZ_S9MPb"
      }
    },
    {
      "cell_type": "code",
      "source": [
        "class Solution(object):\n",
        "    def twoSum(self, nums, target):\n",
        "        \"\"\"\n",
        "        :type nums: List[int]\n",
        "        :type target: int\n",
        "        :rtype: List[int]\n",
        "        \"\"\"\n",
        "\n",
        "        hashmap = {} # element: index\n",
        "\n",
        "        for ind, val in enumerate(nums):\n",
        "            diff = target - val\n",
        "            if diff in hashmap:\n",
        "                return [ind, hashmap.get(diff)]\n",
        "            hashmap[val] = ind"
      ],
      "metadata": {
        "id": "LWbma8FNHi3W"
      },
      "execution_count": null,
      "outputs": []
    }
  ]
}