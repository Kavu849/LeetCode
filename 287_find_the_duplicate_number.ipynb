{
  "nbformat": 4,
  "nbformat_minor": 0,
  "metadata": {
    "colab": {
      "provenance": [],
      "authorship_tag": "ABX9TyMO6SmdulOsKpvRawMehXM6",
      "include_colab_link": true
    },
    "kernelspec": {
      "name": "python3",
      "display_name": "Python 3"
    },
    "language_info": {
      "name": "python"
    }
  },
  "cells": [
    {
      "cell_type": "markdown",
      "metadata": {
        "id": "view-in-github",
        "colab_type": "text"
      },
      "source": [
        "<a href=\"https://colab.research.google.com/github/Kavu849/LeetCode_DSA/blob/main/287_find_the_duplicate_number.ipynb\" target=\"_parent\"><img src=\"https://colab.research.google.com/assets/colab-badge.svg\" alt=\"Open In Colab\"/></a>"
      ]
    },
    {
      "cell_type": "markdown",
      "source": [
        "Optimal solution. Very tricky, we treat the list as a linked list where a given value in the array refers to the index of the next element. We then use Floyd's tortoise and hare algorithm to detect a cycle. Once the cycle is detected, we find the beginning of this cycle by first moving the slow pointer to the beginning, and then moving both slow and fast pointers by one. If we do it that way, the pointers will meet at the beginning of the cycle.\n",
        "\n",
        "Time complexity: O(n)\n",
        "\n",
        "Extra space complexity: O(1)"
      ],
      "metadata": {
        "id": "IvwWW8HO1Rbv"
      }
    },
    {
      "cell_type": "code",
      "execution_count": null,
      "metadata": {
        "id": "ftAKNRnFiE0u"
      },
      "outputs": [],
      "source": [
        "class Solution:\n",
        "    def findDuplicate(self, nums: List[int]) -> int:\n",
        "        slow, fast = nums[0], nums[0]\n",
        "\n",
        "        while True:\n",
        "            slow = nums[slow]\n",
        "            fast = nums[nums[fast]]\n",
        "            if slow == fast:\n",
        "                break\n",
        "\n",
        "        slow2 = nums[0]\n",
        "        while slow2 != fast:\n",
        "            slow2 = nums[slow2]\n",
        "            fast = nums[fast]\n",
        "\n",
        "        return slow2"
      ]
    }
  ]
}