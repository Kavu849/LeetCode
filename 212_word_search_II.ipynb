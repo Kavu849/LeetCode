{
  "nbformat": 4,
  "nbformat_minor": 0,
  "metadata": {
    "colab": {
      "provenance": [],
      "authorship_tag": "ABX9TyNuMl35TBpINuh73P4lghvl",
      "include_colab_link": true
    },
    "kernelspec": {
      "name": "python3",
      "display_name": "Python 3"
    },
    "language_info": {
      "name": "python"
    }
  },
  "cells": [
    {
      "cell_type": "markdown",
      "metadata": {
        "id": "view-in-github",
        "colab_type": "text"
      },
      "source": [
        "<a href=\"https://colab.research.google.com/github/Kavu849/LeetCode_DSA/blob/main/212_word_search_II.ipynb\" target=\"_parent\"><img src=\"https://colab.research.google.com/assets/colab-badge.svg\" alt=\"Open In Colab\"/></a>"
      ]
    },
    {
      "cell_type": "markdown",
      "source": [
        "Good solution. We create a trie and add all the words in the list to it. Then, using backtracking we go through all elements in the board. If at a current node we see that it is the end of some word, we add that word to the result (result is a set in order to avoid duplicates). Then, we move further down the trie.\n",
        "\n",
        "A simplification would be to add a new method to the TrieNode class that would prune the tree if we found a word. That would saves extra work.\n",
        "\n",
        "Time complexity: O(m\\*n\\*4^(m\\*n))\n",
        "\n",
        "Extra space complexity: ?"
      ],
      "metadata": {
        "id": "d6lHixPcoh27"
      }
    },
    {
      "cell_type": "code",
      "source": [
        "class TrieNode:\n",
        "    def __init__(self):\n",
        "        self.children = {}\n",
        "        self.endOfWord = False\n",
        "\n",
        "    def addWord(self, word):\n",
        "        curr = self\n",
        "        for c in word:\n",
        "            if c not in curr.children:\n",
        "                curr.children[c] = TrieNode()\n",
        "            curr = curr.children[c]\n",
        "        curr.endOfWord = True\n",
        "\n",
        "class Solution:\n",
        "    def findWords(self, board: List[List[str]], words: List[str]) -> List[str]:\n",
        "        # first, add all the word into a trie\n",
        "        root = TrieNode()\n",
        "        for w in words:\n",
        "            root.addWord(w)\n",
        "\n",
        "        res = set()\n",
        "        rows = len(board)\n",
        "        cols = len(board[0])\n",
        "        path = set()\n",
        "\n",
        "        def backtracking(r, c, node, currWord):\n",
        "            if (\n",
        "                r < 0\n",
        "                or r >= rows\n",
        "                or c < 0\n",
        "                or c >= cols\n",
        "                or (r, c) in path\n",
        "                or board[r][c] not in node.children\n",
        "            ):\n",
        "                return\n",
        "\n",
        "            path.add((r, c))\n",
        "            currWord += board[r][c]\n",
        "            node = node.children[board[r][c]]\n",
        "\n",
        "            if node.endOfWord:\n",
        "                res.add(currWord)\n",
        "\n",
        "            backtracking(r, c + 1, node, currWord)\n",
        "            backtracking(r - 1, c, node, currWord)\n",
        "            backtracking(r, c - 1, node, currWord)\n",
        "            backtracking(r + 1, c, node, currWord)\n",
        "\n",
        "            path.remove((r, c))\n",
        "\n",
        "        for r in range(rows):\n",
        "            for c in range(cols):\n",
        "                backtracking(r, c, root, \"\")\n",
        "\n",
        "        return res"
      ],
      "metadata": {
        "id": "nlKFBdUjohRx"
      },
      "execution_count": null,
      "outputs": []
    }
  ]
}