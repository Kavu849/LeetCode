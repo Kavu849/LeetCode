{
  "nbformat": 4,
  "nbformat_minor": 0,
  "metadata": {
    "colab": {
      "provenance": [],
      "authorship_tag": "ABX9TyMOj1Dt6PQWqKRYGAYOUFXw",
      "include_colab_link": true
    },
    "kernelspec": {
      "name": "python3",
      "display_name": "Python 3"
    },
    "language_info": {
      "name": "python"
    }
  },
  "cells": [
    {
      "cell_type": "markdown",
      "metadata": {
        "id": "view-in-github",
        "colab_type": "text"
      },
      "source": [
        "<a href=\"https://colab.research.google.com/github/Kavu849/LeetCode_DSA/blob/main/51_n_queens.ipynb\" target=\"_parent\"><img src=\"https://colab.research.google.com/assets/colab-badge.svg\" alt=\"Open In Colab\"/></a>"
      ]
    },
    {
      "cell_type": "markdown",
      "source": [
        "Clever solution to the N-Queens problem using backtracking. For a given row, we iterate over the columns from 1 to n, checking if we can place a queen on that position (this is done using sets 'columns', 'podDiag', and 'negDiag'). If we can, we place it there, update the sets, and call the backtracking function on the next row. If we ever reach the point where r==n, this means that we managed to place all the queens and this position can be added to the result.\n",
        "\n",
        "Now, when we call the backtracking function with r=0, this means that the outermost function, at the bottom of the recursive stack, will iterate through all the columns of the first row. In other words, we will try to place the first queen in any position of the first row. Each try like that will trigger a long recursive call stack. It is enough to iterate over the first row only, as it is impossible to place n queens on an nxn board and not place any queens in the first row.\n",
        "\n",
        "Time complexity: O(n!)\n",
        "\n",
        "Extra space complexity: O(n^2)"
      ],
      "metadata": {
        "id": "pxdCZBtM8Z9h"
      }
    },
    {
      "cell_type": "code",
      "execution_count": null,
      "metadata": {
        "id": "v3pPgqYt8ZN5"
      },
      "outputs": [],
      "source": [
        "class Solution:\n",
        "    def solveNQueens(self, n: int) -> List[List[str]]:\n",
        "        columns = set()\n",
        "        posDiag = set()\n",
        "        negDiag = set()\n",
        "\n",
        "        res = []\n",
        "        board = [[\".\"] * n for i in range(n)]\n",
        "\n",
        "        def backtracking(r):\n",
        "            if r == n:\n",
        "                copy = [\"\".join(row) for row in board]\n",
        "                res.append(copy)\n",
        "                return\n",
        "\n",
        "            for c in range(n):\n",
        "                if c in columns or (r + c) in posDiag or (r - c) in negDiag:\n",
        "                    continue\n",
        "\n",
        "                columns.add(c)\n",
        "                posDiag.add(r + c)\n",
        "                negDiag.add(r - c)\n",
        "                board[r][c] = \"Q\"\n",
        "                backtracking(r + 1)\n",
        "\n",
        "                columns.remove(c)\n",
        "                posDiag.remove(r + c)\n",
        "                negDiag.remove(r - c)\n",
        "                board[r][c] = \".\"\n",
        "\n",
        "        backtracking(0)\n",
        "\n",
        "        return res"
      ]
    }
  ]
}