{
  "nbformat": 4,
  "nbformat_minor": 0,
  "metadata": {
    "colab": {
      "provenance": [],
      "authorship_tag": "ABX9TyPM2ixLKa8D+3ZvHYcJZGIu",
      "include_colab_link": true
    },
    "kernelspec": {
      "name": "python3",
      "display_name": "Python 3"
    },
    "language_info": {
      "name": "python"
    }
  },
  "cells": [
    {
      "cell_type": "markdown",
      "metadata": {
        "id": "view-in-github",
        "colab_type": "text"
      },
      "source": [
        "<a href=\"https://colab.research.google.com/github/Kavu849/LeetCode_DSA/blob/main/981_time_based_key_value_store.ipynb\" target=\"_parent\"><img src=\"https://colab.research.google.com/assets/colab-badge.svg\" alt=\"Open In Colab\"/></a>"
      ]
    },
    {
      "cell_type": "markdown",
      "source": [
        "Optimal solution, note that elements are added with increasing timestamps, so binary search can be used. Time complexity: O(logn)"
      ],
      "metadata": {
        "id": "eawoJhT7WxWc"
      }
    },
    {
      "cell_type": "code",
      "source": [
        "class TimeMap:\n",
        "\n",
        "    def __init__(self):\n",
        "        self.key_store = {} # in the dictionary, for every key we store the pair [val, timestamp]\n",
        "\n",
        "    def set(self, key: str, value: str, timestamp: int) -> None:\n",
        "        if key not in self.key_store:\n",
        "            self.key_store[key] = []\n",
        "        self.key_store[key].append([value, timestamp])\n",
        "\n",
        "    def get(self, key: str, timestamp: int) -> str:\n",
        "        # since we know from the problem description that all timestamps are strictly increasing, we can run binary search\n",
        "        if key not in self.key_store:\n",
        "            return \"\"\n",
        "        a, b = 0, len(self.key_store[key]) - 1\n",
        "        res = \"\"\n",
        "        vals = self.key_store[key]\n",
        "\n",
        "        while a <= b:\n",
        "            c = (a + b) // 2\n",
        "            if vals[c][1] <= timestamp:\n",
        "                res = vals[c][0]\n",
        "                a = c + 1\n",
        "            else:\n",
        "                b = c - 1\n",
        "        return res\n",
        "\n",
        "# Your TimeMap object will be instantiated and called as such:\n",
        "# obj = TimeMap()\n",
        "# obj.set(key,value,timestamp)\n",
        "# param_2 = obj.get(key,timestamp)"
      ],
      "metadata": {
        "id": "tHl6B_tRRLVK"
      },
      "execution_count": null,
      "outputs": []
    }
  ]
}