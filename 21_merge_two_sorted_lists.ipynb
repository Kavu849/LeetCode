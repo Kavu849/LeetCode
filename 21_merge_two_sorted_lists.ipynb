{
  "nbformat": 4,
  "nbformat_minor": 0,
  "metadata": {
    "colab": {
      "provenance": [],
      "authorship_tag": "ABX9TyP8oQuh343MbFz18ZonrJey",
      "include_colab_link": true
    },
    "kernelspec": {
      "name": "python3",
      "display_name": "Python 3"
    },
    "language_info": {
      "name": "python"
    }
  },
  "cells": [
    {
      "cell_type": "markdown",
      "metadata": {
        "id": "view-in-github",
        "colab_type": "text"
      },
      "source": [
        "<a href=\"https://colab.research.google.com/github/Kavu849/LeetCode_DSA/blob/main/21_merge_two_sorted_lists.ipynb\" target=\"_parent\"><img src=\"https://colab.research.google.com/assets/colab-badge.svg\" alt=\"Open In Colab\"/></a>"
      ]
    },
    {
      "cell_type": "markdown",
      "source": [
        "Time complexity: O(n + m), where 'n' is the number of nodes of list1 and 'm' is the number of nodes of list2\n",
        "Space complexity: O(1)"
      ],
      "metadata": {
        "id": "NzFSC6BdtzLp"
      }
    },
    {
      "cell_type": "code",
      "execution_count": null,
      "metadata": {
        "id": "sTtVH40Ftxzx"
      },
      "outputs": [],
      "source": [
        "# Definition for singly-linked list.\n",
        "# class ListNode:\n",
        "#     def __init__(self, val=0, next=None):\n",
        "#         self.val = val\n",
        "#         self.next = next\n",
        "class Solution:\n",
        "    def mergeTwoLists(self, list1: Optional[ListNode], list2: Optional[ListNode]) -> Optional[ListNode]:\n",
        "        dummy = ListNode()\n",
        "        tail = dummy\n",
        "\n",
        "        while list1 and list2:\n",
        "            if list1.val <= list2.val:\n",
        "                tail.next = list1\n",
        "                list1 = list1.next\n",
        "            else:\n",
        "                tail.next = list2\n",
        "                list2 = list2.next\n",
        "            tail = tail.next\n",
        "\n",
        "        if list1 is None:\n",
        "            tail.next = list2\n",
        "        elif list2 is None:\n",
        "            tail.next = list1\n",
        "\n",
        "        return dummy.next"
      ]
    }
  ]
}