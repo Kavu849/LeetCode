{
  "nbformat": 4,
  "nbformat_minor": 0,
  "metadata": {
    "colab": {
      "provenance": [],
      "authorship_tag": "ABX9TyOaHp92TVNJ4SPGq+cRwcaS",
      "include_colab_link": true
    },
    "kernelspec": {
      "name": "python3",
      "display_name": "Python 3"
    },
    "language_info": {
      "name": "python"
    }
  },
  "cells": [
    {
      "cell_type": "markdown",
      "metadata": {
        "id": "view-in-github",
        "colab_type": "text"
      },
      "source": [
        "<a href=\"https://colab.research.google.com/github/Kavu849/LeetCode_DSA/blob/main/19_remove_nth_node_from_end_of_list.ipynb\" target=\"_parent\"><img src=\"https://colab.research.google.com/assets/colab-badge.svg\" alt=\"Open In Colab\"/></a>"
      ]
    },
    {
      "cell_type": "markdown",
      "source": [
        "Not the optimal solution. Traverse the linked list first in order to find its size. Then deduce which element to remove from the size, and traverse it again to remove it.\n",
        "\n",
        "Time complexity: O(n)"
      ],
      "metadata": {
        "id": "2K5c_f-5PF1k"
      }
    },
    {
      "cell_type": "code",
      "execution_count": null,
      "metadata": {
        "id": "kzmqYaH5u5dk"
      },
      "outputs": [],
      "source": [
        "# Definition for singly-linked list.\n",
        "# class ListNode:\n",
        "#     def __init__(self, val=0, next=None):\n",
        "#         self.val = val\n",
        "#         self.next = next\n",
        "class Solution:\n",
        "    def removeNthFromEnd(self, head: Optional[ListNode], n: int) -> Optional[ListNode]:\n",
        "        size = 0\n",
        "        curr = head\n",
        "        prev = None\n",
        "\n",
        "        while curr:\n",
        "            prev = curr\n",
        "            curr = curr.next\n",
        "            size += 1\n",
        "\n",
        "        ind = size - n + 1\n",
        "        if n == size:\n",
        "            head = head.next\n",
        "            return head\n",
        "\n",
        "        i = 1\n",
        "        curr = head\n",
        "        prev = head\n",
        "\n",
        "        while i < ind:\n",
        "            prev = curr\n",
        "            curr = curr.next\n",
        "            i += 1\n",
        "\n",
        "        temp = curr.next\n",
        "        if temp:\n",
        "            prev.next = prev.next.next\n",
        "        else:\n",
        "            prev.next = None\n",
        "        return head"
      ]
    },
    {
      "cell_type": "markdown",
      "source": [
        "Optimal solution. We use two pointers (left pointers at position 1, right pointer at position 1+n) so that we use only one pass. Note the trick with the dummy node.\n",
        "\n",
        "Time complexity: O(n)"
      ],
      "metadata": {
        "id": "Xm2FgH7AQw_f"
      }
    },
    {
      "cell_type": "code",
      "source": [
        "# Definition for singly-linked list.\n",
        "# class ListNode:\n",
        "#     def __init__(self, val=0, next=None):\n",
        "#         self.val = val\n",
        "#         self.next = next\n",
        "class Solution:\n",
        "    def removeNthFromEnd(self, head: Optional[ListNode], n: int) -> Optional[ListNode]:\n",
        "        dummy = ListNode()\n",
        "        dummy.next = head\n",
        "        left = dummy\n",
        "        right = head\n",
        "\n",
        "        i = 1\n",
        "        while i <= n:\n",
        "            right = right.next\n",
        "            i += 1\n",
        "\n",
        "        while right:\n",
        "            left = left.next\n",
        "            right = right.next\n",
        "\n",
        "        left.next = left.next.next\n",
        "        return dummy.next"
      ],
      "metadata": {
        "id": "QxWn9vEyRFMv"
      },
      "execution_count": null,
      "outputs": []
    }
  ]
}