{
  "nbformat": 4,
  "nbformat_minor": 0,
  "metadata": {
    "colab": {
      "provenance": [],
      "authorship_tag": "ABX9TyOvy/Z5jZ2MQGP85mOgP1Wg",
      "include_colab_link": true
    },
    "kernelspec": {
      "name": "python3",
      "display_name": "Python 3"
    },
    "language_info": {
      "name": "python"
    }
  },
  "cells": [
    {
      "cell_type": "markdown",
      "metadata": {
        "id": "view-in-github",
        "colab_type": "text"
      },
      "source": [
        "<a href=\"https://colab.research.google.com/github/Kavu849/LeetCode_DSA/blob/main/105_construct_binary_tree_from_preorder_and_inorder_traversal.ipynb\" target=\"_parent\"><img src=\"https://colab.research.google.com/assets/colab-badge.svg\" alt=\"Open In Colab\"/></a>"
      ]
    },
    {
      "cell_type": "markdown",
      "source": [
        "Recursive solution. Note that the first element in the preorder list will be the root. This element will exist in the inorder list, and everything to the lest of it will go to the left subtree, and everything to the right of it will go to the right subtree.\n",
        "\n",
        "Time complexity: O(n)\n",
        "\n",
        "Extra space complexity: O(n)"
      ],
      "metadata": {
        "id": "KABhvgIdfHRH"
      }
    },
    {
      "cell_type": "code",
      "execution_count": null,
      "metadata": {
        "id": "FAK0yHLMfG1Z"
      },
      "outputs": [],
      "source": [
        "# Definition for a binary tree node.\n",
        "# class TreeNode:\n",
        "#     def __init__(self, val=0, left=None, right=None):\n",
        "#         self.val = val\n",
        "#         self.left = left\n",
        "#         self.right = right\n",
        "class Solution:\n",
        "    def buildTree(self, preorder: List[int], inorder: List[int]) -> Optional[TreeNode]:\n",
        "        if not preorder or not inorder:\n",
        "            return\n",
        "\n",
        "        root = TreeNode(preorder[0])\n",
        "        inord_ind = inorder.index(root.val)\n",
        "        root.left = self.buildTree(preorder[1:inord_ind + 1], inorder[:inord_ind])\n",
        "        root.right = self.buildTree(preorder[inord_ind + 1:], inorder[inord_ind + 1:])\n",
        "        return root"
      ]
    }
  ]
}