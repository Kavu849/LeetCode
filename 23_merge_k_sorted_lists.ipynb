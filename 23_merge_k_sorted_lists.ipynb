{
  "nbformat": 4,
  "nbformat_minor": 0,
  "metadata": {
    "colab": {
      "provenance": [],
      "authorship_tag": "ABX9TyMpTSmDoDBpHFOQxiM5xn2E",
      "include_colab_link": true
    },
    "kernelspec": {
      "name": "python3",
      "display_name": "Python 3"
    },
    "language_info": {
      "name": "python"
    }
  },
  "cells": [
    {
      "cell_type": "markdown",
      "metadata": {
        "id": "view-in-github",
        "colab_type": "text"
      },
      "source": [
        "<a href=\"https://colab.research.google.com/github/Kavu849/LeetCode_DSA/blob/main/23_merge_k_sorted_lists.ipynb\" target=\"_parent\"><img src=\"https://colab.research.google.com/assets/colab-badge.svg\" alt=\"Open In Colab\"/></a>"
      ]
    },
    {
      "cell_type": "markdown",
      "source": [
        "Optimal solution. We use a similar approach to the merge sort algorithm. At each step, we are mergind to consecutive lists together (by using an added 'mergeList' function). We continue doing that as long as there are more than two lists to merge. The final result will be one merged list. This approach reduces time complexity from O(n\\*k) to O(n\\*logk).\n",
        "\n",
        "Time complexity: O(n\\*logk)\n",
        "\n",
        "Extra space complexity: O(n)"
      ],
      "metadata": {
        "id": "M2yX9Hq0pTdL"
      }
    },
    {
      "cell_type": "code",
      "execution_count": null,
      "metadata": {
        "id": "Pb2H36SopSPb"
      },
      "outputs": [],
      "source": [
        "# Definition for singly-linked list.\n",
        "# class ListNode:\n",
        "#     def __init__(self, val=0, next=None):\n",
        "#         self.val = val\n",
        "#         self.next = next\n",
        "class Solution:\n",
        "    def mergeList(self, list1, list2):\n",
        "        dummy = ListNode()\n",
        "        tail = dummy\n",
        "\n",
        "        while list1 and list2:\n",
        "            if list1.val <= list2.val:\n",
        "                tail.next = list1\n",
        "                list1 = list1.next\n",
        "            else:\n",
        "                tail.next = list2\n",
        "                list2 = list2.next\n",
        "\n",
        "            tail = tail.next\n",
        "\n",
        "        if list1 is None:\n",
        "            tail.next = list2\n",
        "        else:\n",
        "            tail.next = list1\n",
        "        return dummy.next\n",
        "\n",
        "    def mergeKLists(self, lists: List[Optional[ListNode]]) -> Optional[ListNode]:\n",
        "        if not lists or len(lists) == 0:\n",
        "            return None\n",
        "\n",
        "        while len(lists) > 1:\n",
        "            merged_lists = []\n",
        "\n",
        "            for i in range(0, len(lists), 2):\n",
        "                list1 = lists[i]\n",
        "                list2 = lists[i + 1] if (i + 1) < len(lists) else None\n",
        "                merged = self.mergeList(list1, list2)\n",
        "                merged_lists.append(merged)\n",
        "\n",
        "            lists = merged_lists\n",
        "\n",
        "        return lists[0]"
      ]
    }
  ]
}