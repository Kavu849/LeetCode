{
  "nbformat": 4,
  "nbformat_minor": 0,
  "metadata": {
    "colab": {
      "provenance": [],
      "authorship_tag": "ABX9TyNavGLJ0ockrxTWjk8+Y+Tm",
      "include_colab_link": true
    },
    "kernelspec": {
      "name": "python3",
      "display_name": "Python 3"
    },
    "language_info": {
      "name": "python"
    }
  },
  "cells": [
    {
      "cell_type": "markdown",
      "metadata": {
        "id": "view-in-github",
        "colab_type": "text"
      },
      "source": [
        "<a href=\"https://colab.research.google.com/github/Kavu849/LeetCode_DSA/blob/main/77_combinations.ipynb\" target=\"_parent\"><img src=\"https://colab.research.google.com/assets/colab-badge.svg\" alt=\"Open In Colab\"/></a>"
      ]
    },
    {
      "cell_type": "markdown",
      "source": [
        "First solution, based on the backtracking approach. It is similar to the subsets algorithm, but we have an extra stopping condition, i.e., 'if len(currComb) == k'.\n",
        "\n",
        "Time complexity: O(2^n)\n",
        "\n",
        "Extra space complexity: O(k*C(n, k)), where C(n, k) is the binomial coefficient"
      ],
      "metadata": {
        "id": "PjrO_HF009f6"
      }
    },
    {
      "cell_type": "code",
      "execution_count": null,
      "metadata": {
        "id": "QbpAHvq808tf"
      },
      "outputs": [],
      "source": [
        "class Solution:\n",
        "    def combine(self, n: int, k: int) -> List[List[int]]:\n",
        "        currComb, combinations = [], []\n",
        "        self.helper(1, n, k, currComb, combinations)\n",
        "        return combinations\n",
        "\n",
        "    def helper(self, i, n, k, currComb, combinations):\n",
        "        if len(currComb) == k:\n",
        "            combinations.append(currComb.copy())\n",
        "            return\n",
        "        if i > n:\n",
        "            return\n",
        "\n",
        "        currComb.append(i)\n",
        "        self.helper(i + 1, n, k, currComb, combinations)\n",
        "\n",
        "        currComb.pop()\n",
        "        self.helper(i + 1, n, k, currComb, combinations)"
      ]
    },
    {
      "cell_type": "markdown",
      "source": [
        "Better solution. Here we also use backtracking, but for every number 'i', we append only numbers from i to n (in a loop). That way we improve the overall time complexity.\n",
        "\n",
        "Time complexity: O(k*C(n,k)), where C(n, k) is the binomial coefficient\n",
        "\n",
        "Extra space complexity: O(k*C(n,k)) to store the combinations"
      ],
      "metadata": {
        "id": "nUwcL_fv_UWM"
      }
    },
    {
      "cell_type": "code",
      "source": [
        "class Solution:\n",
        "    def combine(self, n: int, k: int) -> List[List[int]]:\n",
        "        currComb, comb = [], []\n",
        "        self.helper(1, n, k, currComb, comb)\n",
        "        return comb\n",
        "\n",
        "    def helper(self, i, n, k, currComb, comb):\n",
        "        if len(currComb) == k:\n",
        "            comb.append(currComb.copy())\n",
        "            return\n",
        "        if i > n:\n",
        "            return\n",
        "\n",
        "        for j in range(i, n + 1):\n",
        "            currComb.append(j)\n",
        "            self.helper(j + 1, n, k, currComb, comb)\n",
        "            currComb.pop()"
      ],
      "metadata": {
        "id": "S4lmg23Z_Wfw"
      },
      "execution_count": null,
      "outputs": []
    }
  ]
}