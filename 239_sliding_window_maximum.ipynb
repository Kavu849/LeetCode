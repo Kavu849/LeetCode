{
  "nbformat": 4,
  "nbformat_minor": 0,
  "metadata": {
    "colab": {
      "provenance": [],
      "authorship_tag": "ABX9TyPiOiaXB1iDy1HcYt9dFMK9",
      "include_colab_link": true
    },
    "kernelspec": {
      "name": "python3",
      "display_name": "Python 3"
    },
    "language_info": {
      "name": "python"
    }
  },
  "cells": [
    {
      "cell_type": "markdown",
      "metadata": {
        "id": "view-in-github",
        "colab_type": "text"
      },
      "source": [
        "<a href=\"https://colab.research.google.com/github/Kavu849/LeetCode_DSA/blob/main/239_sliding_window_maximum.ipynb\" target=\"_parent\"><img src=\"https://colab.research.google.com/assets/colab-badge.svg\" alt=\"Open In Colab\"/></a>"
      ]
    },
    {
      "cell_type": "markdown",
      "source": [
        "Optimal solution, we use a double-ended queue and two pointers. If the value of the right pointer is greater or equal than the right endpoint of the queue (or the value of nums at the right endpoint of the queue), then we will add it to the queue. Otherwise, we will be removing the elements of the queue as long as the last value will be smaller than the value of nums. Finally, we will be appending the maximum value to the 'res' variable, which will always be the value of nums at the left endpoint of the queue.\n",
        "\n",
        "Time complexity: O(n)\n",
        "\n",
        "Extra space complexity: O(n)"
      ],
      "metadata": {
        "id": "mQLjdZNJwjmn"
      }
    },
    {
      "cell_type": "code",
      "execution_count": null,
      "metadata": {
        "id": "rQQfuGH3wdte"
      },
      "outputs": [],
      "source": [
        "class Solution:\n",
        "    def maxSlidingWindow(self, nums: List[int], k: int) -> List[int]:\n",
        "        max_val = None\n",
        "        l, r = 0, 0\n",
        "        res = []\n",
        "        queue = collections.deque() # the queue will store indices of the numbers, not the numbers themselves\n",
        "\n",
        "        while r < len(nums):\n",
        "            while queue and nums[queue[-1]] < nums[r]:\n",
        "                queue.pop()\n",
        "            queue.append(r)\n",
        "\n",
        "            if l > queue[0]:\n",
        "                queue.popleft()\n",
        "\n",
        "            if r >= (k - 1):\n",
        "                res.append(nums[queue[0]])\n",
        "                l += 1\n",
        "\n",
        "            r += 1\n",
        "\n",
        "        return res"
      ]
    }
  ]
}