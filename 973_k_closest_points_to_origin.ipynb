{
  "nbformat": 4,
  "nbformat_minor": 0,
  "metadata": {
    "colab": {
      "provenance": [],
      "authorship_tag": "ABX9TyOZ1lVStX7kaWQQEzSuy5J9",
      "include_colab_link": true
    },
    "kernelspec": {
      "name": "python3",
      "display_name": "Python 3"
    },
    "language_info": {
      "name": "python"
    }
  },
  "cells": [
    {
      "cell_type": "markdown",
      "metadata": {
        "id": "view-in-github",
        "colab_type": "text"
      },
      "source": [
        "<a href=\"https://colab.research.google.com/github/Kavu849/LeetCode_DSA/blob/main/973_k_closest_points_to_origin.ipynb\" target=\"_parent\"><img src=\"https://colab.research.google.com/assets/colab-badge.svg\" alt=\"Open In Colab\"/></a>"
      ]
    },
    {
      "cell_type": "markdown",
      "source": [
        "Best solution. We create a minHeap, and then pop the first 'k' elements in order to get the closest 'k' elements. What is a big improvement is using the 'heapify' method, instead of pushing onto the heap. Note that 'heapify' works even though our minHeap is a list of tuples. Also, since sqrt is an increasing function, we use the square of distance instead of the distance.\n",
        "\n",
        "Time complexity: O(k*log(n)) + O(n)\n",
        "\n",
        "Extra space complexity: O(n)"
      ],
      "metadata": {
        "id": "L-WiNn3-88ya"
      }
    },
    {
      "cell_type": "code",
      "source": [
        "class Solution:\n",
        "    def kClosest(self, points: List[List[int]], k: int) -> List[List[int]]:\n",
        "        minHeap = []\n",
        "        for p in points:\n",
        "            dist_sq = p[0]**2 + p[1]**2\n",
        "            minHeap.append((dist_sq, p[0], p[1]))\n",
        "\n",
        "        heapq.heapify(minHeap) # remember: heapify is O(n)\n",
        "        res = []\n",
        "        for i in range(k):\n",
        "            _, x, y = heapq.heappop(minHeap)\n",
        "            res.append([x, y])\n",
        "\n",
        "        return res"
      ],
      "metadata": {
        "id": "3DRD5BFE_gjB"
      },
      "execution_count": null,
      "outputs": []
    },
    {
      "cell_type": "markdown",
      "source": [
        "Working solution, but a little bulky since everything is written from scratch. We create a maxHeap of points, where the criterion of adding the points is based on the distance from the origin. Then, we pop the points until there are only k points left. Not very efficient, since we push onto the heap instead of heapifying.\n",
        "\n",
        "Time complexity: O(n\\*logn) + O((n-k)\\*logn) = O(nlogn)\n",
        "\n",
        "Extra space complexity: O(n)"
      ],
      "metadata": {
        "id": "wMSzLAR08hxF"
      }
    },
    {
      "cell_type": "code",
      "execution_count": null,
      "metadata": {
        "id": "HiHkwyg28gal"
      },
      "outputs": [],
      "source": [
        "class Solution:\n",
        "    def dist_or(self, p):\n",
        "        return math.sqrt(p[0]**2 + p[1]**2)\n",
        "\n",
        "    def kClosest(self, points: List[List[int]], k: int) -> List[List[int]]:\n",
        "        # create a maxHeap and push the points onto it based on the distance criterion\n",
        "        # then, pop enough elements so that there are only k left\n",
        "        # return the heap\n",
        "\n",
        "        maxHeap = [[0, 0]]\n",
        "\n",
        "        # push every point onto the maxHeap\n",
        "        for p in points:\n",
        "            maxHeap.append(p)\n",
        "            # percolate up\n",
        "            i = len(maxHeap) - 1\n",
        "            while i > 1 and self.dist_or(maxHeap[i]) > self.dist_or(maxHeap[i // 2]):\n",
        "                maxHeap[i], maxHeap[i // 2] = maxHeap[i // 2], maxHeap[i]\n",
        "                i = i // 2\n",
        "\n",
        "        # now, pop enough elements so that there are only k left\n",
        "        while len(maxHeap) > (k + 1):\n",
        "            maxHeap[1] = maxHeap.pop()\n",
        "            i = 1\n",
        "            while (2 * i) < len(maxHeap):\n",
        "                if (2* i + 1) < len(maxHeap) and self.dist_or(maxHeap[i]) < self.dist_or(maxHeap[2 * i + 1]) and self.dist_or(maxHeap[2 * i + 1]) > self.dist_or(maxHeap[2 * i]):\n",
        "                    maxHeap[i], maxHeap[2 * i + 1] = maxHeap[2 * i + 1], maxHeap[i]\n",
        "                    i = 2 * i + 1\n",
        "                elif self.dist_or(maxHeap[i]) < self.dist_or(maxHeap[2 * i]):\n",
        "                    maxHeap[i], maxHeap[2 * i] = maxHeap[2 * i], maxHeap[i]\n",
        "                    i = 2 * i\n",
        "                else:\n",
        "                    break\n",
        "\n",
        "        return maxHeap[1:]\n"
      ]
    },
    {
      "cell_type": "markdown",
      "source": [
        "Similar idea as above, but we use a minHeap. Still inefficient, since we push onto the heap instead of heapifying.\n",
        "\n",
        "Time complexity: O(n\\*logn) + O(k\\*logn) = O(nlogn)\n",
        "\n",
        "Extra space complexity: O(n)"
      ],
      "metadata": {
        "id": "3r7_wjhPBjqy"
      }
    },
    {
      "cell_type": "code",
      "source": [
        "class Solution:\n",
        "    def dist_or(self, p):\n",
        "        return math.sqrt(p[0]**2 + p[1]**2)\n",
        "\n",
        "    def kClosest(self, points: List[List[int]], k: int) -> List[List[int]]:\n",
        "        res = []\n",
        "        minHeap = [[0, 0]]\n",
        "\n",
        "        # push every point onto the maxHeap\n",
        "        for p in points:\n",
        "            minHeap.append(p)\n",
        "            # percolate up\n",
        "            i = len(minHeap) - 1\n",
        "            while i > 1 and self.dist_or(minHeap[i]) < self.dist_or(minHeap[i // 2]):\n",
        "                minHeap[i], minHeap[i // 2] = minHeap[i // 2], minHeap[i]\n",
        "                i = i // 2\n",
        "        for _ in range(k):\n",
        "            res.append(minHeap[1])\n",
        "            val = minHeap.pop()\n",
        "            if len(minHeap) == 1: minHeap.append(val)\n",
        "            else: minHeap[1] = val\n",
        "\n",
        "            i = 1\n",
        "            while (2 * i) < len(minHeap):\n",
        "                if (2* i + 1) < len(minHeap) and self.dist_or(minHeap[i]) > self.dist_or(minHeap[2 * i + 1]) and self.dist_or(minHeap[2 * i + 1]) < self.dist_or(minHeap[2 * i]):\n",
        "                    minHeap[i], minHeap[2 * i + 1] = minHeap[2 * i + 1], minHeap[i]\n",
        "                    i = 2 * i + 1\n",
        "                elif self.dist_or(minHeap[i]) > self.dist_or(minHeap[2 * i]):\n",
        "                    minHeap[i], minHeap[2 * i] = minHeap[2 * i], minHeap[i]\n",
        "                    i = 2 * i\n",
        "                else:\n",
        "                    break\n",
        "\n",
        "        return res\n"
      ],
      "metadata": {
        "id": "gdtzsff9_hOw"
      },
      "execution_count": null,
      "outputs": []
    }
  ]
}