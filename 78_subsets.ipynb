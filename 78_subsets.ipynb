{
  "nbformat": 4,
  "nbformat_minor": 0,
  "metadata": {
    "colab": {
      "provenance": [],
      "authorship_tag": "ABX9TyN34ptvG0+EEjdQhWueVC+I",
      "include_colab_link": true
    },
    "kernelspec": {
      "name": "python3",
      "display_name": "Python 3"
    },
    "language_info": {
      "name": "python"
    }
  },
  "cells": [
    {
      "cell_type": "markdown",
      "metadata": {
        "id": "view-in-github",
        "colab_type": "text"
      },
      "source": [
        "<a href=\"https://colab.research.google.com/github/Kavu849/LeetCode_DSA/blob/main/78_subsets.ipynb\" target=\"_parent\"><img src=\"https://colab.research.google.com/assets/colab-badge.svg\" alt=\"Open In Colab\"/></a>"
      ]
    },
    {
      "cell_type": "code",
      "execution_count": null,
      "metadata": {
        "id": "yyTubCmuKvGg"
      },
      "outputs": [],
      "source": [
        "class Solution:\n",
        "    def subsets(self, nums: List[int]) -> List[List[int]]:\n",
        "        res = []\n",
        "        subset = []\n",
        "\n",
        "        def dfs(i):\n",
        "            if i >= len(nums):\n",
        "                res.append(subset.copy())\n",
        "                return\n",
        "\n",
        "            subset.append(nums[i])\n",
        "            dfs(i+1)\n",
        "\n",
        "            subset.pop()\n",
        "            dfs(i+1)\n",
        "\n",
        "        dfs(0)\n",
        "        return res"
      ]
    }
  ]
}