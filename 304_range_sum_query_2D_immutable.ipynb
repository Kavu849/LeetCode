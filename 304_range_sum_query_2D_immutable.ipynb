{
  "nbformat": 4,
  "nbformat_minor": 0,
  "metadata": {
    "colab": {
      "provenance": [],
      "authorship_tag": "ABX9TyPIl5EGbXwchG5F3+bkdcCG",
      "include_colab_link": true
    },
    "kernelspec": {
      "name": "python3",
      "display_name": "Python 3"
    },
    "language_info": {
      "name": "python"
    }
  },
  "cells": [
    {
      "cell_type": "markdown",
      "metadata": {
        "id": "view-in-github",
        "colab_type": "text"
      },
      "source": [
        "<a href=\"https://colab.research.google.com/github/Kavu849/LeetCode_DSA/blob/main/304_range_sum_query_2D_immutable.ipynb\" target=\"_parent\"><img src=\"https://colab.research.google.com/assets/colab-badge.svg\" alt=\"Open In Colab\"/></a>"
      ]
    },
    {
      "cell_type": "markdown",
      "source": [
        "The idea is that we will be taking prefix sums rows and column wise, and storing them in the 'prefix_matrix' variable. We will do it in a single run of a nested loop, where we calculate prefix sums for every row and adding the value of the already existent prefix matrix at the row above the given column. Also, the prefix matrix will have 1 extra row and 1 extra column filled with zeros, which makes calculating the resulting sum much easier.\n",
        "\n",
        "To calculate the sum of the submatrix (row1, col1)x(row2, col2), we have to take the value of the prefix matrix at (row2 + 1, col2 + 1), subtract the value at (row2 + 1, col2), subtract the value at (row1, col2 + 1), AND add the value at (row1, col1) (since we will subtract it twice).\n",
        "\n",
        "Time complexity: O(n*m) for constructing the prefix matrix and O(1) for the sumRegion function\n",
        "\n",
        "Extra space complexity: O(n*m)"
      ],
      "metadata": {
        "id": "yhl20rpJtOCs"
      }
    },
    {
      "cell_type": "code",
      "execution_count": null,
      "metadata": {
        "id": "_nypdBxssnIb"
      },
      "outputs": [],
      "source": [
        "class NumMatrix:\n",
        "\n",
        "    def __init__(self, matrix: List[List[int]]):\n",
        "        rows = len(matrix)\n",
        "        columns = len(matrix[0])\n",
        "        self.prefix_matrix = [[0 for _ in range(columns + 1)] for _ in range(rows + 1)]\n",
        "        total = 0\n",
        "\n",
        "        for i in range(rows):\n",
        "            prefix = 0\n",
        "            for j in range(columns):\n",
        "                prefix += matrix[i][j]\n",
        "                above = self.prefix_matrix[i][j + 1]\n",
        "                self.prefix_matrix[i + 1][j + 1] += prefix + above\n",
        "\n",
        "\n",
        "    def sumRegion(self, row1: int, col1: int, row2: int, col2: int) -> int:\n",
        "        return (self.prefix_matrix[row2 + 1][col2 + 1] - self.prefix_matrix[row2 + 1][col1] - self.prefix_matrix[row1][col2 + 1] + self.prefix_matrix[row1][col1])\n",
        "\n",
        "\n",
        "# Your NumMatrix object will be instantiated and called as such:\n",
        "# obj = NumMatrix(matrix)\n",
        "# param_1 = obj.sumRegion(row1,col1,row2,col2)"
      ]
    }
  ]
}