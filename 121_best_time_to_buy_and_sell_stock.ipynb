{
  "nbformat": 4,
  "nbformat_minor": 0,
  "metadata": {
    "colab": {
      "provenance": [],
      "authorship_tag": "ABX9TyPxYdRKRdym7Dpf8AtTtMKN",
      "include_colab_link": true
    },
    "kernelspec": {
      "name": "python3",
      "display_name": "Python 3"
    },
    "language_info": {
      "name": "python"
    }
  },
  "cells": [
    {
      "cell_type": "markdown",
      "metadata": {
        "id": "view-in-github",
        "colab_type": "text"
      },
      "source": [
        "<a href=\"https://colab.research.google.com/github/Kavu849/LeetCode_DSA/blob/main/121_best_time_to_buy_and_sell_stock.ipynb\" target=\"_parent\"><img src=\"https://colab.research.google.com/assets/colab-badge.svg\" alt=\"Open In Colab\"/></a>"
      ]
    },
    {
      "cell_type": "markdown",
      "source": [
        "First solution using two pointers. Time complexity: O(n)"
      ],
      "metadata": {
        "id": "GD-xpw9x0J9U"
      }
    },
    {
      "cell_type": "code",
      "execution_count": null,
      "metadata": {
        "id": "caT5tmHoNVQX"
      },
      "outputs": [],
      "source": [
        "class Solution:\n",
        "    def maxProfit(self, prices: List[int]) -> int:\n",
        "        l, r = 0, 1\n",
        "        max_profit = 0\n",
        "\n",
        "        while r <= len(prices) - 1:\n",
        "            if prices[l] < prices[r]:\n",
        "                max_profit = max(max_profit, prices[r] - prices[l])\n",
        "            else:\n",
        "                l = r\n",
        "            r += 1\n",
        "        return max_profit\n"
      ]
    }
  ]
}