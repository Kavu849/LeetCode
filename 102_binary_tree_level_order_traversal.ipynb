{
  "nbformat": 4,
  "nbformat_minor": 0,
  "metadata": {
    "colab": {
      "provenance": [],
      "authorship_tag": "ABX9TyNdb//oBsI4UwWuaF2DTIkx",
      "include_colab_link": true
    },
    "kernelspec": {
      "name": "python3",
      "display_name": "Python 3"
    },
    "language_info": {
      "name": "python"
    }
  },
  "cells": [
    {
      "cell_type": "markdown",
      "metadata": {
        "id": "view-in-github",
        "colab_type": "text"
      },
      "source": [
        "<a href=\"https://colab.research.google.com/github/Kavu849/LeetCode_DSA/blob/main/102_binary_tree_level_order_traversal.ipynb\" target=\"_parent\"><img src=\"https://colab.research.google.com/assets/colab-badge.svg\" alt=\"Open In Colab\"/></a>"
      ]
    },
    {
      "cell_type": "markdown",
      "source": [
        "We use a queue to do BFS on the tree. The trick is to put a for loop inside the while loop that will execute as many times as the current length of the queue, since this length will be equal exactly to the number of nodes in the level.\n",
        "\n",
        "Time complexity: O(n)\n",
        "\n",
        "Space complexity: O(n)"
      ],
      "metadata": {
        "id": "ozRv_e7HJ1MZ"
      }
    },
    {
      "cell_type": "code",
      "execution_count": null,
      "metadata": {
        "id": "C7VIquIdJwZJ"
      },
      "outputs": [],
      "source": [
        "# Definition for a binary tree node.\n",
        "# class TreeNode:\n",
        "#     def __init__(self, val=0, left=None, right=None):\n",
        "#         self.val = val\n",
        "#         self.left = left\n",
        "#         self.right = right\n",
        "class Solution:\n",
        "    def levelOrder(self, root: Optional[TreeNode]) -> List[List[int]]:\n",
        "        res = []\n",
        "        queue = []\n",
        "        if root: queue.append(root)\n",
        "\n",
        "        while queue:\n",
        "            level = []\n",
        "            for i in range(len(queue)):\n",
        "                node = queue.pop(0)\n",
        "                level.append(node.val)\n",
        "                if node.left: queue.append(node.left)\n",
        "                if node.right: queue.append(node.right)\n",
        "            res.append(level)\n",
        "        return res"
      ]
    }
  ]
}