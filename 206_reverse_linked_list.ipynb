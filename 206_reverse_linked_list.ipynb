{
  "nbformat": 4,
  "nbformat_minor": 0,
  "metadata": {
    "colab": {
      "provenance": [],
      "authorship_tag": "ABX9TyPR508oH6y/Ipej/pcbC2WL",
      "include_colab_link": true
    },
    "kernelspec": {
      "name": "python3",
      "display_name": "Python 3"
    },
    "language_info": {
      "name": "python"
    }
  },
  "cells": [
    {
      "cell_type": "markdown",
      "metadata": {
        "id": "view-in-github",
        "colab_type": "text"
      },
      "source": [
        "<a href=\"https://colab.research.google.com/github/Kavu849/LeetCode_DSA/blob/main/206_reverse_linked_list.ipynb\" target=\"_parent\"><img src=\"https://colab.research.google.com/assets/colab-badge.svg\" alt=\"Open In Colab\"/></a>"
      ]
    },
    {
      "cell_type": "markdown",
      "source": [
        "Iterative solution. Time complexity: O(n), space complexity: O(1)"
      ],
      "metadata": {
        "id": "ttM_Coar8dSj"
      }
    },
    {
      "cell_type": "code",
      "execution_count": null,
      "metadata": {
        "id": "owBOm9-I7eU_"
      },
      "outputs": [],
      "source": [
        "# Definition for singly-linked list.\n",
        "# class ListNode:\n",
        "#     def __init__(self, val=0, next=None):\n",
        "#         self.val = val\n",
        "#         self.next = next\n",
        "class Solution:\n",
        "    def reverseList(self, head: Optional[ListNode]) -> Optional[ListNode]:\n",
        "        prev, curr = None, head\n",
        "\n",
        "        while curr:\n",
        "            temp = curr.next\n",
        "            curr.next = prev\n",
        "            prev = curr\n",
        "            curr = temp\n",
        "        return prev"
      ]
    },
    {
      "cell_type": "markdown",
      "source": [
        "Recursive solution. Time coplexity: O(n), space complexity: O(n)"
      ],
      "metadata": {
        "id": "eBwuAoQcTPu5"
      }
    },
    {
      "cell_type": "code",
      "source": [
        "# Definition for singly-linked list.\n",
        "# class ListNode:\n",
        "#     def __init__(self, val=0, next=None):\n",
        "#         self.val = val\n",
        "#         self.next = next\n",
        "class Solution:\n",
        "    def reverseList(self, head: Optional[ListNode]) -> Optional[ListNode]:\n",
        "        def reverse(prev, curr):\n",
        "            if curr is None:\n",
        "                return prev\n",
        "            else:\n",
        "                next_node = curr.next\n",
        "                curr.next = prev\n",
        "                return reverse(curr, next_node)\n",
        "        return reverse(None, head)"
      ],
      "metadata": {
        "id": "MjKNA0KdTTxt"
      },
      "execution_count": null,
      "outputs": []
    }
  ]
}