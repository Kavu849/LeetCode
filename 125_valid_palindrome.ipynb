{
  "nbformat": 4,
  "nbformat_minor": 0,
  "metadata": {
    "colab": {
      "provenance": [],
      "authorship_tag": "ABX9TyMBObz65N72F5J0QICWH4tc",
      "include_colab_link": true
    },
    "kernelspec": {
      "name": "python3",
      "display_name": "Python 3"
    },
    "language_info": {
      "name": "python"
    }
  },
  "cells": [
    {
      "cell_type": "markdown",
      "metadata": {
        "id": "view-in-github",
        "colab_type": "text"
      },
      "source": [
        "<a href=\"https://colab.research.google.com/github/Kavu849/LeetCode/blob/main/125_valid_palindrome.ipynb\" target=\"_parent\"><img src=\"https://colab.research.google.com/assets/colab-badge.svg\" alt=\"Open In Colab\"/></a>"
      ]
    },
    {
      "cell_type": "code",
      "source": [
        "class Solution(object):\n",
        "    def isPalindrome(self, s):\n",
        "        \"\"\"\n",
        "        :type s: str\n",
        "        :rtype: bool\n",
        "        \"\"\"\n",
        "        import re\n",
        "\n",
        "        s = s.lower()\n",
        "        s = re.sub(r'[^a-zA-Z0-9]', '', s) #use regular expression to remove non-alphanumeric characters\n",
        "\n",
        "        i = 0\n",
        "        j = len(s) - 1\n",
        "\n",
        "        while i < j:\n",
        "            if s[i] != s[j]:\n",
        "                print(s[i], s[j])\n",
        "                return False\n",
        "            i += 1\n",
        "            j -= 1\n",
        "        return True"
      ],
      "metadata": {
        "id": "SpIV7jh_iH4k"
      },
      "execution_count": null,
      "outputs": []
    }
  ]
}