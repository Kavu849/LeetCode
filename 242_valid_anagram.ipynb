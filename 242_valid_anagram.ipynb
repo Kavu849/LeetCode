{
  "nbformat": 4,
  "nbformat_minor": 0,
  "metadata": {
    "colab": {
      "provenance": [],
      "authorship_tag": "ABX9TyPZIoK2dXLKRjeKYjILt1tX",
      "include_colab_link": true
    },
    "kernelspec": {
      "name": "python3",
      "display_name": "Python 3"
    },
    "language_info": {
      "name": "python"
    }
  },
  "cells": [
    {
      "cell_type": "markdown",
      "metadata": {
        "id": "view-in-github",
        "colab_type": "text"
      },
      "source": [
        "<a href=\"https://colab.research.google.com/github/Kavu849/LeetCode/blob/main/242_valid_anagram.ipynb\" target=\"_parent\"><img src=\"https://colab.research.google.com/assets/colab-badge.svg\" alt=\"Open In Colab\"/></a>"
      ]
    },
    {
      "cell_type": "markdown",
      "source": [
        "First solution, looping over string and removing characters"
      ],
      "metadata": {
        "id": "UGhVCeBy09ct"
      }
    },
    {
      "cell_type": "code",
      "execution_count": 1,
      "metadata": {
        "id": "5Zqycv9HXydZ"
      },
      "outputs": [],
      "source": [
        "class Solution(object):\n",
        "    def isAnagram(self, s, t):\n",
        "        \"\"\"\n",
        "        :type s: str\n",
        "        :type t: str\n",
        "        :rtype: bool\n",
        "        \"\"\"\n",
        "        for letter in s:\n",
        "            if letter in t:\n",
        "                t = t.replace(letter, '', 1)\n",
        "            else:\n",
        "                return False\n",
        "        if t == '':\n",
        "            return True\n",
        "        else:\n",
        "            return False\n",
        "\n",
        ""
      ]
    },
    {
      "cell_type": "markdown",
      "source": [
        "Second solution, using dictionaries"
      ],
      "metadata": {
        "id": "KfSxettI1C3n"
      }
    },
    {
      "cell_type": "code",
      "source": [
        "class Solution(object):\n",
        "    def isAnagram(self, s, t):\n",
        "        \"\"\"\n",
        "        :type s: str\n",
        "        :type t: str\n",
        "        :rtype: bool\n",
        "        \"\"\"\n",
        "        #return sorted(s) == sorted(t)  <-- this option is also possible, sort first and then check if equal\n",
        "\n",
        "        if len(s)!=len(t):\n",
        "            return False\n",
        "\n",
        "        countS, countT = {}, {}\n",
        "\n",
        "        for i in range(len(s)):\n",
        "            countS[s[i]] = 1 + countS.get(s[i], 0)\n",
        "            countT[t[i]] = 1 + countT.get(t[i], 0)\n",
        "        for j in countS:\n",
        "            if countS[j] != countT.get(j, 0):\n",
        "                return False\n",
        "        return True"
      ],
      "metadata": {
        "id": "xUJhcQF84PIl"
      },
      "execution_count": null,
      "outputs": []
    }
  ]
}