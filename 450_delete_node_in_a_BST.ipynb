{
  "nbformat": 4,
  "nbformat_minor": 0,
  "metadata": {
    "colab": {
      "provenance": [],
      "authorship_tag": "ABX9TyMAb1J+XzyHkdAvgDwntp/1",
      "include_colab_link": true
    },
    "kernelspec": {
      "name": "python3",
      "display_name": "Python 3"
    },
    "language_info": {
      "name": "python"
    }
  },
  "cells": [
    {
      "cell_type": "markdown",
      "metadata": {
        "id": "view-in-github",
        "colab_type": "text"
      },
      "source": [
        "<a href=\"https://colab.research.google.com/github/Kavu849/LeetCode_DSA/blob/main/450_delete_node_in_a_BST.ipynb\" target=\"_parent\"><img src=\"https://colab.research.google.com/assets/colab-badge.svg\" alt=\"Open In Colab\"/></a>"
      ]
    },
    {
      "cell_type": "markdown",
      "source": [
        "Standard solution.\n",
        "\n",
        "Time complexity: O(n) in the worst case, O(logn) on average\n",
        "\n",
        "Extra space complexity: O(n) in the worst case, O(logn) on average"
      ],
      "metadata": {
        "id": "IY2yAJxKggXP"
      }
    },
    {
      "cell_type": "code",
      "execution_count": null,
      "metadata": {
        "id": "HakG6rBCgfKu"
      },
      "outputs": [],
      "source": [
        "# Definition for a binary tree node.\n",
        "# class TreeNode:\n",
        "#     def __init__(self, val=0, left=None, right=None):\n",
        "#         self.val = val\n",
        "#         self.left = left\n",
        "#         self.right = right\n",
        "class Solution:\n",
        "    def minValueNode(self, root):\n",
        "        curr = root\n",
        "        while curr and curr.left:\n",
        "            curr = curr.left\n",
        "        return curr\n",
        "\n",
        "    # in case when the node has two children, we look for the smallest node in the right subtree and use that as the new root\n",
        "    def deleteNode(self, root: Optional[TreeNode], key: int) -> Optional[TreeNode]:\n",
        "        if root is None:\n",
        "            return None\n",
        "\n",
        "        # traverse the tree until the node to remove is found and will be the root of some subtree\n",
        "        if key < root.val:\n",
        "            root.left = self.deleteNode(root.left, key)\n",
        "        elif key > root.val:\n",
        "            root.right = self.deleteNode(root.right, key)\n",
        "\n",
        "        else:\n",
        "            # now, if it has zero or one child, it's straightforward to remove it\n",
        "            if root.left is None:\n",
        "                root = root.right\n",
        "            elif root.right is None:\n",
        "                root = root.left\n",
        "            else:\n",
        "                # here, it has two children, so we first have to find the smallest node in the right subtree\n",
        "                smallest = self.minValueNode(root.right)\n",
        "                tmp = smallest.val\n",
        "                root.right = self.deleteNode(root.right, smallest.val)\n",
        "                root.val = tmp\n",
        "        return root"
      ]
    }
  ]
}