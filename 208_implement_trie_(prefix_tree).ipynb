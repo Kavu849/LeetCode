{
  "nbformat": 4,
  "nbformat_minor": 0,
  "metadata": {
    "colab": {
      "provenance": [],
      "authorship_tag": "ABX9TyPeP4LXeboPqNeWJXyXrskr",
      "include_colab_link": true
    },
    "kernelspec": {
      "name": "python3",
      "display_name": "Python 3"
    },
    "language_info": {
      "name": "python"
    }
  },
  "cells": [
    {
      "cell_type": "markdown",
      "metadata": {
        "id": "view-in-github",
        "colab_type": "text"
      },
      "source": [
        "<a href=\"https://colab.research.google.com/github/Kavu849/LeetCode_DSA/blob/main/208_implement_trie_(prefix_tree).ipynb\" target=\"_parent\"><img src=\"https://colab.research.google.com/assets/colab-badge.svg\" alt=\"Open In Colab\"/></a>"
      ]
    },
    {
      "cell_type": "markdown",
      "source": [
        "Standard implementation of a prefix tree (a trie). We add an extra class 'TrieNode', which will be used to definite nodes in our trie. A node will consist of a dictionary (storing characters), and a variable 'endOfWord' that will indicate whether a given node is the end of some word.\n",
        "\n"
      ],
      "metadata": {
        "id": "lgYpsrsfv5JF"
      }
    },
    {
      "cell_type": "code",
      "execution_count": null,
      "metadata": {
        "id": "JWqatmPju_TZ"
      },
      "outputs": [],
      "source": [
        "class TrieNode:\n",
        "    def __init__(self):\n",
        "        self.children = {}\n",
        "        self.endOfWord = False\n",
        "\n",
        "class Trie:\n",
        "\n",
        "    def __init__(self):\n",
        "        self.root = TrieNode()\n",
        "\n",
        "    def insert(self, word: str) -> None:\n",
        "        curr = self.root\n",
        "        for c in word:\n",
        "            if c not in curr.children:\n",
        "                curr.children[c] = TrieNode()\n",
        "            curr = curr.children[c]\n",
        "        curr.endOfWord = True\n",
        "\n",
        "    def search(self, word: str) -> bool:\n",
        "        curr = self.root\n",
        "        for c in word:\n",
        "            if c not in curr.children:\n",
        "                return False\n",
        "            curr = curr.children[c]\n",
        "        return curr.endOfWord\n",
        "\n",
        "    def startsWith(self, prefix: str) -> bool:\n",
        "        curr = self.root\n",
        "        for c in prefix:\n",
        "            if c not in curr.children:\n",
        "                return False\n",
        "            curr = curr.children[c]\n",
        "        return True\n",
        "\n",
        "\n",
        "# Your Trie object will be instantiated and called as such:\n",
        "# obj = Trie()\n",
        "# obj.insert(word)\n",
        "# param_2 = obj.search(word)\n",
        "# param_3 = obj.startsWith(prefix)"
      ]
    },
    {
      "cell_type": "markdown",
      "source": [
        "Alternative implementation. Here, the variable 'children' of a TrieNode is not a dictionary, but a list of length 26 (for each character a-z). Then, the index of that list corresponds to a given letter 'c' according to: ind = ord(c) - ord(\"a\"). The rest works the same as above."
      ],
      "metadata": {
        "id": "-dK4_lkexaiA"
      }
    },
    {
      "cell_type": "code",
      "source": [
        "class TrieNode:\n",
        "    def __init__(self):\n",
        "        self.children = [None] * 26\n",
        "        self.end = False\n",
        "\n",
        "\n",
        "class Trie:\n",
        "    def __init__(self):\n",
        "        \"\"\"\n",
        "        Initialize your data structure here.\n",
        "        \"\"\"\n",
        "        self.root = TrieNode()\n",
        "\n",
        "    def insert(self, word: str) -> None:\n",
        "        \"\"\"\n",
        "        Inserts a word into the trie.\n",
        "        \"\"\"\n",
        "        curr = self.root\n",
        "        for c in word:\n",
        "            i = ord(c) - ord(\"a\")\n",
        "            if curr.children[i] == None:\n",
        "                curr.children[i] = TrieNode()\n",
        "            curr = curr.children[i]\n",
        "        curr.end = True\n",
        "\n",
        "    def search(self, word: str) -> bool:\n",
        "        \"\"\"\n",
        "        Returns if the word is in the trie.\n",
        "        \"\"\"\n",
        "        curr = self.root\n",
        "        for c in word:\n",
        "            i = ord(c) - ord(\"a\")\n",
        "            if curr.children[i] == None:\n",
        "                return False\n",
        "            curr = curr.children[i]\n",
        "        return curr.end\n",
        "\n",
        "    def startsWith(self, prefix: str) -> bool:\n",
        "        \"\"\"\n",
        "        Returns if there is any word in the trie that starts with the given prefix.\n",
        "        \"\"\"\n",
        "        curr = self.root\n",
        "        for c in prefix:\n",
        "            i = ord(c) - ord(\"a\")\n",
        "            if curr.children[i] == None:\n",
        "                return False\n",
        "            curr = curr.children[i]\n",
        "        return True\n"
      ],
      "metadata": {
        "id": "Ii0rwzQQxzqY"
      },
      "execution_count": null,
      "outputs": []
    }
  ]
}