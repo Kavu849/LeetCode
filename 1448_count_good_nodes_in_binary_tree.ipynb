{
  "nbformat": 4,
  "nbformat_minor": 0,
  "metadata": {
    "colab": {
      "provenance": [],
      "authorship_tag": "ABX9TyNJj/5bS4SxEGGNyVibUMmY",
      "include_colab_link": true
    },
    "kernelspec": {
      "name": "python3",
      "display_name": "Python 3"
    },
    "language_info": {
      "name": "python"
    }
  },
  "cells": [
    {
      "cell_type": "markdown",
      "metadata": {
        "id": "view-in-github",
        "colab_type": "text"
      },
      "source": [
        "<a href=\"https://colab.research.google.com/github/Kavu849/LeetCode_DSA/blob/main/1448_count_good_nodes_in_binary_tree.ipynb\" target=\"_parent\"><img src=\"https://colab.research.google.com/assets/colab-badge.svg\" alt=\"Open In Colab\"/></a>"
      ]
    },
    {
      "cell_type": "markdown",
      "source": [
        "First solution. The idea is to use recursion and keep the maximum value along the path. For a given node, if its value is greater or equal to the maximum value, then it will be greater or equal to every value from the root to that node, so that node is good.\n",
        "\n",
        "Time complexity: O(n)\n",
        "\n",
        "Extra space complexity: O(h), where 'h' is the height of the tree"
      ],
      "metadata": {
        "id": "mBTiH2AliJg7"
      }
    },
    {
      "cell_type": "code",
      "execution_count": null,
      "metadata": {
        "id": "DbE6S-PjiJB9"
      },
      "outputs": [],
      "source": [
        "# Definition for a binary tree node.\n",
        "# class TreeNode:\n",
        "#     def __init__(self, val=0, left=None, right=None):\n",
        "#         self.val = val\n",
        "#         self.left = left\n",
        "#         self.right = right\n",
        "class Solution:\n",
        "    def goodNodes(self, root: TreeNode) -> int:\n",
        "        res = 0\n",
        "\n",
        "        def dfs(node, max_val):\n",
        "            nonlocal res\n",
        "            if node is None:\n",
        "                return\n",
        "            if node.val >= max_val:\n",
        "                res += 1\n",
        "            dfs(node.left, max(max_val, node.val))\n",
        "            dfs(node.right, max(max_val, node.val))\n",
        "\n",
        "        dfs(root, float('-inf'))\n",
        "        return res"
      ]
    },
    {
      "cell_type": "markdown",
      "source": [
        "Less intuitive solution, using bfs.\n",
        "\n",
        "Time complexity: O(n)\n",
        "\n",
        "Extra space complexity: O(n)"
      ],
      "metadata": {
        "id": "LvWkGVzLlC-t"
      }
    },
    {
      "cell_type": "code",
      "source": [
        "# Definition for a binary tree node.\n",
        "# class TreeNode:\n",
        "#     def __init__(self, val=0, left=None, right=None):\n",
        "#         self.val = val\n",
        "#         self.left = left\n",
        "#         self.right = right\n",
        "class Solution:\n",
        "    def goodNodes(self, root: TreeNode) -> int:\n",
        "        res = 0\n",
        "        queue = collections.deque()\n",
        "        queue.append((root, root.val))\n",
        "\n",
        "        while queue:\n",
        "            node, max_val = queue.popleft()\n",
        "            if node.val >= max_val:\n",
        "                res += 1\n",
        "            if node.left: queue.append((node.left, max(max_val, node.left.val)))\n",
        "            if node.right: queue.append((node.right, max(max_val, node.right.val)))\n",
        "\n",
        "        return res"
      ],
      "metadata": {
        "id": "mWR17b4elCix"
      },
      "execution_count": null,
      "outputs": []
    }
  ]
}