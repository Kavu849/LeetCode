{
  "nbformat": 4,
  "nbformat_minor": 0,
  "metadata": {
    "colab": {
      "provenance": [],
      "authorship_tag": "ABX9TyM7VHJCpGvf+e/tFfQGZ6ON",
      "include_colab_link": true
    },
    "kernelspec": {
      "name": "python3",
      "display_name": "Python 3"
    },
    "language_info": {
      "name": "python"
    }
  },
  "cells": [
    {
      "cell_type": "markdown",
      "metadata": {
        "id": "view-in-github",
        "colab_type": "text"
      },
      "source": [
        "<a href=\"https://colab.research.google.com/github/Kavu849/LeetCode/blob/main/74_search_a_2D_matrix.ipynb\" target=\"_parent\"><img src=\"https://colab.research.google.com/assets/colab-badge.svg\" alt=\"Open In Colab\"/></a>"
      ]
    },
    {
      "cell_type": "markdown",
      "source": [
        "First solution, two binary searches, one for the row, another for the column. Time complexity: O(log_2(n) + log_2(m)) = O(log_2(n*m))"
      ],
      "metadata": {
        "id": "j0H9uuS_mH72"
      }
    },
    {
      "cell_type": "code",
      "execution_count": 1,
      "metadata": {
        "id": "bFCkaTdEY2nu"
      },
      "outputs": [],
      "source": [
        "class Solution(object):\n",
        "    def searchMatrix(self, matrix, target):\n",
        "        \"\"\"\n",
        "        :type matrix: List[List[int]]\n",
        "        :type target: int\n",
        "        :rtype: bool\n",
        "        \"\"\"\n",
        "        l_row, l_col, r_row, r_col = 0, 0, len(matrix) - 1, len(matrix[0]) - 1\n",
        "\n",
        "        if target < matrix[0][0] or target > matrix[-1][-1]:\n",
        "            return False\n",
        "\n",
        "        while l_row <= r_row:\n",
        "            mid_row = (l_row + r_row) // 2\n",
        "            if matrix[mid_row][0] > target:\n",
        "                r_row = mid_row - 1\n",
        "            elif matrix[mid_row][-1] < target:\n",
        "                l_row = mid_row + 1\n",
        "            else:\n",
        "                break\n",
        "\n",
        "        while l_col <= r_col:\n",
        "            mid_col = (l_col + r_col) // 2\n",
        "            if matrix[mid_row][mid_col] > target:\n",
        "                r_col = mid_col - 1\n",
        "            elif matrix[mid_row][mid_col] < target:\n",
        "                l_col = mid_col + 1\n",
        "            else:\n",
        "                return True\n",
        "        return False"
      ]
    }
  ]
}