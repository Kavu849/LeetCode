{
  "nbformat": 4,
  "nbformat_minor": 0,
  "metadata": {
    "colab": {
      "provenance": [],
      "authorship_tag": "ABX9TyNdsP7X/wsKWjA2TLyGBuJw",
      "include_colab_link": true
    },
    "kernelspec": {
      "name": "python3",
      "display_name": "Python 3"
    },
    "language_info": {
      "name": "python"
    }
  },
  "cells": [
    {
      "cell_type": "markdown",
      "metadata": {
        "id": "view-in-github",
        "colab_type": "text"
      },
      "source": [
        "<a href=\"https://colab.research.google.com/github/Kavu849/LeetCode_DSA/blob/main/724_find_pivot_index.ipynb\" target=\"_parent\"><img src=\"https://colab.research.google.com/assets/colab-badge.svg\" alt=\"Open In Colab\"/></a>"
      ]
    },
    {
      "cell_type": "markdown",
      "source": [
        "First solution, we allocate additional memory for 'pref' and 'post' tables. For every index 'i', they will hold the sum of elements of nums before/after the index 'i', respectively.\n",
        "\n",
        "Time complexity: O(n)\n",
        "\n",
        "Extra space complexity: O(1)"
      ],
      "metadata": {
        "id": "amVlD8V10J9V"
      }
    },
    {
      "cell_type": "code",
      "execution_count": null,
      "metadata": {
        "id": "mOP33zrR0Jgy"
      },
      "outputs": [],
      "source": [
        "class Solution:\n",
        "    def pivotIndex(self, nums: List[int]) -> int:\n",
        "        pref = [0] * len(nums)\n",
        "        total = 0\n",
        "\n",
        "        for i in range(1, len(nums)):\n",
        "            total += nums[i - 1]\n",
        "            pref[i] = total\n",
        "\n",
        "        post = [0] * len(nums)\n",
        "        total = 0\n",
        "\n",
        "        for i in range(2, len(nums) + 1):\n",
        "            total += nums[-i + 1]\n",
        "            post[-i] = total\n",
        "\n",
        "        for i in range(len(nums)):\n",
        "            if pref[i] == post[i]:\n",
        "                return i\n",
        "\n",
        "        return -1\n",
        ""
      ]
    },
    {
      "cell_type": "markdown",
      "source": [
        "Better solution. We calculate the sum of nums and iterate through the array keeping the vlaue of the prefix sum. At every step of the loop we also calculate the right sum, based on the prefix sum, the current value, and the sum. That way we iterate through the array only once (if we do not count the initial sum).\n",
        "\n",
        "Time complexity: O(n)\n",
        "\n",
        "Extra space complexity: O(1)"
      ],
      "metadata": {
        "id": "qJdW5zAP0rwm"
      }
    },
    {
      "cell_type": "code",
      "source": [
        "class Solution:\n",
        "    def pivotIndex(self, nums: List[int]) -> int:\n",
        "        total = sum(nums)\n",
        "        prefix = 0\n",
        "\n",
        "        for i in range(len(nums)):\n",
        "            rightSum = total - prefix - nums[i]\n",
        "            if rightSum == prefix:\n",
        "                return i\n",
        "            prefix += nums[i]\n",
        "\n",
        "        return -1"
      ],
      "metadata": {
        "id": "YiUxjAKc53e_"
      },
      "execution_count": null,
      "outputs": []
    }
  ]
}