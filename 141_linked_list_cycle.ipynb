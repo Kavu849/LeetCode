{
  "nbformat": 4,
  "nbformat_minor": 0,
  "metadata": {
    "colab": {
      "provenance": [],
      "authorship_tag": "ABX9TyO7vVStoouXouEwDM7XZ3Dj",
      "include_colab_link": true
    },
    "kernelspec": {
      "name": "python3",
      "display_name": "Python 3"
    },
    "language_info": {
      "name": "python"
    }
  },
  "cells": [
    {
      "cell_type": "markdown",
      "metadata": {
        "id": "view-in-github",
        "colab_type": "text"
      },
      "source": [
        "<a href=\"https://colab.research.google.com/github/Kavu849/LeetCode_DSA/blob/main/141_linked_list_cycle.ipynb\" target=\"_parent\"><img src=\"https://colab.research.google.com/assets/colab-badge.svg\" alt=\"Open In Colab\"/></a>"
      ]
    },
    {
      "cell_type": "markdown",
      "source": [
        "Solution using a set. Time complexity O(n), but extra space complexity also O(n)"
      ],
      "metadata": {
        "id": "QQkLsJgJrtdd"
      }
    },
    {
      "cell_type": "code",
      "execution_count": null,
      "metadata": {
        "id": "A9k_kHrSrmfV"
      },
      "outputs": [],
      "source": [
        "# Definition for singly-linked list.\n",
        "# class ListNode:\n",
        "#     def __init__(self, x):\n",
        "#         self.val = x\n",
        "#         self.next = None\n",
        "\n",
        "class Solution:\n",
        "    def hasCycle(self, head: Optional[ListNode]) -> bool:\n",
        "        visited = set()\n",
        "\n",
        "        curr = head\n",
        "        prev = None\n",
        "\n",
        "        while curr:\n",
        "            if curr in visited:\n",
        "                return True\n",
        "            visited.add(curr)\n",
        "            prev = curr\n",
        "            curr = curr.next\n",
        "        return False"
      ]
    },
    {
      "cell_type": "markdown",
      "source": [
        "Better solution, using Floyd's Tortoise and Hare algorithm. We have two pointers (slow and fast). In every iteration, the slow pointer moves by 1 and the fast pointer moves by 2. If there is a cycle, they will meet in O(n) time. If one of the pointers eventually is None, there is no cycle.\n",
        "\n",
        "Time complexity: O(n)\n",
        "\n",
        "Extra space complexity: O(1)"
      ],
      "metadata": {
        "id": "RqgGPsdt8ZEl"
      }
    },
    {
      "cell_type": "code",
      "source": [
        "# Definition for singly-linked list.\n",
        "# class ListNode:\n",
        "#     def __init__(self, x):\n",
        "#         self.val = x\n",
        "#         self.next = None\n",
        "\n",
        "class Solution:\n",
        "    def hasCycle(self, head: Optional[ListNode]) -> bool:\n",
        "        slow = head\n",
        "        fast = head\n",
        "\n",
        "        while fast and fast.next:\n",
        "            slow = slow.next\n",
        "            fast = fast.next.next\n",
        "            if slow == fast:\n",
        "                return True\n",
        "\n",
        "        return False"
      ],
      "metadata": {
        "id": "GlRdHENI8znP"
      },
      "execution_count": null,
      "outputs": []
    }
  ]
}