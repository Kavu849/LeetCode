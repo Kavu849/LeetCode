{
  "nbformat": 4,
  "nbformat_minor": 0,
  "metadata": {
    "colab": {
      "provenance": [],
      "authorship_tag": "ABX9TyMmBgY8TQeVt0fVHniWu5O9",
      "include_colab_link": true
    },
    "kernelspec": {
      "name": "python3",
      "display_name": "Python 3"
    },
    "language_info": {
      "name": "python"
    }
  },
  "cells": [
    {
      "cell_type": "markdown",
      "metadata": {
        "id": "view-in-github",
        "colab_type": "text"
      },
      "source": [
        "<a href=\"https://colab.research.google.com/github/Kavu849/LeetCode_DSA/blob/main/4_median_of_two_sorted_arrays.ipynb\" target=\"_parent\"><img src=\"https://colab.research.google.com/assets/colab-badge.svg\" alt=\"Open In Colab\"/></a>"
      ]
    },
    {
      "cell_type": "markdown",
      "source": [
        "Very tricky solution. We basically try to figure out how many elements to take from nums1 and nums2 so that they union forms the left partition needed for the split. This can be done by using two pointers and operating only on the smaller array (which will always be A, as if it is not, we will swap them). We also handle any possible edge cases (that is, taking elements for the partition only from one of the arrays) by initializing the values of middle and middle+1 points to -inf and inf, respecitvely.\n",
        "\n",
        "Time complexity: O(log(n + m))\n",
        "\n",
        "Extra space complexity: O(1)"
      ],
      "metadata": {
        "id": "iKK6HK6SV1JT"
      }
    },
    {
      "cell_type": "code",
      "execution_count": null,
      "metadata": {
        "id": "OLkJXoXgV0Pn"
      },
      "outputs": [],
      "source": [
        "class Solution:\n",
        "    def findMedianSortedArrays(self, nums1: List[int], nums2: List[int]) -> float:\n",
        "        A, B = nums1, nums2\n",
        "\n",
        "        if len(A) > len(B):\n",
        "            A, B = B, A\n",
        "\n",
        "        # at this point A is the smaller array\n",
        "        n, m = len(A), len(B)\n",
        "        half_size = (n + m) // 2\n",
        "        # two pointers that will be used to move on the A array\n",
        "        left, right = 0, len(A) - 1\n",
        "\n",
        "        while True:\n",
        "            middle_A = (left + right) // 2\n",
        "            middle_B = half_size - middle_A - 2\n",
        "\n",
        "            A_mid = A[middle_A] if middle_A >= 0 else float(\"-infinity\")\n",
        "            A_mid_plus_one = A[middle_A + 1] if (middle_A + 1) < n else float(\"infinity\")\n",
        "            B_mid = B[middle_B] if middle_B >= 0 else float(\"-infinity\")\n",
        "            B_mid_plus_one = B[middle_B + 1] if (middle_B + 1) < m else float(\"infinity\")\n",
        "\n",
        "            if A_mid <= B_mid_plus_one and B_mid <= A_mid_plus_one:\n",
        "                # odd number\n",
        "                if (n + m) % 2 == 1:\n",
        "                    return min(A_mid_plus_one, B_mid_plus_one)\n",
        "                # even number\n",
        "                else:\n",
        "                    return (max(A_mid, B_mid) + min(A_mid_plus_one, B_mid_plus_one)) / 2\n",
        "\n",
        "            if A_mid > B_mid_plus_one:\n",
        "                right = middle_A - 1\n",
        "            else:\n",
        "                left = middle_A + 1"
      ]
    }
  ]
}