{
  "nbformat": 4,
  "nbformat_minor": 0,
  "metadata": {
    "colab": {
      "provenance": [],
      "authorship_tag": "ABX9TyMZUZ6yv1ZwYLMBFcVsfTty",
      "include_colab_link": true
    },
    "kernelspec": {
      "name": "python3",
      "display_name": "Python 3"
    },
    "language_info": {
      "name": "python"
    }
  },
  "cells": [
    {
      "cell_type": "markdown",
      "metadata": {
        "id": "view-in-github",
        "colab_type": "text"
      },
      "source": [
        "<a href=\"https://colab.research.google.com/github/Kavu849/LeetCode_DSA/blob/main/112_path_sum.ipynb\" target=\"_parent\"><img src=\"https://colab.research.google.com/assets/colab-badge.svg\" alt=\"Open In Colab\"/></a>"
      ]
    },
    {
      "cell_type": "markdown",
      "source": [
        "Backtracking solution. If we reached a leaf node, and the value of the target sum is equal to the value of the node, return true. Otherwise, we see if there is a path in the left or right subtrees, with the sum equal to targetSum - root.val.\n",
        "\n",
        "Time complexity: O(n)\n",
        "\n",
        "Extra space complexity: O(h), where h is the height of the tree"
      ],
      "metadata": {
        "id": "NRD-Mpcabk7U"
      }
    },
    {
      "cell_type": "code",
      "execution_count": null,
      "metadata": {
        "id": "8HvkKIUsbgkg"
      },
      "outputs": [],
      "source": [
        "# Definition for a binary tree node.\n",
        "# class TreeNode:\n",
        "#     def __init__(self, val=0, left=None, right=None):\n",
        "#         self.val = val\n",
        "#         self.left = left\n",
        "#         self.right = right\n",
        "class Solution:\n",
        "    def hasPathSum(self, root: Optional[TreeNode], targetSum: int) -> bool:\n",
        "        if root is None:\n",
        "            return False\n",
        "\n",
        "        if root.left is None and root.right is None and targetSum == root.val:\n",
        "            return True\n",
        "        if self.hasPathSum(root.left, targetSum - root.val):\n",
        "            return True\n",
        "        if self.hasPathSum(root.right, targetSum - root.val):\n",
        "            return True\n",
        "\n",
        "        return False\n",
        ""
      ]
    },
    {
      "cell_type": "markdown",
      "source": [
        "Second solution, using a helper function. Same time/space complexities.\n",
        "\n",
        "Time complexity: O(n)\n",
        "\n",
        "Extra space complexity: O(h), where h is the height of the tree"
      ],
      "metadata": {
        "id": "EOMqWrWqeX78"
      }
    },
    {
      "cell_type": "code",
      "source": [
        "# Definition for a binary tree node.\n",
        "# class TreeNode:\n",
        "#     def __init__(self, val=0, left=None, right=None):\n",
        "#         self.val = val\n",
        "#         self.left = left\n",
        "#         self.right = right\n",
        "class Solution:\n",
        "    def hasPathSum(self, root: Optional[TreeNode], targetSum: int) -> bool:\n",
        "\n",
        "        def dfs(root, curr_sum):\n",
        "            if root is None:\n",
        "                return False\n",
        "\n",
        "            curr_sum += root.val\n",
        "            if not root.left and not root.right:\n",
        "                return curr_sum == targetSum\n",
        "\n",
        "            return dfs(root.left, curr_sum) or dfs(root.right, curr_sum)\n",
        "\n",
        "        return dfs(root, 0)"
      ],
      "metadata": {
        "id": "acdV7WP0eXMB"
      },
      "execution_count": null,
      "outputs": []
    }
  ]
}