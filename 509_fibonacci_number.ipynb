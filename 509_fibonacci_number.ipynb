{
  "nbformat": 4,
  "nbformat_minor": 0,
  "metadata": {
    "colab": {
      "provenance": [],
      "authorship_tag": "ABX9TyOZRk7HEcyraVBZvo/wkOTm",
      "include_colab_link": true
    },
    "kernelspec": {
      "name": "python3",
      "display_name": "Python 3"
    },
    "language_info": {
      "name": "python"
    }
  },
  "cells": [
    {
      "cell_type": "markdown",
      "metadata": {
        "id": "view-in-github",
        "colab_type": "text"
      },
      "source": [
        "<a href=\"https://colab.research.google.com/github/Kavu849/LeetCode_DSA/blob/main/509_fibonacci_number.ipynb\" target=\"_parent\"><img src=\"https://colab.research.google.com/assets/colab-badge.svg\" alt=\"Open In Colab\"/></a>"
      ]
    },
    {
      "cell_type": "markdown",
      "source": [
        "First solution using recursion.\n",
        "\n",
        "Time complexity: O(2^n)\n",
        "\n",
        "Extra space complexity: O(n) (for the call stack)"
      ],
      "metadata": {
        "id": "8vYV1kSMuvh3"
      }
    },
    {
      "cell_type": "code",
      "execution_count": null,
      "metadata": {
        "id": "FpHRqtVZuu07"
      },
      "outputs": [],
      "source": [
        "class Solution:\n",
        "    # recursive solution\n",
        "    def fib(self, n: int) -> int:\n",
        "        if n == 0 or n == 1:\n",
        "            return n\n",
        "\n",
        "        return self.fib(n-1) + self.fib(n-2)"
      ]
    }
  ]
}