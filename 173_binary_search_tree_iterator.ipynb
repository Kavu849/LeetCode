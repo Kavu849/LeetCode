{
  "nbformat": 4,
  "nbformat_minor": 0,
  "metadata": {
    "colab": {
      "provenance": [],
      "authorship_tag": "ABX9TyNAvy4tgQ4P9Dg/WlaXK5uA",
      "include_colab_link": true
    },
    "kernelspec": {
      "name": "python3",
      "display_name": "Python 3"
    },
    "language_info": {
      "name": "python"
    }
  },
  "cells": [
    {
      "cell_type": "markdown",
      "metadata": {
        "id": "view-in-github",
        "colab_type": "text"
      },
      "source": [
        "<a href=\"https://colab.research.google.com/github/Kavu849/LeetCode_DSA/blob/main/173_binary_search_tree_iterator.ipynb\" target=\"_parent\"><img src=\"https://colab.research.google.com/assets/colab-badge.svg\" alt=\"Open In Colab\"/></a>"
      ]
    },
    {
      "cell_type": "markdown",
      "source": [
        "First solution. We use the iterative dfs in order to create a list of node values in the inorder way. Then we use it to print the values.\n",
        "\n",
        "Time complexity: O(n) for the constructor, O(1) for next and hasNext\n",
        "\n",
        "Extra space complexity: O(n) for the constructor, O(1) for next and hasNext"
      ],
      "metadata": {
        "id": "5Yha9fWi_hpq"
      }
    },
    {
      "cell_type": "code",
      "execution_count": null,
      "metadata": {
        "id": "rbjnelpE8_q6"
      },
      "outputs": [],
      "source": [
        "# Definition for a binary tree node.\n",
        "# class TreeNode:\n",
        "#     def __init__(self, val=0, left=None, right=None):\n",
        "#         self.val = val\n",
        "#         self.left = left\n",
        "#         self.right = right\n",
        "class BSTIterator:\n",
        "\n",
        "    def __init__(self, root: Optional[TreeNode]):\n",
        "        self.res, stack = [], []\n",
        "        curr = root\n",
        "\n",
        "        while curr or stack:\n",
        "            if curr:\n",
        "                stack.append(curr)\n",
        "                curr = curr.left\n",
        "            else:\n",
        "                curr = stack.pop()\n",
        "                self.res.append(curr.val)\n",
        "                curr = curr.right\n",
        "\n",
        "        self.i = 0 if len(self.res) > 0 else -1\n",
        "        self.n = len(self.res)\n",
        "\n",
        "    def next(self) -> int:\n",
        "        self.i += 1\n",
        "        return self.res[self.i - 1]\n",
        "\n",
        "    def hasNext(self) -> bool:\n",
        "        if self.i >= 0 and self.i < self.n:\n",
        "            return True\n",
        "        else:\n",
        "            return False\n",
        "\n",
        "\n",
        "# Your BSTIterator object will be instantiated and called as such:\n",
        "# obj = BSTIterator(root)\n",
        "# param_1 = obj.next()\n",
        "# param_2 = obj.hasNext()"
      ]
    },
    {
      "cell_type": "markdown",
      "source": [
        "Second solution, slightly better. We create a stack in the constructor and add all the left children iteratively, starting from the root node. The 'next' function will pop from the stack and then move to the right child of the popped node and add all of its left children, iteratively. It will return the value of the originally popped node. Then, having empty stack means that we traversed the entire tree.\n",
        "\n",
        "Time complexity: O(h), where h is the height of the tree for the worst case, O(1) on average\n",
        "\n",
        "Space complexity: O(h) where h is the height of the tree"
      ],
      "metadata": {
        "id": "VZzB-njR_1RQ"
      }
    },
    {
      "cell_type": "code",
      "source": [
        "# Definition for a binary tree node.\n",
        "# class TreeNode:\n",
        "#     def __init__(self, val=0, left=None, right=None):\n",
        "#         self.val = val\n",
        "#         self.left = left\n",
        "#         self.right = right\n",
        "class BSTIterator:\n",
        "\n",
        "    def __init__(self, root: Optional[TreeNode]):\n",
        "        self.stack = []\n",
        "\n",
        "        while root:\n",
        "            self.stack.append(root)\n",
        "            root = root.left\n",
        "\n",
        "    def next(self) -> int:\n",
        "        res = self.stack.pop()\n",
        "        curr = res.right\n",
        "        while curr:\n",
        "            self.stack.append(curr)\n",
        "            curr = curr.left\n",
        "        return res.val\n",
        "\n",
        "    def hasNext(self) -> bool:\n",
        "        return self.stack != []\n",
        "\n",
        "\n",
        "# Your BSTIterator object will be instantiated and called as such:\n",
        "# obj = BSTIterator(root)\n",
        "# param_1 = obj.next()\n",
        "# param_2 = obj.hasNext()"
      ],
      "metadata": {
        "id": "b1VzPGjSCGp-"
      },
      "execution_count": null,
      "outputs": []
    }
  ]
}