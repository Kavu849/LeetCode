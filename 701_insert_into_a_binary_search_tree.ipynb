{
  "nbformat": 4,
  "nbformat_minor": 0,
  "metadata": {
    "colab": {
      "provenance": [],
      "authorship_tag": "ABX9TyNRXuATXAeGkGC4Egi/DD/g",
      "include_colab_link": true
    },
    "kernelspec": {
      "name": "python3",
      "display_name": "Python 3"
    },
    "language_info": {
      "name": "python"
    }
  },
  "cells": [
    {
      "cell_type": "markdown",
      "metadata": {
        "id": "view-in-github",
        "colab_type": "text"
      },
      "source": [
        "<a href=\"https://colab.research.google.com/github/Kavu849/LeetCode_DSA/blob/main/701_insert_into_a_binary_search_tree.ipynb\" target=\"_parent\"><img src=\"https://colab.research.google.com/assets/colab-badge.svg\" alt=\"Open In Colab\"/></a>"
      ]
    },
    {
      "cell_type": "markdown",
      "source": [
        "Standard solution using recursion.\n",
        "\n",
        "Time complexity: O(n), but on average O(logn)\n",
        "\n",
        "Extra space complexity: O(n), but on average O(logn)"
      ],
      "metadata": {
        "id": "YYCAt-HjS3QS"
      }
    },
    {
      "cell_type": "code",
      "execution_count": null,
      "metadata": {
        "id": "m4UoFV_LS2nT"
      },
      "outputs": [],
      "source": [
        "# Definition for a binary tree node.\n",
        "# class TreeNode:\n",
        "#     def __init__(self, val=0, left=None, right=None):\n",
        "#         self.val = val\n",
        "#         self.left = left\n",
        "#         self.right = right\n",
        "class Solution:\n",
        "    # insert the new node as a leaf node\n",
        "    def insertIntoBST(self, root: Optional[TreeNode], val: int) -> Optional[TreeNode]:\n",
        "        if root is None:\n",
        "            return TreeNode(val)\n",
        "\n",
        "        if val < root.val:\n",
        "            root.left = self.insertIntoBST(root.left, val)\n",
        "        elif val > root.val:\n",
        "            root.right = self.insertIntoBST(root.right, val)\n",
        "\n",
        "        return root\n"
      ]
    }
  ]
}