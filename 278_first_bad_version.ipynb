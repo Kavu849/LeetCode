{
  "nbformat": 4,
  "nbformat_minor": 0,
  "metadata": {
    "colab": {
      "provenance": [],
      "authorship_tag": "ABX9TyPZ/fecbh213bTr5dyBo3xt",
      "include_colab_link": true
    },
    "kernelspec": {
      "name": "python3",
      "display_name": "Python 3"
    },
    "language_info": {
      "name": "python"
    }
  },
  "cells": [
    {
      "cell_type": "markdown",
      "metadata": {
        "id": "view-in-github",
        "colab_type": "text"
      },
      "source": [
        "<a href=\"https://colab.research.google.com/github/Kavu849/LeetCode_DSA/blob/main/278_first_bad_version.ipynb\" target=\"_parent\"><img src=\"https://colab.research.google.com/assets/colab-badge.svg\" alt=\"Open In Colab\"/></a>"
      ]
    },
    {
      "cell_type": "markdown",
      "source": [
        "Binary search solution. Note that every time we will hit the case of having a good version, we will update the result to m + 1. That way, when we leave the while loop, one value to the left of 'res' will be a good value. We will leave the while loop when the left and right pointers cross each other, and at that time the res will be pointing at the first wrong value.\n",
        "\n",
        "Time complexity: O(logn)\n",
        "\n",
        "Extra space complexity: O(1)"
      ],
      "metadata": {
        "id": "uOPWAf3TJVpa"
      }
    },
    {
      "cell_type": "code",
      "execution_count": null,
      "metadata": {
        "id": "6WwVylMNJRQE"
      },
      "outputs": [],
      "source": [
        "# The isBadVersion API is already defined for you.\n",
        "# def isBadVersion(version: int) -> bool:\n",
        "\n",
        "class Solution:\n",
        "    def firstBadVersion(self, n: int) -> int:\n",
        "        l, r = 1, n\n",
        "        res = 1\n",
        "\n",
        "        while l <= r:\n",
        "            m = (l + r) // 2\n",
        "            if isBadVersion(m):\n",
        "                r = m - 1\n",
        "            else:\n",
        "                l = m + 1\n",
        "                res = l\n",
        "\n",
        "        return res"
      ]
    }
  ]
}