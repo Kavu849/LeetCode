{
  "nbformat": 4,
  "nbformat_minor": 0,
  "metadata": {
    "colab": {
      "provenance": [],
      "authorship_tag": "ABX9TyNDdy6JSes0URY5ywcM6JzX",
      "include_colab_link": true
    },
    "kernelspec": {
      "name": "python3",
      "display_name": "Python 3"
    },
    "language_info": {
      "name": "python"
    }
  },
  "cells": [
    {
      "cell_type": "markdown",
      "metadata": {
        "id": "view-in-github",
        "colab_type": "text"
      },
      "source": [
        "<a href=\"https://colab.research.google.com/github/Kavu849/LeetCode_DSA/blob/main/153_find_minimum_in_rotated_sorted_array.ipynb\" target=\"_parent\"><img src=\"https://colab.research.google.com/assets/colab-badge.svg\" alt=\"Open In Colab\"/></a>"
      ]
    },
    {
      "cell_type": "markdown",
      "source": [
        "First solution, using binary search. Time complexity: O(logn)"
      ],
      "metadata": {
        "id": "irkKKNA1HhtX"
      }
    },
    {
      "cell_type": "code",
      "source": [
        "class Solution:\n",
        "    def findMin(self, nums: List[int]) -> int:\n",
        "        a = 0\n",
        "        b = len(nums) - 1\n",
        "        if nums[a] < nums[b]: return nums[a]\n",
        "        min_nums = min(nums[a], nums[b])\n",
        "\n",
        "        while a < b:\n",
        "            c = (a + b) // 2\n",
        "            min_nums = min(min_nums, nums[c])\n",
        "\n",
        "            if nums[a] < nums[c]:\n",
        "                a = c + 1\n",
        "                min_nums = min(min_nums, nums[a])\n",
        "            else:\n",
        "                b = c - 1\n",
        "                min_nums = min(min_nums, nums[b])\n",
        "        return min_nums"
      ],
      "metadata": {
        "id": "VfDSJs-uF0rl"
      },
      "execution_count": null,
      "outputs": []
    }
  ]
}