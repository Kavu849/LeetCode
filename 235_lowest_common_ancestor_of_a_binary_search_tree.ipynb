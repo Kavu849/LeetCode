{
  "nbformat": 4,
  "nbformat_minor": 0,
  "metadata": {
    "colab": {
      "provenance": [],
      "authorship_tag": "ABX9TyMRE1bpFJtIJx9Lvj6lan17",
      "include_colab_link": true
    },
    "kernelspec": {
      "name": "python3",
      "display_name": "Python 3"
    },
    "language_info": {
      "name": "python"
    }
  },
  "cells": [
    {
      "cell_type": "markdown",
      "metadata": {
        "id": "view-in-github",
        "colab_type": "text"
      },
      "source": [
        "<a href=\"https://colab.research.google.com/github/Kavu849/LeetCode_DSA/blob/main/235_lowest_common_ancestor_of_a_binary_search_tree.ipynb\" target=\"_parent\"><img src=\"https://colab.research.google.com/assets/colab-badge.svg\" alt=\"Open In Colab\"/></a>"
      ]
    },
    {
      "cell_type": "markdown",
      "source": [
        "Start at the root and move left/right depending on the value of the current node.\n",
        "\n",
        "Time complexity: O(logn)\n",
        "\n",
        "Extra space complexity: O(1)"
      ],
      "metadata": {
        "id": "SX4dy_06GZpn"
      }
    },
    {
      "cell_type": "code",
      "execution_count": null,
      "metadata": {
        "id": "O58mrnNIGIO0"
      },
      "outputs": [],
      "source": [
        "# Definition for a binary tree node.\n",
        "# class TreeNode:\n",
        "#     def __init__(self, x):\n",
        "#         self.val = x\n",
        "#         self.left = None\n",
        "#         self.right = None\n",
        "\n",
        "class Solution:\n",
        "    def lowestCommonAncestor(self, root: 'TreeNode', p: 'TreeNode', q: 'TreeNode') -> 'TreeNode':\n",
        "        node = root\n",
        "        while True:\n",
        "            if node.val == p.val or node.val == q.val: return node\n",
        "            elif node.val < min(p.val, q.val):\n",
        "                node = node.right\n",
        "            elif node.val > max(p.val, q.val):\n",
        "                node = node.left\n",
        "            else:\n",
        "                return node"
      ]
    }
  ]
}