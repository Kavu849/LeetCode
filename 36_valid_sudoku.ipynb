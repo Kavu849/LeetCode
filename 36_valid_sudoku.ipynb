{
  "nbformat": 4,
  "nbformat_minor": 0,
  "metadata": {
    "colab": {
      "provenance": [],
      "authorship_tag": "ABX9TyNCvmuZlXSAx91RPzcy1kpJ",
      "include_colab_link": true
    },
    "kernelspec": {
      "name": "python3",
      "display_name": "Python 3"
    },
    "language_info": {
      "name": "python"
    }
  },
  "cells": [
    {
      "cell_type": "markdown",
      "metadata": {
        "id": "view-in-github",
        "colab_type": "text"
      },
      "source": [
        "<a href=\"https://colab.research.google.com/github/Kavu849/LeetCode/blob/main/36_valid_sudoku.ipynb\" target=\"_parent\"><img src=\"https://colab.research.google.com/assets/colab-badge.svg\" alt=\"Open In Colab\"/></a>"
      ]
    },
    {
      "cell_type": "code",
      "source": [
        "class Solution(object):\n",
        "    def isValidSudoku(self, board):\n",
        "        \"\"\"\n",
        "        :type board: List[List[str]]\n",
        "        :rtype: bool\n",
        "        \"\"\"\n",
        "        from collections import defaultdict\n",
        "\n",
        "        rows = defaultdict(set)\n",
        "        columns = defaultdict(set)\n",
        "        squares = defaultdict(set) # key: (r/3, c/3), value: set of elements\n",
        "        # the trick in the squares dictionary is that we designate rows and columns by values 0,1,2, depending on which square we fall into. For example, the first square in the second row will be designated as (1,0), the second square in the third row as (2,1), etc.\n",
        "\n",
        "        for r in range(9):\n",
        "            for c in range(9):\n",
        "                if board[r][c] == '.':\n",
        "                    continue\n",
        "                if board[r][c] in rows[r] or board[r][c] in columns[c] or board[r][c] in squares[(r//3, c//3)]:\n",
        "                    return False\n",
        "                rows[r].add(board[r][c])\n",
        "                columns[c].add(board[r][c])\n",
        "                squares[(r//3, c//3)].add(board[r][c])\n",
        "        return True"
      ],
      "metadata": {
        "id": "IJ5_CBwxgGB7"
      },
      "execution_count": null,
      "outputs": []
    }
  ]
}