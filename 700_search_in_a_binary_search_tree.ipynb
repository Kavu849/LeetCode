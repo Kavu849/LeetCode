{
  "nbformat": 4,
  "nbformat_minor": 0,
  "metadata": {
    "colab": {
      "provenance": [],
      "authorship_tag": "ABX9TyMEmeFr9k6kcKaY1vDCGzYn",
      "include_colab_link": true
    },
    "kernelspec": {
      "name": "python3",
      "display_name": "Python 3"
    },
    "language_info": {
      "name": "python"
    }
  },
  "cells": [
    {
      "cell_type": "markdown",
      "metadata": {
        "id": "view-in-github",
        "colab_type": "text"
      },
      "source": [
        "<a href=\"https://colab.research.google.com/github/Kavu849/LeetCode_DSA/blob/main/700_search_in_a_binary_search_tree.ipynb\" target=\"_parent\"><img src=\"https://colab.research.google.com/assets/colab-badge.svg\" alt=\"Open In Colab\"/></a>"
      ]
    },
    {
      "cell_type": "markdown",
      "source": [
        "Straightforward solution.\n",
        "\n",
        "Time complexity: O(n) in the worst case (unbalanced tree), but on average O(logn)\n",
        "\n",
        "Extra space complexity: O(1)"
      ],
      "metadata": {
        "id": "83iQOQ-5U4Ps"
      }
    },
    {
      "cell_type": "code",
      "execution_count": null,
      "metadata": {
        "id": "QwDep8s7U3ci"
      },
      "outputs": [],
      "source": [
        "# Definition for a binary tree node.\n",
        "# class TreeNode:\n",
        "#     def __init__(self, val=0, left=None, right=None):\n",
        "#         self.val = val\n",
        "#         self.left = left\n",
        "#         self.right = right\n",
        "class Solution:\n",
        "    def searchBST(self, root: Optional[TreeNode], val: int) -> Optional[TreeNode]:\n",
        "        node = root\n",
        "\n",
        "        while node:\n",
        "            if val < node.val:\n",
        "                node = node.left\n",
        "            elif val > node.val:\n",
        "                node = node.right\n",
        "            else:\n",
        "                return node\n",
        "\n",
        "        return None"
      ]
    }
  ]
}