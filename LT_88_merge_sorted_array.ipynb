{
  "nbformat": 4,
  "nbformat_minor": 0,
  "metadata": {
    "colab": {
      "provenance": [],
      "toc_visible": true,
      "authorship_tag": "ABX9TyMesZh8w4vY4RzUfM/UEE6I",
      "include_colab_link": true
    },
    "kernelspec": {
      "name": "python3",
      "display_name": "Python 3"
    },
    "language_info": {
      "name": "python"
    }
  },
  "cells": [
    {
      "cell_type": "markdown",
      "metadata": {
        "id": "view-in-github",
        "colab_type": "text"
      },
      "source": [
        "<a href=\"https://colab.research.google.com/github/Kavu849/LeetCode/blob/main/LT_88_merge_sorted_array.ipynb\" target=\"_parent\"><img src=\"https://colab.research.google.com/assets/colab-badge.svg\" alt=\"Open In Colab\"/></a>"
      ]
    },
    {
      "cell_type": "code",
      "execution_count": 30,
      "metadata": {
        "id": "h2tbE3wVEaLr"
      },
      "outputs": [],
      "source": [
        "nums1 = [1,2,3,0,0,0]\n",
        "m = 3\n",
        "nums2 = [2,5,6]\n",
        "n = 3"
      ]
    },
    {
      "cell_type": "markdown",
      "source": [
        "# First code, filling from the left"
      ],
      "metadata": {
        "id": "ygk-kEP-Oh96"
      }
    },
    {
      "cell_type": "code",
      "source": [
        "ctr = 0\n",
        "if m==0:\n",
        "  nums1 = nums2\n",
        "elif n!=0:\n",
        "  for i in range(n):\n",
        "    if nums1[0] >= nums2[i]:\n",
        "      nums1.insert(0, nums2[i])\n",
        "      nums1.pop()\n",
        "      ctr = ctr + 1\n",
        "      print('i', i, nums1)\n",
        "    else:\n",
        "      for j in range(n+m):\n",
        "        if j == n+m-1:\n",
        "          nums1.insert(j, nums2[i])\n",
        "          nums1.pop()\n",
        "          ctr = ctr + 1\n",
        "          print('i', i, nums1)\n",
        "          print('teraz')\n",
        "        elif (nums1[j] <= nums2[i] and nums1[j+1] >= nums2[i]) or j == m-1+ctr:\n",
        "          nums1.insert(j+1, nums2[i])\n",
        "          nums1.pop()\n",
        "          ctr = ctr + 1\n",
        "          print('i', i, nums1)\n",
        "          break"
      ],
      "metadata": {
        "colab": {
          "base_uri": "https://localhost:8080/"
        },
        "id": "wocYT_BPEkiI",
        "outputId": "466a4a2f-aaa6-44ec-86dc-0f9df65d6d34"
      },
      "execution_count": 22,
      "outputs": [
        {
          "output_type": "stream",
          "name": "stdout",
          "text": [
            "i 0 [-1, 0, 0, 1, 3, 3, 3, 0, 0]\n",
            "i 1 [-1, 0, 0, 1, 2, 3, 3, 3, 0]\n",
            "i 2 [-1, 0, 0, 1, 2, 2, 3, 3, 3]\n"
          ]
        }
      ]
    },
    {
      "cell_type": "code",
      "source": [
        "nums1 = [0]\n",
        "m = 0\n",
        "nums2 = [1]\n",
        "n = 1"
      ],
      "metadata": {
        "id": "gxL3ogEGFqQr"
      },
      "execution_count": 15,
      "outputs": []
    },
    {
      "cell_type": "code",
      "source": [
        "nums1 = [-1,0,0,3,3,3,0,0,0]\n",
        "m = 6\n",
        "nums2 = [1,2,2]\n",
        "n = 3"
      ],
      "metadata": {
        "id": "nLy9cgB7IS0s"
      },
      "execution_count": 21,
      "outputs": []
    },
    {
      "cell_type": "markdown",
      "source": [
        "# Second code, filling from the right, using highest values"
      ],
      "metadata": {
        "id": "0rJaP0_AOsPE"
      }
    },
    {
      "cell_type": "code",
      "source": [
        "i = n + m - 1 #pointer for moving left on the nums1 list\n",
        "j = m - 1 #pointer for moving on the first part of nums1\n",
        "k = n - 1 #pointer for moving on nums2\n",
        "\n",
        "while j >= 0 and k >= 0:\n",
        "  if nums2[k] >= nums1[j]:\n",
        "    nums1[i] = nums2[k]\n",
        "    i = i-1\n",
        "    k = k-1\n",
        "  else:\n",
        "    nums1[i] = nums1[j]\n",
        "    i = i-1\n",
        "    j = j-1\n",
        "\n",
        "while k >= 0:\n",
        "  nums1[i] = nums2[k]\n",
        "  k = k-1\n",
        "  i = i-1"
      ],
      "metadata": {
        "id": "g0qlJ-2hQ-Yp"
      },
      "execution_count": 31,
      "outputs": []
    },
    {
      "cell_type": "code",
      "source": [
        "nums1 = [1,2,3,0,0,0]\n",
        "m = 3\n",
        "nums2 = [2,5,6]\n",
        "n = 3"
      ],
      "metadata": {
        "id": "9axhrIBMRp4G"
      },
      "execution_count": 27,
      "outputs": []
    },
    {
      "cell_type": "code",
      "source": [],
      "metadata": {
        "id": "yFY_V76rTRAH"
      },
      "execution_count": null,
      "outputs": []
    }
  ]
}