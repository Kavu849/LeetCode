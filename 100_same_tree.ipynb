{
  "nbformat": 4,
  "nbformat_minor": 0,
  "metadata": {
    "colab": {
      "provenance": [],
      "authorship_tag": "ABX9TyPCzwtlAb9I7mXdNE9hEGmi",
      "include_colab_link": true
    },
    "kernelspec": {
      "name": "python3",
      "display_name": "Python 3"
    },
    "language_info": {
      "name": "python"
    }
  },
  "cells": [
    {
      "cell_type": "markdown",
      "metadata": {
        "id": "view-in-github",
        "colab_type": "text"
      },
      "source": [
        "<a href=\"https://colab.research.google.com/github/Kavu849/LeetCode_DSA/blob/main/100_same_tree.ipynb\" target=\"_parent\"><img src=\"https://colab.research.google.com/assets/colab-badge.svg\" alt=\"Open In Colab\"/></a>"
      ]
    },
    {
      "cell_type": "markdown",
      "source": [
        "Approach using recursion"
      ],
      "metadata": {
        "id": "YXfsZRh09v-g"
      }
    },
    {
      "cell_type": "code",
      "source": [
        "# Definition for a binary tree node.\n",
        "# class TreeNode:\n",
        "#     def __init__(self, val=0, left=None, right=None):\n",
        "#         self.val = val\n",
        "#         self.left = left\n",
        "#         self.right = right\n",
        "class Solution:\n",
        "    def isSameTree(self, p: Optional[TreeNode], q: Optional[TreeNode]) -> bool:\n",
        "        ## Recursive approach\n",
        "        if (p is None and q is None):\n",
        "            return True\n",
        "        if (p is None and q is not None) or (p is not None and q is None) or (p.val != q.val):\n",
        "            return False\n",
        "\n",
        "        return (self.isSameTree(p.left, q.left) and self.isSameTree(p.right, q.right))"
      ],
      "metadata": {
        "id": "PWB08faD9x2z"
      },
      "execution_count": null,
      "outputs": []
    },
    {
      "cell_type": "markdown",
      "source": [
        "Approach using a queue. Put nodes into the queue and compare the values"
      ],
      "metadata": {
        "id": "PeJmSvmQ7JCW"
      }
    },
    {
      "cell_type": "code",
      "execution_count": null,
      "metadata": {
        "id": "QVNFt8J62M15"
      },
      "outputs": [],
      "source": [
        "# Definition for a binary tree node.\n",
        "# class TreeNode:\n",
        "#     def __init__(self, val=0, left=None, right=None):\n",
        "#         self.val = val\n",
        "#         self.left = left\n",
        "#         self.right = right\n",
        "class Solution:\n",
        "    def isSameTree(self, p: Optional[TreeNode], q: Optional[TreeNode]) -> bool:\n",
        "\n",
        "        queue_p = []\n",
        "        queue_q = []\n",
        "\n",
        "        queue_p.append(p)\n",
        "        queue_q.append(q)\n",
        "\n",
        "        while len(queue_p)*len(queue_q) > 0:\n",
        "            node_p = queue_p.pop(0)\n",
        "            node_q = queue_q.pop(0)\n",
        "\n",
        "            if node_p is None and node_q is None:\n",
        "                continue\n",
        "\n",
        "            if (node_p is None and  node_q is not None) or (node_p is not None and node_q is None) or (node_p.val != node_q.val):\n",
        "                return False\n",
        "            queue_p.append(node_p.left)\n",
        "            queue_p.append(node_p.right)\n",
        "            queue_q.append(node_q.left)\n",
        "            queue_q.append(node_q.right)\n",
        "\n",
        "        return True"
      ]
    }
  ]
}