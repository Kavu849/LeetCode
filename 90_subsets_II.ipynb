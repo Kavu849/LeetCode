{
  "nbformat": 4,
  "nbformat_minor": 0,
  "metadata": {
    "colab": {
      "provenance": [],
      "authorship_tag": "ABX9TyMb7IH4yq85TaR1+USYCnvL",
      "include_colab_link": true
    },
    "kernelspec": {
      "name": "python3",
      "display_name": "Python 3"
    },
    "language_info": {
      "name": "python"
    }
  },
  "cells": [
    {
      "cell_type": "markdown",
      "metadata": {
        "id": "view-in-github",
        "colab_type": "text"
      },
      "source": [
        "<a href=\"https://colab.research.google.com/github/Kavu849/LeetCode_DSA/blob/main/90_subsets_II.ipynb\" target=\"_parent\"><img src=\"https://colab.research.google.com/assets/colab-badge.svg\" alt=\"Open In Colab\"/></a>"
      ]
    },
    {
      "cell_type": "markdown",
      "source": [
        "Time complexity: O(n*2^n)"
      ],
      "metadata": {
        "id": "jEq-CsFkh8cx"
      }
    },
    {
      "cell_type": "code",
      "execution_count": null,
      "metadata": {
        "id": "GGyJnf8sh6qj"
      },
      "outputs": [],
      "source": [
        "class Solution:\n",
        "    def subsetsWithDup(self, nums: List[int]) -> List[List[int]]:\n",
        "        res = []\n",
        "        subs = []\n",
        "        nums.sort()\n",
        "\n",
        "        def dfs(i):\n",
        "            if i == len(nums):\n",
        "                res.append(subs.copy())\n",
        "                return\n",
        "\n",
        "            subs.append(nums[i])\n",
        "            dfs(i+1)\n",
        "\n",
        "            while i < len(nums)-1 and nums[i] == nums[i+1]:\n",
        "                i += 1\n",
        "\n",
        "            subs.pop()\n",
        "            dfs(i+1)\n",
        "\n",
        "        dfs(0)\n",
        "        return res"
      ]
    }
  ]
}