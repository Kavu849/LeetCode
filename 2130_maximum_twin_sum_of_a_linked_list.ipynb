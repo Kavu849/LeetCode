{
  "nbformat": 4,
  "nbformat_minor": 0,
  "metadata": {
    "colab": {
      "provenance": [],
      "authorship_tag": "ABX9TyPQZEMSdXGqhXrGE/nxiSjS",
      "include_colab_link": true
    },
    "kernelspec": {
      "name": "python3",
      "display_name": "Python 3"
    },
    "language_info": {
      "name": "python"
    }
  },
  "cells": [
    {
      "cell_type": "markdown",
      "metadata": {
        "id": "view-in-github",
        "colab_type": "text"
      },
      "source": [
        "<a href=\"https://colab.research.google.com/github/Kavu849/LeetCode_DSA/blob/main/2130_maximum_twin_sum_of_a_linked_list.ipynb\" target=\"_parent\"><img src=\"https://colab.research.google.com/assets/colab-badge.svg\" alt=\"Open In Colab\"/></a>"
      ]
    },
    {
      "cell_type": "markdown",
      "source": [
        "First solution. We use a slow and a fast pointer, moving by 1 and 2, respecitvely. When the fast pointer reaches the end, the slow pointer is in the middle and we reverse the linked list. When we reach the end, we iterate backwards starting from the beginning and the end, compute the sum, and update the maximum.\n",
        "\n",
        "Time complexity: O(n)\n",
        "\n",
        "Extra space complexity: O(1)"
      ],
      "metadata": {
        "id": "M0tmnaDGZy1i"
      }
    },
    {
      "cell_type": "code",
      "execution_count": null,
      "metadata": {
        "id": "LQTEJWtGZySY"
      },
      "outputs": [],
      "source": [
        "# Definition for singly-linked list.\n",
        "# class ListNode:\n",
        "#     def __init__(self, val=0, next=None):\n",
        "#         self.val = val\n",
        "#         self.next = next\n",
        "class Solution:\n",
        "    def pairSum(self, head: Optional[ListNode]) -> int:\n",
        "        slow, fast = head, head.next\n",
        "\n",
        "        while fast.next:\n",
        "            slow = slow.next\n",
        "            fast = fast.next.next\n",
        "\n",
        "        # now, we reverse the list starting at the slow pointer\n",
        "        prev, curr = slow, slow.next\n",
        "        while curr:\n",
        "            tmp = curr.next\n",
        "            curr.next = prev\n",
        "            prev = curr\n",
        "            curr = tmp\n",
        "\n",
        "        # now, we start at the end of the list (at prev) and compare the values\n",
        "        start, end = head, prev\n",
        "        max_sum = float('-inf')\n",
        "        while start != end.next:\n",
        "            max_sum = max(max_sum, start.val + end.val)\n",
        "            start = start.next\n",
        "            end = end.next\n",
        "\n",
        "        max_sum = max(max_sum, start.val + end.val)\n",
        "        return max_sum"
      ]
    }
  ]
}