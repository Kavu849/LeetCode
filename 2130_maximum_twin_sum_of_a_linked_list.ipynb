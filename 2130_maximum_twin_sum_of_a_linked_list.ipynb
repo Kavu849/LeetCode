{
  "nbformat": 4,
  "nbformat_minor": 0,
  "metadata": {
    "colab": {
      "provenance": [],
      "authorship_tag": "ABX9TyOZbiPyU3pkRtALk8wyilzm",
      "include_colab_link": true
    },
    "kernelspec": {
      "name": "python3",
      "display_name": "Python 3"
    },
    "language_info": {
      "name": "python"
    }
  },
  "cells": [
    {
      "cell_type": "markdown",
      "metadata": {
        "id": "view-in-github",
        "colab_type": "text"
      },
      "source": [
        "<a href=\"https://colab.research.google.com/github/Kavu849/LeetCode_DSA/blob/main/2130_maximum_twin_sum_of_a_linked_list.ipynb\" target=\"_parent\"><img src=\"https://colab.research.google.com/assets/colab-badge.svg\" alt=\"Open In Colab\"/></a>"
      ]
    },
    {
      "cell_type": "markdown",
      "source": [
        "First solution. We use a slow and a fast pointer, moving by 1 and 2, respecitvely. When the fast pointer reaches the end, the slow pointer is in the middle and we reverse the linked list. When we reach the end, we iterate backwards starting from the beginning and the end, compute the sum, and update the maximum.\n",
        "\n",
        "Time complexity: O(n)\n",
        "\n",
        "Extra space complexity: O(1)"
      ],
      "metadata": {
        "id": "M0tmnaDGZy1i"
      }
    },
    {
      "cell_type": "code",
      "execution_count": null,
      "metadata": {
        "id": "LQTEJWtGZySY"
      },
      "outputs": [],
      "source": [
        "# Definition for singly-linked list.\n",
        "# class ListNode:\n",
        "#     def __init__(self, val=0, next=None):\n",
        "#         self.val = val\n",
        "#         self.next = next\n",
        "class Solution:\n",
        "    def pairSum(self, head: Optional[ListNode]) -> int:\n",
        "        slow, fast = head, head.next\n",
        "\n",
        "        while fast.next:\n",
        "            slow = slow.next\n",
        "            fast = fast.next.next\n",
        "\n",
        "        # now, we reverse the list starting at the slow pointer\n",
        "        prev, curr = slow, slow.next\n",
        "        while curr:\n",
        "            tmp = curr.next\n",
        "            curr.next = prev\n",
        "            prev = curr\n",
        "            curr = tmp\n",
        "\n",
        "        # now, we start at the end of the list (at prev) and compare the values\n",
        "        start, end = head, prev\n",
        "        max_sum = float('-inf')\n",
        "        while start != end.next:\n",
        "            max_sum = max(max_sum, start.val + end.val)\n",
        "            start = start.next\n",
        "            end = end.next\n",
        "\n",
        "        max_sum = max(max_sum, start.val + end.val)\n",
        "        return max_sum"
      ]
    },
    {
      "cell_type": "markdown",
      "source": [
        "Slightly better solution. Similar idea, but we save some time since we reverse the list from the very beginning and stop when the slow pointer reaches the next node of the middle node. At that point we iterate the slow pointer and the prev pointer (the prev pointer will be moving backwards since we reversed the list) and update the maximum.\n",
        "\n",
        "Time complexity: O(n)\n",
        "\n",
        "Extra space complexity: O(1)"
      ],
      "metadata": {
        "id": "eUykDq8auwd1"
      }
    },
    {
      "cell_type": "code",
      "source": [
        "# Definition for singly-linked list.\n",
        "# class ListNode:\n",
        "#     def __init__(self, val=0, next=None):\n",
        "#         self.val = val\n",
        "#         self.next = next\n",
        "class Solution:\n",
        "    def pairSum(self, head: Optional[ListNode]) -> int:\n",
        "        slow, fast = head, head\n",
        "        prev = None\n",
        "        curr_max = 0 # since all values are positive\n",
        "\n",
        "        while fast:\n",
        "            fast = fast.next.next # always possible since even amount of nodes\n",
        "            tmp = slow.next\n",
        "            slow.next = prev\n",
        "            prev = slow\n",
        "            slow = tmp\n",
        "\n",
        "        while slow:\n",
        "            curr_max = max(curr_max, prev.val + slow.val)\n",
        "            prev = prev.next\n",
        "            slow = slow.next\n",
        "\n",
        "        return curr_max"
      ],
      "metadata": {
        "id": "uc8oa3KKuypO"
      },
      "execution_count": null,
      "outputs": []
    }
  ]
}