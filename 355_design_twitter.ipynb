{
  "nbformat": 4,
  "nbformat_minor": 0,
  "metadata": {
    "colab": {
      "provenance": [],
      "authorship_tag": "ABX9TyPi28NJehIp+3w6fbs9Ho0T",
      "include_colab_link": true
    },
    "kernelspec": {
      "name": "python3",
      "display_name": "Python 3"
    },
    "language_info": {
      "name": "python"
    }
  },
  "cells": [
    {
      "cell_type": "markdown",
      "metadata": {
        "id": "view-in-github",
        "colab_type": "text"
      },
      "source": [
        "<a href=\"https://colab.research.google.com/github/Kavu849/LeetCode_DSA/blob/main/355_design_twitter.ipynb\" target=\"_parent\"><img src=\"https://colab.research.google.com/assets/colab-badge.svg\" alt=\"Open In Colab\"/></a>"
      ]
    },
    {
      "cell_type": "markdown",
      "source": [
        "Good solution. We measure time by storing the variable 'count', which will decrease by 1 every time someone posts a tweet (we decrease since we want to use a max heap later on and order by the count). We also store two dictionaries: 'user_followees' and 'user_tweets', which for every user id indicates all user that this user follows, and all tweets they posted, respectively.\n",
        "\n",
        "The bulk of the work is done in the 'getNewsFeed' method. There, for a given user, we go over its every followee, add their most recent tweet (the current counter and the tweet's id) to the heap, and after the loop is finished, we heapify (note that we also add to the heap the id of the user that posted it and the tweet's index). In the next loop, we will be adding tweets to the result. Note that each time we add a tweet of a given user to the result, we potentially add the next recent tweet of that user to the heap. That way we ensure that we will be always adding the most recent tweet to the result.\n",
        "\n",
        "Time complexity: O(k) for the getNewsFeed (O(1) for other methods), where k is the number of people a given user follows\n",
        "\n",
        "Extra space complexity: O(n*m), where n is the amount of users, and m is the number of tweets of the user with the largest number of tweets"
      ],
      "metadata": {
        "id": "ZWE94xwtsjm0"
      }
    },
    {
      "cell_type": "code",
      "execution_count": null,
      "metadata": {
        "id": "KCkk4LDisNqs"
      },
      "outputs": [],
      "source": [
        "class Twitter:\n",
        "\n",
        "    def __init__(self):\n",
        "        self.count = 0\n",
        "        self.user_followees = defaultdict(set)\n",
        "        self.user_tweets = defaultdict(list)\n",
        "\n",
        "    def postTweet(self, userId: int, tweetId: int) -> None:\n",
        "        self.user_tweets[userId].append([self.count, tweetId])\n",
        "        self.count -= 1\n",
        "\n",
        "    def getNewsFeed(self, userId: int) -> List[int]:\n",
        "        res = []\n",
        "        maxHeap = []\n",
        "\n",
        "        self.user_followees[userId].add(userId)\n",
        "\n",
        "        for followeeId in self.user_followees[userId]:\n",
        "            if followeeId in self.user_tweets:\n",
        "                index = len(self.user_tweets[followeeId]) - 1\n",
        "                count, tweetId = self.user_tweets[followeeId][index]\n",
        "                maxHeap.append([count, tweetId, followeeId, index - 1])\n",
        "\n",
        "        heapq.heapify(maxHeap)\n",
        "        while maxHeap and len(res) < 10:\n",
        "            count, tweetId, followeeId, index = heapq.heappop(maxHeap)\n",
        "            res.append(tweetId)\n",
        "            if index >= 0:\n",
        "                count, tweetId = self.user_tweets[followeeId][index]\n",
        "                heapq.heappush(maxHeap, [count, tweetId, followeeId, index - 1])\n",
        "\n",
        "        return res\n",
        "\n",
        "    def follow(self, followerId: int, followeeId: int) -> None:\n",
        "        self.user_followees[followerId].add(followeeId)\n",
        "\n",
        "    def unfollow(self, followerId: int, followeeId: int) -> None:\n",
        "        if followeeId in self.user_followees[followerId]:\n",
        "            self.user_followees[followerId].remove(followeeId)\n",
        "\n",
        "\n",
        "# Your Twitter object will be instantiated and called as such:\n",
        "# obj = Twitter()\n",
        "# obj.postTweet(userId,tweetId)\n",
        "# param_2 = obj.getNewsFeed(userId)\n",
        "# obj.follow(followerId,followeeId)\n",
        "# obj.unfollow(followerId,followeeId)"
      ]
    }
  ]
}