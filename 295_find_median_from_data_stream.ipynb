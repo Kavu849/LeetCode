{
  "nbformat": 4,
  "nbformat_minor": 0,
  "metadata": {
    "colab": {
      "provenance": [],
      "authorship_tag": "ABX9TyNZdi50dOHbGDdPYZN+iG9E",
      "include_colab_link": true
    },
    "kernelspec": {
      "name": "python3",
      "display_name": "Python 3"
    },
    "language_info": {
      "name": "python"
    }
  },
  "cells": [
    {
      "cell_type": "markdown",
      "metadata": {
        "id": "view-in-github",
        "colab_type": "text"
      },
      "source": [
        "<a href=\"https://colab.research.google.com/github/Kavu849/LeetCode_DSA/blob/main/295_find_median_from_data_stream.ipynb\" target=\"_parent\"><img src=\"https://colab.research.google.com/assets/colab-badge.svg\" alt=\"Open In Colab\"/></a>"
      ]
    },
    {
      "cell_type": "markdown",
      "source": [
        "Good solution. We store extra two heaps: maxHeap and minHeap. They will be constructed in such a way that maxHeap[i] <= minHeap[j] for all i, j, and also that their lengths will never differ by more than one. Those adjustements will be implemented in the 'addNum' method. Then, in order to get the median, we will only need to look at the roots of those heaps. If they are of equal length, then the median will be the mean of those roots. If they will differ in length, then the median will be the root of the longer heap."
      ],
      "metadata": {
        "id": "chOV1RbXVhky"
      }
    },
    {
      "cell_type": "code",
      "execution_count": null,
      "metadata": {
        "id": "uzJFKc-KVf0k"
      },
      "outputs": [],
      "source": [
        "class MedianFinder:\n",
        "\n",
        "    def __init__(self):\n",
        "        # minHeap will have correct values, maxHeap will have negastives of the correct values\n",
        "        self.maxHeap, self.minHeap = [], []\n",
        "\n",
        "    def addNum(self, num: int) -> None:\n",
        "        # we will construct the heaps in such a way that maxHeap[i] <= minHeap[j] for all i,j\n",
        "        # first, always start with pushin onto the maxHeap\n",
        "        heapq.heappush(self.maxHeap, -num)\n",
        "\n",
        "        if abs(len(self.maxHeap) - len(self.minHeap)) > 1:\n",
        "            # pop from maxHeap and push onto the minHeap\n",
        "            tmp = heapq.heappop(self.maxHeap)\n",
        "            heapq.heappush(self.minHeap, -tmp)\n",
        "\n",
        "        if self.maxHeap and self.minHeap and -self.maxHeap[0] > self.minHeap[0]:\n",
        "            # if the root of the maxHeap is greater than the root of the minHeap, move that node to the other heap\n",
        "            tmp = heapq.heappop(self.maxHeap)\n",
        "            heapq.heappush(self.minHeap, -tmp)\n",
        "\n",
        "        if abs(len(self.maxHeap) - len(self.minHeap)) > 1:\n",
        "            # pop from the minHeap and push onto the maxHeap\n",
        "            tmp = heapq.heappop(self.minHeap)\n",
        "            heapq.heappush(self.maxHeap, -tmp)\n",
        "\n",
        "    def findMedian(self) -> float:\n",
        "        if len(self.maxHeap) == len(self.minHeap):\n",
        "            return (-self.maxHeap[0] + self.minHeap[0]) / 2\n",
        "        elif len(self.maxHeap) > len(self.minHeap):\n",
        "            return -self.maxHeap[0]\n",
        "        else:\n",
        "            return self.minHeap[0]\n",
        "\n",
        "# Your MedianFinder object will be instantiated and called as such:\n",
        "# obj = MedianFinder()\n",
        "# obj.addNum(num)\n",
        "# param_2 = obj.findMedian()"
      ]
    }
  ]
}