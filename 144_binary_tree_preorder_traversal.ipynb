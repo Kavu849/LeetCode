{
  "nbformat": 4,
  "nbformat_minor": 0,
  "metadata": {
    "colab": {
      "provenance": [],
      "authorship_tag": "ABX9TyNIhtAaVAyAbB1s0A74cnl5",
      "include_colab_link": true
    },
    "kernelspec": {
      "name": "python3",
      "display_name": "Python 3"
    },
    "language_info": {
      "name": "python"
    }
  },
  "cells": [
    {
      "cell_type": "markdown",
      "metadata": {
        "id": "view-in-github",
        "colab_type": "text"
      },
      "source": [
        "<a href=\"https://colab.research.google.com/github/Kavu849/LeetCode_DSA/blob/main/144_binary_tree_preorder_traversal.ipynb\" target=\"_parent\"><img src=\"https://colab.research.google.com/assets/colab-badge.svg\" alt=\"Open In Colab\"/></a>"
      ]
    },
    {
      "cell_type": "markdown",
      "source": [
        "Standard algorithm, recursive.\n",
        "\n",
        "Time complexity: O(n)\n",
        "\n",
        "Extra space complexity: O(h), where h is the height of the tree"
      ],
      "metadata": {
        "id": "W-Akg7sglqLZ"
      }
    },
    {
      "cell_type": "code",
      "execution_count": null,
      "metadata": {
        "id": "P6jSvGmtex74"
      },
      "outputs": [],
      "source": [
        "# Definition for a binary tree node.\n",
        "# class TreeNode:\n",
        "#     def __init__(self, val=0, left=None, right=None):\n",
        "#         self.val = val\n",
        "#         self.left = left\n",
        "#         self.right = right\n",
        "class Solution:\n",
        "    def preorderTraversal(self, root: Optional[TreeNode]) -> List[int]:\n",
        "        res = []\n",
        "\n",
        "        def dfs(root):\n",
        "            if root is None:\n",
        "                return\n",
        "\n",
        "            res.append(root.val)\n",
        "            dfs(root.left)\n",
        "            dfs(root.right)\n",
        "\n",
        "        dfs(root)\n",
        "        return res\n"
      ]
    },
    {
      "cell_type": "markdown",
      "source": [
        "Iterative algorithm, using a stack.\n",
        "\n",
        "Time complexity: O(n)\n",
        "\n",
        "Extra space complexity: O(h), where h is the height of the tree"
      ],
      "metadata": {
        "id": "oen7nKs6lx1Y"
      }
    },
    {
      "cell_type": "code",
      "source": [
        "# Definition for a binary tree node.\n",
        "# class TreeNode:\n",
        "#     def __init__(self, val=0, left=None, right=None):\n",
        "#         self.val = val\n",
        "#         self.left = left\n",
        "#         self.right = right\n",
        "class Solution:\n",
        "    def preorderTraversal(self, root: Optional[TreeNode]) -> List[int]:\n",
        "        res, stack = [], []\n",
        "        curr =root\n",
        "\n",
        "        while curr or stack:\n",
        "            if curr:\n",
        "                res.append(curr.val)\n",
        "                if curr.right:\n",
        "                    stack.append(curr.right)\n",
        "                curr = curr.left\n",
        "            else:\n",
        "                curr = stack.pop()\n",
        "\n",
        "        return res"
      ],
      "metadata": {
        "id": "z4f9XOsYlpo9"
      },
      "execution_count": null,
      "outputs": []
    }
  ]
}