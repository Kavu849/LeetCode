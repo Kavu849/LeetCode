{
  "nbformat": 4,
  "nbformat_minor": 0,
  "metadata": {
    "colab": {
      "provenance": [],
      "authorship_tag": "ABX9TyMwwten5SDQBgV9L0s6p28B",
      "include_colab_link": true
    },
    "kernelspec": {
      "name": "python3",
      "display_name": "Python 3"
    },
    "language_info": {
      "name": "python"
    }
  },
  "cells": [
    {
      "cell_type": "markdown",
      "metadata": {
        "id": "view-in-github",
        "colab_type": "text"
      },
      "source": [
        "<a href=\"https://colab.research.google.com/github/Kavu849/LeetCode_DSA/blob/main/76_minimum_window_substring.ipynb\" target=\"_parent\"><img src=\"https://colab.research.google.com/assets/colab-badge.svg\" alt=\"Open In Colab\"/></a>"
      ]
    },
    {
      "cell_type": "markdown",
      "source": [
        "We use a sliding window where we slide to the right if we still need new characters, and slide to the left if we still have a valid substring. One thing to notice is the introduction of the 'have' and 'need' variables. They will count how many condtions we have meet and how many we have at the moment, where one condition would be having the required number of one letter in our window.\n",
        "\n",
        "Time complexity: O(n), where n = len(s)\n",
        "\n",
        "Extra space complexity: O(m), where m = len(t)"
      ],
      "metadata": {
        "id": "3-RSZxQWHN1z"
      }
    },
    {
      "cell_type": "code",
      "execution_count": null,
      "metadata": {
        "id": "g5fkfTm9EYlg"
      },
      "outputs": [],
      "source": [
        "class Solution:\n",
        "    def minWindow(self, s: str, t: str) -> str:\n",
        "        if t == \"\":\n",
        "            return \"\"\n",
        "\n",
        "        count_t, window = {}, {}\n",
        "        res = [-1, -1]\n",
        "        res_len = float('inf')\n",
        "\n",
        "        for c in t:\n",
        "            count_t[c] = 1 + count_t.get(c, 0)\n",
        "\n",
        "        have, need = 0, len(count_t)\n",
        "        l = 0\n",
        "\n",
        "        for r in range(len(s)):\n",
        "            c = s[r]\n",
        "            window[c] = 1 + window.get(c, 0)\n",
        "\n",
        "            if c in count_t and window[c] == count_t[c]:\n",
        "                have += 1\n",
        "\n",
        "            while have == need:\n",
        "                # if we found a smaller substring, update the result\n",
        "                if (r - l + 1) < res_len:\n",
        "                    res = [l, r] # we store only the indices for speed\n",
        "                    res_len = r - l + 1\n",
        "\n",
        "                # pop from the left\n",
        "                window[s[l]] -= 1\n",
        "                if s[l] in count_t and window[s[l]] < count_t[s[l]]:\n",
        "                    have -= 1\n",
        "                l += 1\n",
        "        l, r = res\n",
        "        if res_len == float('inf'):\n",
        "            return \"\"\n",
        "        else:\n",
        "            return s[l: r + 1]\n",
        "\n"
      ]
    }
  ]
}