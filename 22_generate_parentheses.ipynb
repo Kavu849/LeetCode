{
  "nbformat": 4,
  "nbformat_minor": 0,
  "metadata": {
    "colab": {
      "provenance": [],
      "authorship_tag": "ABX9TyOpRfAwiw87pDBBocrwx/0K",
      "include_colab_link": true
    },
    "kernelspec": {
      "name": "python3",
      "display_name": "Python 3"
    },
    "language_info": {
      "name": "python"
    }
  },
  "cells": [
    {
      "cell_type": "markdown",
      "metadata": {
        "id": "view-in-github",
        "colab_type": "text"
      },
      "source": [
        "<a href=\"https://colab.research.google.com/github/Kavu849/LeetCode/blob/main/22_generate_parentheses.ipynb\" target=\"_parent\"><img src=\"https://colab.research.google.com/assets/colab-badge.svg\" alt=\"Open In Colab\"/></a>"
      ]
    },
    {
      "cell_type": "markdown",
      "source": [
        "First solution using recursion."
      ],
      "metadata": {
        "id": "i99714t8tYqu"
      }
    },
    {
      "cell_type": "code",
      "source": [
        "class Solution:\n",
        "    def generateParenthesis(self, n: int) -> List[str]:\n",
        "\n",
        "        res = []\n",
        "\n",
        "        def backtracking(leftP, rightP, s):\n",
        "            if len(s) == n * 2:\n",
        "                res.append(s)\n",
        "                return\n",
        "            if leftP < n:\n",
        "                backtracking(leftP + 1, rightP, s + '(')\n",
        "            if leftP > rightP:\n",
        "                backtracking(leftP, rightP + 1, s + ')')\n",
        "        backtracking(0, 0, '')\n",
        "        return res"
      ],
      "metadata": {
        "id": "RVRMITmViE3c"
      },
      "execution_count": null,
      "outputs": []
    }
  ]
}