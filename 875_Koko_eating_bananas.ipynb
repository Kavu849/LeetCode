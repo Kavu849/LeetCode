{
  "nbformat": 4,
  "nbformat_minor": 0,
  "metadata": {
    "colab": {
      "provenance": [],
      "authorship_tag": "ABX9TyMpY7AtMfBz0/RrgowXCnhc",
      "include_colab_link": true
    },
    "kernelspec": {
      "name": "python3",
      "display_name": "Python 3"
    },
    "language_info": {
      "name": "python"
    }
  },
  "cells": [
    {
      "cell_type": "markdown",
      "metadata": {
        "id": "view-in-github",
        "colab_type": "text"
      },
      "source": [
        "<a href=\"https://colab.research.google.com/github/Kavu849/LeetCode_DSA/blob/main/875_Koko_eating_bananas.ipynb\" target=\"_parent\"><img src=\"https://colab.research.google.com/assets/colab-badge.svg\" alt=\"Open In Colab\"/></a>"
      ]
    },
    {
      "cell_type": "markdown",
      "source": [
        "First solution using binary search. Time complexity: O(nlog(max(piles))"
      ],
      "metadata": {
        "id": "Mg_1I1VZJBgE"
      }
    },
    {
      "cell_type": "code",
      "source": [
        "# Two things to notice in this code that I missed before:\n",
        "# 1. When t == h, we still have to decrease the right endpoint, since that means that it's still possible to reduce the eating speed (new 't' could be equal to the one with smaller speed because of using ceil())\n",
        "# 2. Instead of returning c, we return res. The reason is that If t<=h is satisfied, that means that we are eating all the bananas in time less than 'h'.\n",
        "#    This means that the current speed of eating bananans 'c' is a possible value to be returned. But we can continue our search and see if that speed can be further reduced.\n",
        "#    That is why we assign it to some other variable res.\n",
        "\n",
        "class Solution:\n",
        "    def minEatingSpeed(self, piles: List[int], h: int) -> int:\n",
        "        import math\n",
        "        a = 1\n",
        "        b = max(piles)\n",
        "        res = b\n",
        "\n",
        "        while a <= b:\n",
        "            c = (a + b) // 2\n",
        "            t = sum([math.ceil(i/c) for i in piles])\n",
        "            if t > h:\n",
        "                a = c + 1\n",
        "            elif t <= h:\n",
        "                res = c\n",
        "                b = c - 1\n",
        "        return res"
      ],
      "metadata": {
        "id": "cQdLwy5z-Mym"
      },
      "execution_count": null,
      "outputs": []
    }
  ]
}