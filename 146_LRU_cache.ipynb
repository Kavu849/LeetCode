{
  "nbformat": 4,
  "nbformat_minor": 0,
  "metadata": {
    "colab": {
      "provenance": [],
      "authorship_tag": "ABX9TyNB+BfYbIhglJHxUsV2icyi",
      "include_colab_link": true
    },
    "kernelspec": {
      "name": "python3",
      "display_name": "Python 3"
    },
    "language_info": {
      "name": "python"
    }
  },
  "cells": [
    {
      "cell_type": "markdown",
      "metadata": {
        "id": "view-in-github",
        "colab_type": "text"
      },
      "source": [
        "<a href=\"https://colab.research.google.com/github/Kavu849/LeetCode_DSA/blob/main/146_LRU_cache.ipynb\" target=\"_parent\"><img src=\"https://colab.research.google.com/assets/colab-badge.svg\" alt=\"Open In Colab\"/></a>"
      ]
    },
    {
      "cell_type": "markdown",
      "source": [
        "Complete optimal solution. The idea is to keep a hashmap and a doubly linked list. The values of the hashmap will be the nodes of the linked list. Also, we have extra two nodes 'left' and 'right' which point to the last recently used and most recently used nodes.\n",
        "\n",
        "Get and put methods run in O(1) time complexity."
      ],
      "metadata": {
        "id": "ddDa_meo46oz"
      }
    },
    {
      "cell_type": "code",
      "execution_count": null,
      "metadata": {
        "id": "JCBL1En3RVnU"
      },
      "outputs": [],
      "source": [
        "class Node:\n",
        "    def __init__(self, key, val):\n",
        "        self.key, self.val = key, val\n",
        "        self.prev = self.next = None\n",
        "\n",
        "class LRUCache:\n",
        "\n",
        "    def __init__(self, capacity: int):\n",
        "        self.cap = capacity\n",
        "        self.cache = {}\n",
        "\n",
        "        self.left, self.right = Node(0,0), Node(0,0)\n",
        "        self.left.next, self.right.prev = self.right, self.left\n",
        "\n",
        "    # remove node from list\n",
        "    # this method does not modify the hashmap, just the structure of the linked list\n",
        "    def remove(self, node):\n",
        "        node.prev.next, node.next.prev = node.next, node.prev\n",
        "\n",
        "    # insert node to list\n",
        "    # this method does not modify the hashmap, just the structure of the linked list\n",
        "    def insert(self, node):\n",
        "        node.prev, node.next = self.right.prev, self.right\n",
        "        self.right.prev.next = node\n",
        "        self.right.prev = node\n",
        "\n",
        "    def get(self, key: int) -> int:\n",
        "        # if the key exists\n",
        "        if key in self.cache:\n",
        "            # remove the node and insert it again in order to update the cache\n",
        "            # IMPORTANT: the node still exists in the hashmap, the 'remove' method just unlinks it from the linked list,\n",
        "            # and the insert method links it again at the right end of the list\n",
        "            self.remove(self.cache[key])\n",
        "            self.insert(self.cache[key])\n",
        "            return self.cache[key].val\n",
        "        # otherwise return -1\n",
        "        return -1\n",
        "\n",
        "    def put(self, key: int, value: int) -> None:\n",
        "        # if the key already exists, we have to remove it (we will insert it later)\n",
        "        if key in self.cache.keys():\n",
        "            self.remove(self.cache[key])\n",
        "\n",
        "        # now, create a new node, add it to the hashmap, and insert it into the linked list\n",
        "        self.cache[key] = Node(key, value)\n",
        "        self.insert(self.cache[key])\n",
        "\n",
        "        # now, if the new cache is biggesr than the capacity, remove the LRU from the list and from the hashmap\n",
        "        if len(self.cache.keys()) > self.cap:\n",
        "            lru = self.left.next\n",
        "            self.remove(lru)\n",
        "            del self.cache[lru.key]\n",
        "\n",
        "# Your LRUCache object will be instantiated and called as such:\n",
        "# obj = LRUCache(capacity)\n",
        "# param_1 = obj.get(key)\n",
        "# obj.put(key,value)"
      ]
    }
  ]
}