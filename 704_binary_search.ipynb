{
  "nbformat": 4,
  "nbformat_minor": 0,
  "metadata": {
    "colab": {
      "provenance": [],
      "authorship_tag": "ABX9TyPq0VuCKbxx1f5yV8i2zvI2",
      "include_colab_link": true
    },
    "kernelspec": {
      "name": "python3",
      "display_name": "Python 3"
    },
    "language_info": {
      "name": "python"
    }
  },
  "cells": [
    {
      "cell_type": "markdown",
      "metadata": {
        "id": "view-in-github",
        "colab_type": "text"
      },
      "source": [
        "<a href=\"https://colab.research.google.com/github/Kavu849/LeetCode/blob/main/704_binary_search.ipynb\" target=\"_parent\"><img src=\"https://colab.research.google.com/assets/colab-badge.svg\" alt=\"Open In Colab\"/></a>"
      ]
    },
    {
      "cell_type": "markdown",
      "source": [
        "First solution, a little messy. Time complexity: O(log_2(n))"
      ],
      "metadata": {
        "id": "MXiI2UR2lWTp"
      }
    },
    {
      "cell_type": "code",
      "source": [
        "class Solution(object):\n",
        "    def search(self, nums, target):\n",
        "        \"\"\"\n",
        "        :type nums: List[int]\n",
        "        :type target: int\n",
        "        :rtype: int\n",
        "        \"\"\"\n",
        "        if len(nums) == 1:\n",
        "            if nums[0] == target:\n",
        "                return 0\n",
        "            else:\n",
        "                return -1\n",
        "\n",
        "        l = 0\n",
        "        r = len(nums) - 1\n",
        "\n",
        "        while True:\n",
        "            if nums[l] == target:\n",
        "                return l\n",
        "            elif nums[r] == target:\n",
        "                return r\n",
        "            else:\n",
        "                middle = (l+r)//2\n",
        "                if nums[middle] == target:\n",
        "                    return middle\n",
        "                elif middle == l:\n",
        "                    return -1\n",
        "                elif nums[middle] < target:\n",
        "                    l = middle\n",
        "                else:\n",
        "                    r = middle"
      ],
      "metadata": {
        "id": "NV1z3thAgeLq"
      },
      "execution_count": null,
      "outputs": []
    },
    {
      "cell_type": "markdown",
      "source": [
        "Second solution, written in a neat way"
      ],
      "metadata": {
        "id": "PmYmYBbmldQL"
      }
    },
    {
      "cell_type": "code",
      "source": [
        "class Solution(object):\n",
        "    def search(self, nums, target):\n",
        "        \"\"\"\n",
        "        :type nums: List[int]\n",
        "        :type target: int\n",
        "        :rtype: int\n",
        "        \"\"\"\n",
        "        l, r = 0, len(nums) - 1\n",
        "\n",
        "        while l<=r:\n",
        "            middle = (l + r) // 2\n",
        "            if nums[middle] < target:\n",
        "                l = middle + 1\n",
        "            elif nums[middle] > target:\n",
        "                r = middle - 1\n",
        "            else:\n",
        "                return middle\n",
        "        return -1"
      ],
      "metadata": {
        "id": "s9ygy2bylgcn"
      },
      "execution_count": null,
      "outputs": []
    }
  ]
}