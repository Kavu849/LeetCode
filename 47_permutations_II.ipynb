{
  "nbformat": 4,
  "nbformat_minor": 0,
  "metadata": {
    "colab": {
      "provenance": [],
      "authorship_tag": "ABX9TyNapw+0nCTLuUqyPEhiHJsf",
      "include_colab_link": true
    },
    "kernelspec": {
      "name": "python3",
      "display_name": "Python 3"
    },
    "language_info": {
      "name": "python"
    }
  },
  "cells": [
    {
      "cell_type": "markdown",
      "metadata": {
        "id": "view-in-github",
        "colab_type": "text"
      },
      "source": [
        "<a href=\"https://colab.research.google.com/github/Kavu849/LeetCode_DSA/blob/main/47_permutations_II.ipynb\" target=\"_parent\"><img src=\"https://colab.research.google.com/assets/colab-badge.svg\" alt=\"Open In Colab\"/></a>"
      ]
    },
    {
      "cell_type": "markdown",
      "source": [
        "We ensure that no duplicate values are considered in the second if statement inside the for loop.\n",
        "\n",
        "Time complexity: O(n*n!)\n",
        "\n",
        "Extra space complexity: O(n*n!)"
      ],
      "metadata": {
        "id": "lQyLlLa9trvH"
      }
    },
    {
      "cell_type": "code",
      "execution_count": null,
      "metadata": {
        "id": "_-tQlZS8q292"
      },
      "outputs": [],
      "source": [
        "class Solution:\n",
        "    def permuteUnique(self, nums: List[int]) -> List[List[int]]:\n",
        "        used = [False for _ in range(len(nums))]\n",
        "        currPerm, perms = [], []\n",
        "        nums.sort()\n",
        "        self.helper(nums, used, currPerm, perms)\n",
        "        return perms\n",
        "\n",
        "    def helper(self, nums, used, currPerm, perms):\n",
        "        if len(currPerm) == len(nums):\n",
        "            perms.append(currPerm.copy())\n",
        "            return\n",
        "\n",
        "        for i in range(len(nums)):\n",
        "            if not used[i]:\n",
        "                if i > 0 and not used[i - 1] and nums[i] == nums[i - 1]: # this is crucial, especially the condition 'not used[i - 1]' is tricky to understand\n",
        "                    continue\n",
        "                currPerm.append(nums[i])\n",
        "                used[i] = True\n",
        "                self.helper(nums, used, currPerm, perms)\n",
        "                currPerm.pop()\n",
        "                used[i] = False\n",
        "\n"
      ]
    },
    {
      "cell_type": "markdown",
      "source": [
        "Second solution. We create a hashmap 'count' that counts occurences of every element in the list 'nums'. Then, we iterate over the keys of 'counts', which ensures that we do not add duplicate permutations.\n",
        "\n",
        "Time complexity: O(n*n!)\n",
        "\n",
        "Extra space complexity: O(n*n!)"
      ],
      "metadata": {
        "id": "SurvX7zpskG8"
      }
    },
    {
      "cell_type": "code",
      "source": [
        "class Solution:\n",
        "    def permuteUnique(self, nums: List[int]) -> List[List[int]]:\n",
        "        currPerm, perms = [], []\n",
        "        count = {}\n",
        "        for n in nums:\n",
        "            count[n] = 1 + count.get(n, 0)\n",
        "\n",
        "        def dfs():\n",
        "            if len(currPerm) == len(nums):\n",
        "                perms.append(currPerm.copy())\n",
        "                return\n",
        "\n",
        "            for n in count:\n",
        "                if count[n] > 0:\n",
        "                    currPerm.append(n)\n",
        "                    count[n] -= 1\n",
        "                    dfs()\n",
        "                    currPerm.pop()\n",
        "                    count[n] += 1\n",
        "\n",
        "        dfs()\n",
        "        return perms\n",
        ""
      ],
      "metadata": {
        "id": "vPFb0C1fskfy"
      },
      "execution_count": null,
      "outputs": []
    }
  ]
}