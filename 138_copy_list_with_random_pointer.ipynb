{
  "nbformat": 4,
  "nbformat_minor": 0,
  "metadata": {
    "colab": {
      "provenance": [],
      "authorship_tag": "ABX9TyOIuT+GqNwjLIconl0ViJG1",
      "include_colab_link": true
    },
    "kernelspec": {
      "name": "python3",
      "display_name": "Python 3"
    },
    "language_info": {
      "name": "python"
    }
  },
  "cells": [
    {
      "cell_type": "markdown",
      "metadata": {
        "id": "view-in-github",
        "colab_type": "text"
      },
      "source": [
        "<a href=\"https://colab.research.google.com/github/Kavu849/LeetCode_DSA/blob/main/138_copy_list_with_random_pointer.ipynb\" target=\"_parent\"><img src=\"https://colab.research.google.com/assets/colab-badge.svg\" alt=\"Open In Colab\"/></a>"
      ]
    },
    {
      "cell_type": "markdown",
      "source": [
        "Optimal solution. The tricks is to create an additional dictionary where the keys are the nodes of the original list and the values are their copies. We do that in the first pass. Then, in the second pass, we create links between the nodes using the dictionary.\n",
        "\n",
        "Time complexity: O(n)\n",
        "\n",
        "Extra space complexity: O(n)"
      ],
      "metadata": {
        "id": "0-YDnwID9Vh-"
      }
    },
    {
      "cell_type": "code",
      "execution_count": null,
      "metadata": {
        "id": "ybIedi-UjaB1"
      },
      "outputs": [],
      "source": [
        "\"\"\"\n",
        "# Definition for a Node.\n",
        "class Node:\n",
        "    def __init__(self, x: int, next: 'Node' = None, random: 'Node' = None):\n",
        "        self.val = int(x)\n",
        "        self.next = next\n",
        "        self.random = random\n",
        "\"\"\"\n",
        "\n",
        "class Solution:\n",
        "    def copyRandomList(self, head: 'Optional[Node]') -> 'Optional[Node]':\n",
        "        oldToCopy = {None: None}\n",
        "\n",
        "        curr = head\n",
        "        while curr:\n",
        "            copy = Node(curr.val)\n",
        "            oldToCopy[curr] = copy\n",
        "            curr = curr.next\n",
        "\n",
        "        curr = head\n",
        "        while curr:\n",
        "            copy = oldToCopy[curr]\n",
        "            copy.next = oldToCopy[curr.next]\n",
        "            copy.random = oldToCopy[curr.random]\n",
        "            curr = curr.next\n",
        "\n",
        "        return oldToCopy[head]"
      ]
    }
  ]
}