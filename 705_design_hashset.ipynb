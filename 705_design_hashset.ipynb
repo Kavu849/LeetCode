{
  "nbformat": 4,
  "nbformat_minor": 0,
  "metadata": {
    "colab": {
      "provenance": [],
      "authorship_tag": "ABX9TyOLR2ClDXVNc5X2CLBHmVWO",
      "include_colab_link": true
    },
    "kernelspec": {
      "name": "python3",
      "display_name": "Python 3"
    },
    "language_info": {
      "name": "python"
    }
  },
  "cells": [
    {
      "cell_type": "markdown",
      "metadata": {
        "id": "view-in-github",
        "colab_type": "text"
      },
      "source": [
        "<a href=\"https://colab.research.google.com/github/Kavu849/LeetCode_DSA/blob/main/705_design_hashset.ipynb\" target=\"_parent\"><img src=\"https://colab.research.google.com/assets/colab-badge.svg\" alt=\"Open In Colab\"/></a>"
      ]
    },
    {
      "cell_type": "markdown",
      "source": [
        "We use the fact that the values aded will be integers between 0 and 10^6. That way we can easily use indices to denote the keys.\n",
        "\n",
        "Time complexity: O(1)\n",
        "\n",
        "Extra space complexity: O(1)"
      ],
      "metadata": {
        "id": "ZZ53jXrFA7y1"
      }
    },
    {
      "cell_type": "code",
      "execution_count": null,
      "metadata": {
        "id": "agyIWSyxA6_x"
      },
      "outputs": [],
      "source": [
        "class MyHashSet:\n",
        "\n",
        "    def __init__(self):\n",
        "        self.hashset = [False]*1000001\n",
        "\n",
        "    def add(self, key: int) -> None:\n",
        "        self.hashset[key] = True\n",
        "\n",
        "    def remove(self, key: int) -> None:\n",
        "        self.hashset[key] = False\n",
        "\n",
        "    def contains(self, key: int) -> bool:\n",
        "        return self.hashset[key]\n",
        "\n",
        "\n",
        "# Your MyHashSet object will be instantiated and called as such:\n",
        "# obj = MyHashSet()\n",
        "# obj.add(key)\n",
        "# obj.remove(key)\n",
        "# param_3 = obj.contains(key)"
      ]
    }
  ]
}