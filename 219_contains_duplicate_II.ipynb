{
  "nbformat": 4,
  "nbformat_minor": 0,
  "metadata": {
    "colab": {
      "provenance": [],
      "authorship_tag": "ABX9TyMncEJgHpzWCA94dd4mPhm0",
      "include_colab_link": true
    },
    "kernelspec": {
      "name": "python3",
      "display_name": "Python 3"
    },
    "language_info": {
      "name": "python"
    }
  },
  "cells": [
    {
      "cell_type": "markdown",
      "metadata": {
        "id": "view-in-github",
        "colab_type": "text"
      },
      "source": [
        "<a href=\"https://colab.research.google.com/github/Kavu849/LeetCode_DSA/blob/main/219_contains_duplicate_II.ipynb\" target=\"_parent\"><img src=\"https://colab.research.google.com/assets/colab-badge.svg\" alt=\"Open In Colab\"/></a>"
      ]
    },
    {
      "cell_type": "markdown",
      "source": [
        "Standard sliding window algorithm.\n",
        "\n",
        "Time complexity: O(n)\n",
        "\n",
        "Extra space complexity: O(k)"
      ],
      "metadata": {
        "id": "6lBVszuWwt8Q"
      }
    },
    {
      "cell_type": "code",
      "execution_count": null,
      "metadata": {
        "id": "gXdxXnJDwtMl"
      },
      "outputs": [],
      "source": [
        "class Solution:\n",
        "    def containsNearbyDuplicate(self, nums: List[int], k: int) -> bool:\n",
        "        window = set()\n",
        "        l = 0\n",
        "\n",
        "        for r in range(len(nums)):\n",
        "            if (r - l) > k:\n",
        "                window.remove(nums[l])\n",
        "                l += 1\n",
        "\n",
        "            if nums[r] in window:\n",
        "                return True\n",
        "\n",
        "            window.add(nums[r])\n",
        "\n",
        "        return False"
      ]
    }
  ]
}