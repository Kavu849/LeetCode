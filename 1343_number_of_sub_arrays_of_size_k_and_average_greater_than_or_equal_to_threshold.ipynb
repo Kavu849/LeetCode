{
  "nbformat": 4,
  "nbformat_minor": 0,
  "metadata": {
    "colab": {
      "provenance": [],
      "authorship_tag": "ABX9TyNO8893DBkkV24ARlxFd4VI",
      "include_colab_link": true
    },
    "kernelspec": {
      "name": "python3",
      "display_name": "Python 3"
    },
    "language_info": {
      "name": "python"
    }
  },
  "cells": [
    {
      "cell_type": "markdown",
      "metadata": {
        "id": "view-in-github",
        "colab_type": "text"
      },
      "source": [
        "<a href=\"https://colab.research.google.com/github/Kavu849/LeetCode_DSA/blob/main/1343_number_of_sub_arrays_of_size_k_and_average_greater_than_or_equal_to_threshold.ipynb\" target=\"_parent\"><img src=\"https://colab.research.google.com/assets/colab-badge.svg\" alt=\"Open In Colab\"/></a>"
      ]
    },
    {
      "cell_type": "markdown",
      "source": [
        "First solution, optimal but a little too much code. The idea is a classic sliding window of size 'k'.\n",
        "\n",
        "Time complexity: O(n)\n",
        "\n",
        "Extra space complexity: O(1)"
      ],
      "metadata": {
        "id": "wGOIhIjP0fbJ"
      }
    },
    {
      "cell_type": "code",
      "execution_count": null,
      "metadata": {
        "id": "hJJriAhn0XcZ"
      },
      "outputs": [],
      "source": [
        "class Solution:\n",
        "    def numOfSubarrays(self, arr: List[int], k: int, threshold: int) -> int:\n",
        "        cur_sum, res = 0, 0\n",
        "        l = 0\n",
        "\n",
        "        for r in range(len(arr)):\n",
        "            if (r - l + 1) < k and l == 0:\n",
        "                cur_sum += arr[r]\n",
        "            else:\n",
        "                cur_sum += arr[r]\n",
        "                avg = cur_sum / k\n",
        "                if avg >= threshold: res += 1\n",
        "                cur_sum -= arr[l]\n",
        "                l += 1\n",
        "\n",
        "        return res"
      ]
    },
    {
      "cell_type": "markdown",
      "source": [
        "Same idea, cleaner code.\n",
        "\n",
        "Time complexity: O(n)\n",
        "\n",
        "Extra space complexity: O(1)"
      ],
      "metadata": {
        "id": "8tWSAuGZ2fr7"
      }
    },
    {
      "cell_type": "code",
      "source": [
        "class Solution:\n",
        "    def numOfSubarrays(self, arr: List[int], k: int, threshold: int) -> int:\n",
        "        res = 0\n",
        "        cur_sum = sum(arr[:k-1])\n",
        "\n",
        "        for l in range(len(arr) - k + 1):\n",
        "            cur_sum += arr[l + k - 1]\n",
        "            if (cur_sum / k) >= threshold:\n",
        "                res += 1\n",
        "            cur_sum -= arr[l]\n",
        "\n",
        "        return res"
      ],
      "metadata": {
        "id": "UjUPH3Um2jRe"
      },
      "execution_count": null,
      "outputs": []
    }
  ]
}