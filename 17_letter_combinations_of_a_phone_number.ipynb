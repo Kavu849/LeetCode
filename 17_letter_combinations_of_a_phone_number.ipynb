{
  "nbformat": 4,
  "nbformat_minor": 0,
  "metadata": {
    "colab": {
      "provenance": [],
      "authorship_tag": "ABX9TyOgJc67FcoFSTEDgInKsN/b",
      "include_colab_link": true
    },
    "kernelspec": {
      "name": "python3",
      "display_name": "Python 3"
    },
    "language_info": {
      "name": "python"
    }
  },
  "cells": [
    {
      "cell_type": "markdown",
      "metadata": {
        "id": "view-in-github",
        "colab_type": "text"
      },
      "source": [
        "<a href=\"https://colab.research.google.com/github/Kavu849/LeetCode_DSA/blob/main/17_letter_combinations_of_a_phone_number.ipynb\" target=\"_parent\"><img src=\"https://colab.research.google.com/assets/colab-badge.svg\" alt=\"Open In Colab\"/></a>"
      ]
    },
    {
      "cell_type": "markdown",
      "source": [
        "First solution. We use a backtracking approach and a dictionary with a correspondence of numbers to possible letters.\n",
        "\n",
        "Time complexity: O(4^n)\n",
        "\n",
        "Extra space complexity: O(4^n)"
      ],
      "metadata": {
        "id": "fl8XBwcTGROq"
      }
    },
    {
      "cell_type": "code",
      "execution_count": null,
      "metadata": {
        "id": "FAP-fQNAGQnZ"
      },
      "outputs": [],
      "source": [
        "class Solution:\n",
        "    def letterCombinations(self, digits: str) -> List[str]:\n",
        "        if digits == \"\": return []\n",
        "        dictNum2Letter = {'2': 'abc', '3': 'def', '4': 'ghi', '5': 'jkl', '6': 'mno', '7': 'pqrs', '8': 'tuv', '9': 'wxyz'}\n",
        "        currComb, combs = [], []\n",
        "        self.helper(0, digits, dictNum2Letter, currComb, combs)\n",
        "        return combs\n",
        "\n",
        "    def helper(self, i, digits, dictNum2Letter, currComb, combs):\n",
        "        if i >= len(digits):\n",
        "            combs.append(''.join(currComb.copy()))\n",
        "            return\n",
        "\n",
        "        for j in range(len(dictNum2Letter[digits[i]])):\n",
        "            currComb.append(dictNum2Letter[digits[i]][j])\n",
        "            self.helper(i + 1, digits, dictNum2Letter, currComb, combs)\n",
        "            currComb.pop()\n"
      ]
    },
    {
      "cell_type": "markdown",
      "source": [
        "Same idea, a little cleaner solution. We instead pass a string to the helper function, which is immutable. That means that we do not need to pop when the recursion exits. Same time/space complexities.\n",
        "\n",
        "Time complexity: O(4^n)\n",
        "\n",
        "Extra space complexity: O(4^n)"
      ],
      "metadata": {
        "id": "xPH4zxp2Jma9"
      }
    },
    {
      "cell_type": "code",
      "source": [
        "class Solution:\n",
        "    def letterCombinations(self, digits: str) -> List[str]:\n",
        "        dictNum2Letter = {'2': 'abc', '3': 'def', '4': 'ghi', '5': 'jkl', '6': 'mno', '7': 'pqrs', '8': 'tuv', '9': 'wxyz'}\n",
        "        res = []\n",
        "\n",
        "        if digits:\n",
        "            self.helper(0, \"\", digits, dictNum2Letter, res)\n",
        "\n",
        "        return res\n",
        "\n",
        "    def helper(self, i, currStr, digits, dictNum2Letter, res):\n",
        "        if len(currStr) == len(digits):\n",
        "            res.append(currStr)\n",
        "            return\n",
        "\n",
        "        for c in dictNum2Letter[digits[i]]:\n",
        "            self.helper(i + 1, currStr + c, digits, dictNum2Letter, res)\n",
        ""
      ],
      "metadata": {
        "id": "_UqRduN-J86k"
      },
      "execution_count": null,
      "outputs": []
    }
  ]
}