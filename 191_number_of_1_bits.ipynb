{
  "nbformat": 4,
  "nbformat_minor": 0,
  "metadata": {
    "colab": {
      "provenance": [],
      "authorship_tag": "ABX9TyN3zZnSqi+N9cWDgTIdMPl7",
      "include_colab_link": true
    },
    "kernelspec": {
      "name": "python3",
      "display_name": "Python 3"
    },
    "language_info": {
      "name": "python"
    }
  },
  "cells": [
    {
      "cell_type": "markdown",
      "metadata": {
        "id": "view-in-github",
        "colab_type": "text"
      },
      "source": [
        "<a href=\"https://colab.research.google.com/github/Kavu849/LeetCode_DSA/blob/main/191_number_of_1_bits.ipynb\" target=\"_parent\"><img src=\"https://colab.research.google.com/assets/colab-badge.svg\" alt=\"Open In Colab\"/></a>"
      ]
    },
    {
      "cell_type": "markdown",
      "source": [
        "Simple idea. Shift bits to the right (one bit at a time), and every time the last bit is a 1, increase the total by 1 (the check is done using (n & 1) == 1).\n",
        "\n",
        "Time complexity: O(1)\n",
        "\n",
        "Extra space complexity: O(1)"
      ],
      "metadata": {
        "id": "bta48mo700AC"
      }
    },
    {
      "cell_type": "code",
      "execution_count": null,
      "metadata": {
        "id": "BLwLwhc70y4r"
      },
      "outputs": [],
      "source": [
        "class Solution:\n",
        "    def hammingWeight(self, n: int) -> int:\n",
        "        total = 0\n",
        "        while n > 0:\n",
        "            if (n & 1) == 1:\n",
        "                total += 1\n",
        "            n = n >> 1\n",
        "        return total"
      ]
    },
    {
      "cell_type": "markdown",
      "source": [
        "Less straightforward, but clever solution. The idea is that if we subtract 1 from a given positive integer n, the result (in the binary representation) will have removed the next non-zero bit from n. Before that bit, now there will be 1s, and after that bit the number will be the same as the original number. Thus, when we apply & to n and (n - 1), the result will have the first nonzero bit of n equal to zero, before that bit there will be zeros, and after that bit will be the same representation as the original n. This means that the number of 1 bits of the original n is the number of such operations to perform.\n",
        "\n",
        "Time complexity: O(1)\n",
        "\n",
        "Extra space complexity: O(1)\n"
      ],
      "metadata": {
        "id": "R5ez09lB4VHJ"
      }
    },
    {
      "cell_type": "code",
      "source": [
        "class Solution:\n",
        "    def hammingWeight(self, n: int) -> int:\n",
        "        total = 0\n",
        "        while n > 0:\n",
        "            n = n & (n - 1)\n",
        "            total += 1\n",
        "        return total"
      ],
      "metadata": {
        "id": "s4vQsCuE4UwF"
      },
      "execution_count": null,
      "outputs": []
    }
  ]
}