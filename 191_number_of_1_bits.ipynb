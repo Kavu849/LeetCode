{
  "nbformat": 4,
  "nbformat_minor": 0,
  "metadata": {
    "colab": {
      "provenance": [],
      "authorship_tag": "ABX9TyO/gK6KbMnZIgxnNKOFh/AA",
      "include_colab_link": true
    },
    "kernelspec": {
      "name": "python3",
      "display_name": "Python 3"
    },
    "language_info": {
      "name": "python"
    }
  },
  "cells": [
    {
      "cell_type": "markdown",
      "metadata": {
        "id": "view-in-github",
        "colab_type": "text"
      },
      "source": [
        "<a href=\"https://colab.research.google.com/github/Kavu849/LeetCode_DSA/blob/main/191_number_of_1_bits.ipynb\" target=\"_parent\"><img src=\"https://colab.research.google.com/assets/colab-badge.svg\" alt=\"Open In Colab\"/></a>"
      ]
    },
    {
      "cell_type": "markdown",
      "source": [
        "Simple idea. Shift bits to the right (one bit at a time), and every time the last bit is a 1, increase the total by 1 (the check is done using (n & 1) == 1).\n",
        "\n",
        "Time complexity: O(1)\n",
        "\n",
        "Extra space complexity: O(1)"
      ],
      "metadata": {
        "id": "bta48mo700AC"
      }
    },
    {
      "cell_type": "code",
      "execution_count": null,
      "metadata": {
        "id": "BLwLwhc70y4r"
      },
      "outputs": [],
      "source": [
        "class Solution:\n",
        "    def hammingWeight(self, n: int) -> int:\n",
        "        total = 0\n",
        "        while n > 0:\n",
        "            if (n & 1) == 1:\n",
        "                total += 1\n",
        "            n = n >> 1\n",
        "        return total"
      ]
    }
  ]
}