{
  "nbformat": 4,
  "nbformat_minor": 0,
  "metadata": {
    "colab": {
      "provenance": [],
      "authorship_tag": "ABX9TyMV1w3+EC/ThtzgZe63cVz6",
      "include_colab_link": true
    },
    "kernelspec": {
      "name": "python3",
      "display_name": "Python 3"
    },
    "language_info": {
      "name": "python"
    }
  },
  "cells": [
    {
      "cell_type": "markdown",
      "metadata": {
        "id": "view-in-github",
        "colab_type": "text"
      },
      "source": [
        "<a href=\"https://colab.research.google.com/github/Kavu849/LeetCode_DSA/blob/main/211_design_add_and_search_words_data_structure.ipynb\" target=\"_parent\"><img src=\"https://colab.research.google.com/assets/colab-badge.svg\" alt=\"Open In Colab\"/></a>"
      ]
    },
    {
      "cell_type": "markdown",
      "source": [
        "A little tricky solution. We use a Trie (hence we add the class 'TrieNode'). The 'addWord' method works the same as usual. The 'search' method contains the definition of the helper function called 'dfs'. It searches for the given word letter by letter, but if it encounters a '.', it performs the dfs on all the children of the current node.\n",
        "\n",
        "Time complexity: O(m) for 'addWord', where m is the length of the word, O(n) for 'search' (in the worst case), where n is the number of nodes in the trie\n",
        "\n",
        "Space complexity: O(m) for 'addWord', where m is the length of the word, but O(m*n) if we add the total of n words with m letters on average. O(n + m) for 'search', where n is the number of nodes in the trie and m is the depth of the recursion stack"
      ],
      "metadata": {
        "id": "QNaOCSpzel2g"
      }
    },
    {
      "cell_type": "code",
      "execution_count": null,
      "metadata": {
        "id": "9M5LU8wxdM5_"
      },
      "outputs": [],
      "source": [
        "class TrieNode:\n",
        "    def __init__(self):\n",
        "        self.children = {}\n",
        "        self.endOfWord = False\n",
        "\n",
        "class WordDictionary:\n",
        "\n",
        "    def __init__(self):\n",
        "        self.root = TrieNode()\n",
        "\n",
        "    def addWord(self, word: str) -> None:\n",
        "        curr = self.root\n",
        "        for c in word:\n",
        "            if c not in curr.children:\n",
        "                curr.children[c] = TrieNode()\n",
        "            curr = curr.children[c]\n",
        "        curr.endOfWord = True\n",
        "\n",
        "    def search(self, word: str) -> bool:\n",
        "\n",
        "        def dfs(j, root):\n",
        "            curr = root\n",
        "            for i in range(j, len(word)):\n",
        "                c = word[i]\n",
        "                if c == \".\":\n",
        "                    for child in curr.children.values():\n",
        "                        if dfs(i + 1, child):\n",
        "                            return True\n",
        "                    return False\n",
        "                else:\n",
        "                    if c not in curr.children:\n",
        "                        return False\n",
        "                    curr = curr.children[c]\n",
        "            return curr.endOfWord\n",
        "\n",
        "        return dfs(0, self.root)\n",
        "\n",
        "\n",
        "# Your WordDictionary object will be instantiated and called as such:\n",
        "# obj = WordDictionary()\n",
        "# obj.addWord(word)\n",
        "# param_2 = obj.search(word)"
      ]
    }
  ]
}