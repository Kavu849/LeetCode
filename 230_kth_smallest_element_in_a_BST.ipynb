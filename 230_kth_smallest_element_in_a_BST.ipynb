{
  "nbformat": 4,
  "nbformat_minor": 0,
  "metadata": {
    "colab": {
      "provenance": [],
      "authorship_tag": "ABX9TyMmBksSoFQF7lKeoDQs1DN9",
      "include_colab_link": true
    },
    "kernelspec": {
      "name": "python3",
      "display_name": "Python 3"
    },
    "language_info": {
      "name": "python"
    }
  },
  "cells": [
    {
      "cell_type": "markdown",
      "metadata": {
        "id": "view-in-github",
        "colab_type": "text"
      },
      "source": [
        "<a href=\"https://colab.research.google.com/github/Kavu849/LeetCode_DSA/blob/main/230_kth_smallest_element_in_a_BST.ipynb\" target=\"_parent\"><img src=\"https://colab.research.google.com/assets/colab-badge.svg\" alt=\"Open In Colab\"/></a>"
      ]
    },
    {
      "cell_type": "markdown",
      "source": [
        "First solution, simplistic approach. Use inorder traversal to create the list of node values. Then, take the kth element of that list and return it.\n",
        "\n",
        "Time complexity: O(n)\n",
        "\n",
        "Extra space complexity: O(n)"
      ],
      "metadata": {
        "id": "VSOdmtS44qlU"
      }
    },
    {
      "cell_type": "code",
      "execution_count": null,
      "metadata": {
        "id": "DexcSVZN4p6Q"
      },
      "outputs": [],
      "source": [
        "# Definition for a binary tree node.\n",
        "# class TreeNode:\n",
        "#     def __init__(self, val=0, left=None, right=None):\n",
        "#         self.val = val\n",
        "#         self.left = left\n",
        "#         self.right = right\n",
        "class Solution:\n",
        "    def kthSmallest(self, root: Optional[TreeNode], k: int) -> int:\n",
        "        # we need to do inorder traversal, since in the case of a BST this would give the nodes in nondecreasing order\n",
        "        nodes = []\n",
        "        # simplistic approach\n",
        "        def dfs_inorder(node):\n",
        "            if node is None:\n",
        "                return\n",
        "\n",
        "            dfs_inorder(node.left)\n",
        "            nodes.append(node.val)\n",
        "            dfs_inorder(node.right)\n",
        "\n",
        "        dfs_inorder(root)\n",
        "        return nodes[k-1]"
      ]
    },
    {
      "cell_type": "markdown",
      "source": [
        "Second solution, done more efficiently. Same idea as dfs but we traverse the tree iteratively instead of recursively (using a stack).\n",
        "\n",
        "Time complexity: O(n)\n",
        "\n",
        "Extra space complexity: O(h), where 'h' is the height of the tree"
      ],
      "metadata": {
        "id": "GPl4sIJX9kYT"
      }
    },
    {
      "cell_type": "code",
      "source": [
        "# Definition for a binary tree node.\n",
        "# class TreeNode:\n",
        "#     def __init__(self, val=0, left=None, right=None):\n",
        "#         self.val = val\n",
        "#         self.left = left\n",
        "#         self.right = right\n",
        "class Solution:\n",
        "    def kthSmallest(self, root: Optional[TreeNode], k: int) -> int:\n",
        "        stack = []\n",
        "        curr = root\n",
        "        popped = 0\n",
        "\n",
        "        while stack or curr:\n",
        "            while curr:\n",
        "                stack.append(curr)\n",
        "                curr = curr.left\n",
        "            curr = stack.pop()\n",
        "            popped += 1\n",
        "            if popped == k: return curr.val\n",
        "            curr = curr.right"
      ],
      "metadata": {
        "id": "uvjOtYq09uGw"
      },
      "execution_count": null,
      "outputs": []
    }
  ]
}