{
  "nbformat": 4,
  "nbformat_minor": 0,
  "metadata": {
    "colab": {
      "provenance": [],
      "authorship_tag": "ABX9TyPQwTBjSuaaFkDWx/7Q7xbP",
      "include_colab_link": true
    },
    "kernelspec": {
      "name": "python3",
      "display_name": "Python 3"
    },
    "language_info": {
      "name": "python"
    }
  },
  "cells": [
    {
      "cell_type": "markdown",
      "metadata": {
        "id": "view-in-github",
        "colab_type": "text"
      },
      "source": [
        "<a href=\"https://colab.research.google.com/github/Kavu849/LeetCode_DSA/blob/main/1046_last_stone_weight.ipynb\" target=\"_parent\"><img src=\"https://colab.research.google.com/assets/colab-badge.svg\" alt=\"Open In Colab\"/></a>"
      ]
    },
    {
      "cell_type": "markdown",
      "source": [
        "Straightforward maxHeap approach. Note that we use the built-in Python heap strcuture, which by default is a minHeap. That is why we include the '-s' in the definition.\n",
        "\n",
        "Time complexity: O(nlogn)\n",
        "\n",
        "Extra space complexity: O(n)"
      ],
      "metadata": {
        "id": "TCiYKkXu2UFb"
      }
    },
    {
      "cell_type": "code",
      "execution_count": null,
      "metadata": {
        "id": "dWlhEJ7m2Szg"
      },
      "outputs": [],
      "source": [
        "class Solution:\n",
        "    def lastStoneWeight(self, stones: List[int]) -> int:\n",
        "        # create a maxHeap with -s as by defauly Python implements a minHeap\n",
        "        stone_heap = [-s for s in stones]\n",
        "        heapq.heapify(stone_heap)\n",
        "\n",
        "        while len(stone_heap) > 1:\n",
        "            s1 = heapq.heappop(stone_heap)\n",
        "            s2 = heapq.heappop(stone_heap)\n",
        "\n",
        "            if s1 != s2:\n",
        "                heapq.heappush(stone_heap, -abs(s1 - s2))\n",
        "\n",
        "        if len(stone_heap) == 0:\n",
        "            return 0\n",
        "        else:\n",
        "            return -stone_heap[0]"
      ]
    }
  ]
}