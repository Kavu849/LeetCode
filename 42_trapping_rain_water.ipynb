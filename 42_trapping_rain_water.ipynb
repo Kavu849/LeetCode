{
  "nbformat": 4,
  "nbformat_minor": 0,
  "metadata": {
    "colab": {
      "provenance": [],
      "authorship_tag": "ABX9TyO59U8VHkwOk7WEvFyVDbOw",
      "include_colab_link": true
    },
    "kernelspec": {
      "name": "python3",
      "display_name": "Python 3"
    },
    "language_info": {
      "name": "python"
    }
  },
  "cells": [
    {
      "cell_type": "markdown",
      "metadata": {
        "id": "view-in-github",
        "colab_type": "text"
      },
      "source": [
        "<a href=\"https://colab.research.google.com/github/Kavu849/LeetCode/blob/main/42_trapping_rain_water.ipynb\" target=\"_parent\"><img src=\"https://colab.research.google.com/assets/colab-badge.svg\" alt=\"Open In Colab\"/></a>"
      ]
    },
    {
      "cell_type": "markdown",
      "source": [
        "First solution, time complexity O(n), space complexity O(n)"
      ],
      "metadata": {
        "id": "OFsh2Lwf1lFv"
      }
    },
    {
      "cell_type": "code",
      "source": [
        "class Solution(object):\n",
        "    def trap(self, height):\n",
        "        \"\"\"\n",
        "        :type height: List[int]\n",
        "        :rtype: int\n",
        "        \"\"\"\n",
        "        # for any position 'i' in the array height, we need to know the maximum height to the left and to the right of 'i'. Then, we take the minimum between the two. The water trapped in position 'i' is the difference between that minimum and the height at 'i'.\n",
        "\n",
        "        left_max = [0] * len(height)\n",
        "        right_max = [0] * len(height)\n",
        "\n",
        "        left_max[0] = height[0]\n",
        "        right_max[-1] = height[-1]\n",
        "\n",
        "        for i in range(1, len(height)):\n",
        "            left_max[i] = max(height[i-1], left_max[i-1])\n",
        "            right_max[-(i+1)] = max(height[-i], right_max[-i])\n",
        "\n",
        "        total = 0\n",
        "\n",
        "        for i in range(len(height)):\n",
        "            trapped = min(left_max[i], right_max[i]) - height[i]\n",
        "            if trapped > 0:\n",
        "                total += trapped\n",
        "        return total\n",
        "\n"
      ],
      "metadata": {
        "id": "UCi1-FXHzqp0"
      },
      "execution_count": null,
      "outputs": []
    },
    {
      "cell_type": "markdown",
      "source": [
        "Second solution using two pointers, time complexity O(n), but space complexity O(1)"
      ],
      "metadata": {
        "id": "HwhMwyepNMfv"
      }
    },
    {
      "cell_type": "code",
      "source": [
        "class Solution(object):\n",
        "    def trap(self, height):\n",
        "        \"\"\"\n",
        "        :type height: List[int]\n",
        "        :rtype: int\n",
        "        \"\"\"\n",
        "        # solution with two pointers, no need to store extra memory for max tables\n",
        "        total = 0\n",
        "        l = 0\n",
        "        r = len(height) - 1\n",
        "        max_l = height[0]\n",
        "        max_r = height[-1]\n",
        "\n",
        "        while l < r:\n",
        "            if max_l <= max_r:\n",
        "                l += 1\n",
        "                trapped = max_l - height[l]\n",
        "                if trapped > 0:\n",
        "                    total += trapped\n",
        "                max_l = max(max_l, height[l])\n",
        "            else:\n",
        "                r -= 1\n",
        "                trapped = max_r - height[r]\n",
        "                if trapped > 0:\n",
        "                    total += trapped\n",
        "                max_r = max(max_r, height[r])\n",
        "        return total"
      ],
      "metadata": {
        "id": "XA8NFYAnNTwV"
      },
      "execution_count": null,
      "outputs": []
    }
  ]
}