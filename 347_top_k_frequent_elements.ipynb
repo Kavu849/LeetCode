{
  "nbformat": 4,
  "nbformat_minor": 0,
  "metadata": {
    "colab": {
      "provenance": [],
      "authorship_tag": "ABX9TyM7jo4ATlZBQRzJSb+OCs5w",
      "include_colab_link": true
    },
    "kernelspec": {
      "name": "python3",
      "display_name": "Python 3"
    },
    "language_info": {
      "name": "python"
    }
  },
  "cells": [
    {
      "cell_type": "markdown",
      "metadata": {
        "id": "view-in-github",
        "colab_type": "text"
      },
      "source": [
        "<a href=\"https://colab.research.google.com/github/Kavu849/LeetCode/blob/main/347_top_k_frequent_elements.ipynb\" target=\"_parent\"><img src=\"https://colab.research.google.com/assets/colab-badge.svg\" alt=\"Open In Colab\"/></a>"
      ]
    },
    {
      "cell_type": "markdown",
      "source": [
        "First solution, time complexity O(n*k)"
      ],
      "metadata": {
        "id": "5TwFpjWd7mmn"
      }
    },
    {
      "cell_type": "code",
      "source": [
        "class Solution(object):\n",
        "    def topKFrequent(self, nums, k):\n",
        "        \"\"\"\n",
        "        :type nums: List[int]\n",
        "        :type k: int\n",
        "        :rtype: List[int]\n",
        "        \"\"\"\n",
        "        counts = {}\n",
        "        output = []\n",
        "\n",
        "        for i in range(len(nums)):\n",
        "            counts[nums[i]] = 1 + counts.get(nums[i], 0)\n",
        "\n",
        "        for i in range(k):\n",
        "            key = max(counts, key=counts.get)\n",
        "            output.append(key)\n",
        "            del counts[key]\n",
        "        return output"
      ],
      "metadata": {
        "id": "in90Gifz7pEO"
      },
      "execution_count": null,
      "outputs": []
    },
    {
      "cell_type": "markdown",
      "source": [
        "Second solution. The idea is that first we create a dictionary with counts of elements in nums. Then, we create the 'freq' list where the index of freq corresponds to the frequency of the given element and the elements are lists of numbers with the given frequencies. Then, we iterate the frequencies list starting from the last element (i.e., the most frequent one), possibly empty, adding the existing elements to the 'output' variable, and terminating this process once the length of the output reaches 'k'. Time complexity: O(n)."
      ],
      "metadata": {
        "id": "R6J0Ef4d5rCe"
      }
    },
    {
      "cell_type": "code",
      "source": [
        "class Solution(object):\n",
        "    def topKFrequent(self, nums, k):\n",
        "        \"\"\"\n",
        "        :type nums: List[int]\n",
        "        :type k: int\n",
        "        :rtype: List[int]\n",
        "        \"\"\"\n",
        "        counts = {}\n",
        "        freq = [[] for i in range(len(nums) + 1)]\n",
        "\n",
        "        for i in range(len(nums)):\n",
        "            counts[nums[i]] = 1 + counts.get(nums[i], 0)\n",
        "\n",
        "        for key, val in counts.items():\n",
        "            freq[val].append(key)\n",
        "\n",
        "        output = []\n",
        "        for i in range(len(freq)-1, 0, -1):\n",
        "            for j in freq[i]:\n",
        "                output.append(j)\n",
        "                print(output, len(output))\n",
        "                if len(output) == k:\n",
        "                    return output"
      ],
      "metadata": {
        "id": "w1Mr29Rj5-vR"
      },
      "execution_count": null,
      "outputs": []
    }
  ]
}