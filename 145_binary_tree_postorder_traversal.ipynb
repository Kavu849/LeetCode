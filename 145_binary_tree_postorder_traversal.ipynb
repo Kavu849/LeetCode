{
  "nbformat": 4,
  "nbformat_minor": 0,
  "metadata": {
    "colab": {
      "provenance": [],
      "authorship_tag": "ABX9TyPc6Q5N/V/D3q23aEEOy/OY",
      "include_colab_link": true
    },
    "kernelspec": {
      "name": "python3",
      "display_name": "Python 3"
    },
    "language_info": {
      "name": "python"
    }
  },
  "cells": [
    {
      "cell_type": "markdown",
      "metadata": {
        "id": "view-in-github",
        "colab_type": "text"
      },
      "source": [
        "<a href=\"https://colab.research.google.com/github/Kavu849/LeetCode_DSA/blob/main/145_binary_tree_postorder_traversal.ipynb\" target=\"_parent\"><img src=\"https://colab.research.google.com/assets/colab-badge.svg\" alt=\"Open In Colab\"/></a>"
      ]
    },
    {
      "cell_type": "markdown",
      "source": [
        "Standard recursive solution.\n",
        "\n",
        "Time complexity: O(n)\n",
        "\n",
        "Extra space complexity: O(h), where h is the height of the tree"
      ],
      "metadata": {
        "id": "Bh-Ofb21uTyL"
      }
    },
    {
      "cell_type": "code",
      "execution_count": null,
      "metadata": {
        "id": "1IzarpCfl_9Y"
      },
      "outputs": [],
      "source": [
        "# Definition for a binary tree node.\n",
        "# class TreeNode:\n",
        "#     def __init__(self, val=0, left=None, right=None):\n",
        "#         self.val = val\n",
        "#         self.left = left\n",
        "#         self.right = right\n",
        "class Solution:\n",
        "    def postorderTraversal(self, root: Optional[TreeNode]) -> List[int]:\n",
        "        res = []\n",
        "\n",
        "        def dfs(root):\n",
        "            if root is None:\n",
        "                return\n",
        "\n",
        "            dfs(root.left)\n",
        "            dfs(root.right)\n",
        "            res.append(root.val)\n",
        "\n",
        "        dfs(root)\n",
        "        return res"
      ]
    },
    {
      "cell_type": "markdown",
      "source": [
        "Iterative solution. We use two stacks, where the second one will indicate whether the node has been visited yet or not. If it has been visited, then we will add its value to the res. If it hasn't, then we will add it back to the node stack (and add 'True' to the visited stack), and we will ad its right and left children (if they are not Null).\n",
        "\n",
        "Time complexity: O(n)\n",
        "\n",
        "Extra space complexity: O(h), where h is the height of the tree"
      ],
      "metadata": {
        "id": "heowv4aOucdU"
      }
    },
    {
      "cell_type": "code",
      "source": [
        "# Definition for a binary tree node.\n",
        "# class TreeNode:\n",
        "#     def __init__(self, val=0, left=None, right=None):\n",
        "#         self.val = val\n",
        "#         self.left = left\n",
        "#         self.right = right\n",
        "class Solution:\n",
        "    def postorderTraversal(self, root: Optional[TreeNode]) -> List[int]:\n",
        "        if root is None: return\n",
        "        res, stack = [], [root]\n",
        "        visited = [False]\n",
        "\n",
        "        while stack:\n",
        "            curr, visit = stack.pop(), visited.pop()\n",
        "            if visit:\n",
        "                res.append(curr.val)\n",
        "            else:\n",
        "                stack.append(curr)\n",
        "                visited.append(True)\n",
        "                if curr.right:\n",
        "                    stack.append(curr.right)\n",
        "                    visited.append(False)\n",
        "                if curr.left:\n",
        "                    stack.append(curr.left)\n",
        "                    visited.append(False)\n",
        "\n",
        "        return res"
      ],
      "metadata": {
        "id": "q5vEWvAGvNQZ"
      },
      "execution_count": null,
      "outputs": []
    }
  ]
}