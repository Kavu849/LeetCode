{
  "nbformat": 4,
  "nbformat_minor": 0,
  "metadata": {
    "colab": {
      "provenance": [],
      "authorship_tag": "ABX9TyPaLE+HQTUHOBNj/lwoWeDD",
      "include_colab_link": true
    },
    "kernelspec": {
      "name": "python3",
      "display_name": "Python 3"
    },
    "language_info": {
      "name": "python"
    }
  },
  "cells": [
    {
      "cell_type": "markdown",
      "metadata": {
        "id": "view-in-github",
        "colab_type": "text"
      },
      "source": [
        "<a href=\"https://colab.research.google.com/github/Kavu849/LeetCode_DSA/blob/main/39_combination_sum.ipynb\" target=\"_parent\"><img src=\"https://colab.research.google.com/assets/colab-badge.svg\" alt=\"Open In Colab\"/></a>"
      ]
    },
    {
      "cell_type": "markdown",
      "source": [
        "Solution using backtracking. Time complexity: O(2^target)"
      ],
      "metadata": {
        "id": "ohELFZ4CgXVO"
      }
    },
    {
      "cell_type": "code",
      "execution_count": null,
      "metadata": {
        "id": "yyTubCmuKvGg"
      },
      "outputs": [],
      "source": [
        "class Solution:\n",
        "    def combinationSum(self, candidates: List[int], target: int) -> List[List[int]]:\n",
        "        res = []\n",
        "        subs = []\n",
        "\n",
        "        def dfs(i):\n",
        "            # stoppping criterion\n",
        "            if sum(subs) == target:\n",
        "                res.append(subs.copy())\n",
        "                return\n",
        "            elif sum(subs) > target:\n",
        "                return\n",
        "            elif i >= len(candidates):\n",
        "                return\n",
        "\n",
        "            # continue adding same number\n",
        "            subs.append(candidates[i])\n",
        "            dfs(i)\n",
        "\n",
        "            # dont add the number\n",
        "            subs.pop()\n",
        "            dfs(i+1)\n",
        "\n",
        "        dfs(0)\n",
        "        return res"
      ]
    }
  ]
}