{
  "nbformat": 4,
  "nbformat_minor": 0,
  "metadata": {
    "colab": {
      "provenance": [],
      "authorship_tag": "ABX9TyN38lIkwXWY608AliPca66W",
      "include_colab_link": true
    },
    "kernelspec": {
      "name": "python3",
      "display_name": "Python 3"
    },
    "language_info": {
      "name": "python"
    }
  },
  "cells": [
    {
      "cell_type": "markdown",
      "metadata": {
        "id": "view-in-github",
        "colab_type": "text"
      },
      "source": [
        "<a href=\"https://colab.research.google.com/github/Kavu849/LeetCode_DSA/blob/main/853_car_fleet.ipynb\" target=\"_parent\"><img src=\"https://colab.research.google.com/assets/colab-badge.svg\" alt=\"Open In Colab\"/></a>"
      ]
    },
    {
      "cell_type": "markdown",
      "source": [
        "First solution using stacks. The idea is to make a stack of times of arrival. We pop from the stack (i.e., two cars become one fleet) if the time of arrival of the next car is smaller than the time of arrival of the previous car. We traverse the sorted list of positions in reverse order. Time complexity O(n) + O(nlogn) = O(nlog) (because of sorting)."
      ],
      "metadata": {
        "id": "6u_si6E8q8Ie"
      }
    },
    {
      "cell_type": "code",
      "execution_count": null,
      "metadata": {
        "id": "eqni6JcaYY6u"
      },
      "outputs": [],
      "source": [
        "class Solution:\n",
        "    def carFleet(self, target: int, position: List[int], speed: List[int]) -> int:\n",
        "        pair = [[p,s] for p,s in zip(position, speed)]\n",
        "        stack = []\n",
        "\n",
        "        # time_of_arrival = (target - position)/speed\n",
        "\n",
        "        for p, s in sorted(pair)[::-1]: #reversed order\n",
        "            stack.append((target - p)/s)\n",
        "            if len(stack) >= 2 and stack[-1] <= stack[-2]:\n",
        "                stack.pop()\n",
        "        return len(stack)\n"
      ]
    }
  ]
}