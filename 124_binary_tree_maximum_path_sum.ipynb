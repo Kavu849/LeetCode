{
  "nbformat": 4,
  "nbformat_minor": 0,
  "metadata": {
    "colab": {
      "provenance": [],
      "authorship_tag": "ABX9TyPAi0sMkVej23OKr8sB4Ghx",
      "include_colab_link": true
    },
    "kernelspec": {
      "name": "python3",
      "display_name": "Python 3"
    },
    "language_info": {
      "name": "python"
    }
  },
  "cells": [
    {
      "cell_type": "markdown",
      "metadata": {
        "id": "view-in-github",
        "colab_type": "text"
      },
      "source": [
        "<a href=\"https://colab.research.google.com/github/Kavu849/LeetCode_DSA/blob/main/124_binary_tree_maximum_path_sum.ipynb\" target=\"_parent\"><img src=\"https://colab.research.google.com/assets/colab-badge.svg\" alt=\"Open In Colab\"/></a>"
      ]
    },
    {
      "cell_type": "markdown",
      "source": [
        "Optimal recursive solution. We perform dfs and at each step calculate the max sum when we include the node value and the max values from the left and right subtrees. Read the comment in the end for a more in-depth explanation.\n",
        "\n",
        "Time complexity: O(n)\n",
        "\n",
        "Extra space complexity: O(h), where 'h' is the height of the tree"
      ],
      "metadata": {
        "id": "m4miXVb50wSD"
      }
    },
    {
      "cell_type": "code",
      "execution_count": null,
      "metadata": {
        "id": "wVRxUWcC0vrJ"
      },
      "outputs": [],
      "source": [
        "# Definition for a binary tree node.\n",
        "# class TreeNode:\n",
        "#     def __init__(self, val=0, left=None, right=None):\n",
        "#         self.val = val\n",
        "#         self.left = left\n",
        "#         self.right = right\n",
        "class Solution:\n",
        "    def maxPathSum(self, root: Optional[TreeNode]) -> int:\n",
        "        res = float('-inf')\n",
        "\n",
        "        def dfs(root):\n",
        "            nonlocal res\n",
        "            # stopping condition\n",
        "            if root is None:\n",
        "                return 0\n",
        "\n",
        "            # branching\n",
        "            maxleft = dfs(root.left)\n",
        "            maxright = dfs(root.right)\n",
        "            # could happen that left and right subtrees result in negative values; in that case don't include them\n",
        "            maxleft = max(maxleft, 0)\n",
        "            maxright = max(maxright, 0)\n",
        "\n",
        "            # possibly update the result to the value obtained by including the root and its children\n",
        "            res = max(res, root.val + maxleft + maxright)\n",
        "\n",
        "            # the return value is the value that we get if we don't include both children in the max path, i.e., we will not split\n",
        "            # this is because if we want to include a child of the given node, then the children of that child cannot split !! (*)\n",
        "            return root.val + max(maxleft, maxright)\n",
        "\n",
        "        dfs(root)\n",
        "        return res\n",
        "\n",
        "        # (*) to understand it better, consider the following tree:\n",
        "        #        10\n",
        "        #       /  \\\n",
        "        #     9     20\n",
        "        #          /  \\\n",
        "        #         15   7\n",
        "        #\n",
        "        # Now, the function dfs called on the root (node 10) will call itself on nodes 9 and 20. The value that dfs should return when its called on node 20 should be\n",
        "        # the value of path without splitting, since if we split, we can no longer include the root 10 in the path. Perhaps we do not need to include 10 at all, but the case\n",
        "        # of not including the root is handled during the max(res, root.val + maxleft + maxright) step (when in this case root=20 <-- you can observe what happens when you change 10 to -10)"
      ]
    }
  ]
}